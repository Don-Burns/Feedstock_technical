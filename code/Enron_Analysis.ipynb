{
 "cells": [
  {
   "cell_type": "markdown",
   "metadata": {
    "toc": true
   },
   "source": [
    "<h1>Table of Contents<span class=\"tocSkip\"></span></h1>\n",
    "<div class=\"toc\"><ul class=\"toc-item\"><li><span><a href=\"#Summary\" data-toc-modified-id=\"Summary-1\"><span class=\"toc-item-num\">1&nbsp;&nbsp;</span>Summary</a></span><ul class=\"toc-item\"><li><span><a href=\"#Pre-processing-and-Clean-up\" data-toc-modified-id=\"Pre-processing-and-Clean-up-1.1\"><span class=\"toc-item-num\">1.1&nbsp;&nbsp;</span>Pre-processing and Clean-up</a></span></li><li><span><a href=\"#Analysing-The-Dataset\" data-toc-modified-id=\"Analysing-The-Dataset-1.2\"><span class=\"toc-item-num\">1.2&nbsp;&nbsp;</span>Analysing The Dataset</a></span></li><li><span><a href=\"#Limitations\" data-toc-modified-id=\"Limitations-1.3\"><span class=\"toc-item-num\">1.3&nbsp;&nbsp;</span>Limitations</a></span></li></ul></li><li><span><a href=\"#Dependencies\" data-toc-modified-id=\"Dependencies-2\"><span class=\"toc-item-num\">2&nbsp;&nbsp;</span>Dependencies</a></span></li><li><span><a href=\"#Goal\" data-toc-modified-id=\"Goal-3\"><span class=\"toc-item-num\">3&nbsp;&nbsp;</span>Goal</a></span></li><li><span><a href=\"#Functions\" data-toc-modified-id=\"Functions-4\"><span class=\"toc-item-num\">4&nbsp;&nbsp;</span>Functions</a></span></li><li><span><a href=\"#Tokenise-Email-Bodies\" data-toc-modified-id=\"Tokenise-Email-Bodies-5\"><span class=\"toc-item-num\">5&nbsp;&nbsp;</span>Tokenise Email Bodies</a></span><ul class=\"toc-item\"><li><span><a href=\"#Lemmatisation\" data-toc-modified-id=\"Lemmatisation-5.1\"><span class=\"toc-item-num\">5.1&nbsp;&nbsp;</span>Lemmatisation</a></span></li><li><span><a href=\"#Bigrams\" data-toc-modified-id=\"Bigrams-5.2\"><span class=\"toc-item-num\">5.2&nbsp;&nbsp;</span>Bigrams</a></span></li></ul></li><li><span><a href=\"#Construct-the-Corpus-and-LDA-model\" data-toc-modified-id=\"Construct-the-Corpus-and-LDA-model-6\"><span class=\"toc-item-num\">6&nbsp;&nbsp;</span>Construct the Corpus and LDA model</a></span><ul class=\"toc-item\"><li><span><a href=\"#construct-the-LDA-model\" data-toc-modified-id=\"construct-the-LDA-model-6.1\"><span class=\"toc-item-num\">6.1&nbsp;&nbsp;</span>construct the LDA model</a></span><ul class=\"toc-item\"><li><span><a href=\"#Perplexity-and-Coherence\" data-toc-modified-id=\"Perplexity-and-Coherence-6.1.1\"><span class=\"toc-item-num\">6.1.1&nbsp;&nbsp;</span>Perplexity and Coherence</a></span></li></ul></li></ul></li><li><span><a href=\"#Finding-Best-Number-of-Topics\" data-toc-modified-id=\"Finding-Best-Number-of-Topics-7\"><span class=\"toc-item-num\">7&nbsp;&nbsp;</span>Finding Best Number of Topics</a></span></li><li><span><a href=\"#Results\" data-toc-modified-id=\"Results-8\"><span class=\"toc-item-num\">8&nbsp;&nbsp;</span>Results</a></span></li></ul></div>"
   ]
  },
  {
   "cell_type": "markdown",
   "metadata": {},
   "source": [
    "# Summary\n",
    "## Pre-processing and Clean-up\n",
    "The data is initially in a form where each user is a directory.  Within each user's directory there are further directories depending on how they had their emails organised; \"sent\", \"inbox\" etc..\n",
    "I initailly walk through each directory finding the individual emails and saving them as a `string` to a `csv` along side the path to the given file.\n",
    "\n",
    "After the emails have been pulled, I clean up and linebreak characters that are left behind and save the fields of each email as a new `csv` with the directory still being used as the data point \"name\".\n",
    "\n",
    "Before running this notebook, it will be necessary to run either both `Enron_data_extraction.ipynb` and `Enron_email_field_splitting.ipynb` or `data_extraction.py` on an extracted copy of the enron dataset.\n",
    "\n",
    "## Analysing The Dataset\n",
    "The dataset consists of over 500000 emails.  There are some fields which are missing for some entries (see `Enron_email_field_splitting.ipynb` for more details), but there are no missing values for the email bodies, which is the main focus of my analysis.  I will conduct unsupervised topic clustering using Latent Dirichlet Allocation (LDA).\n",
    "\n",
    "I plan to do this by:\n",
    "1. Splitting each email body into its component words.\n",
    "2. Removing stop words to reduce the data and amplify the signal.\n",
    "3. Lemmatise the data i.e. reduce words to their roots/stems e.g. drove --> drive.\n",
    "4. Constuct bigrams - take words that commonly appear together and treat them as a phrase.\n",
    "5. Construct the model and maximise coherence (model performance) by changing number of topics.\n",
    "\n",
    "## Limitations\n",
    "Given more time and experience there are some aspects of the analysis which I would have liked to improve:\n",
    "1. Amount of data used to inform the model: Due to computational and time constraints I could not process the whole dataset on my machine.  So as to use the whole dataset for my model, using batch methods would be ideal.  I would also like to speed up the analysis as currently even with more memory analysing the whole dataset would likely take several hours.\n",
    "2. Currently all single threaded - I would like to multithread the final funciton (`calc_coherence`) to speed up final model comparison.\n",
    "\n"
   ]
  },
  {
   "cell_type": "markdown",
   "metadata": {},
   "source": [
    "# Dependencies\n",
    "`pandas`\n",
    "\n",
    "`seaborn` \n",
    "\n",
    "`spacy`\n",
    "\n",
    "`python -m spacy download en` - english model from spacy\n",
    "\n",
    "`gensim`\n",
    "\n",
    "`pyLDAvis`\n"
   ]
  },
  {
   "cell_type": "code",
   "execution_count": 1,
   "metadata": {},
   "outputs": [],
   "source": [
    "# getting deprecation error that likely is fixed with an update but will surpress for now\n",
    "import warnings\n",
    "warnings.filterwarnings(\"ignore\", category = DeprecationWarning)"
   ]
  },
  {
   "cell_type": "markdown",
   "metadata": {},
   "source": [
    "# Goal\n",
    "To analyse the body of the Enron emails and conduct topic analysis"
   ]
  },
  {
   "cell_type": "code",
   "execution_count": 2,
   "metadata": {},
   "outputs": [],
   "source": [
    "#progress bars\n",
    "from tqdm import tqdm\n",
    "\n",
    "import pickle\n",
    "from os.path import relpath\n",
    "\n",
    "# wrangling\n",
    "import pandas as pd\n",
    "\n",
    "# lemmatization\n",
    "import spacy\n",
    "from spacy.lang.en.stop_words import STOP_WORDS\n",
    "from spacy.lang.en import English\n",
    "# import string\n",
    "\n",
    "# gensim\n",
    "import gensim.corpora as corpora\n",
    "from gensim.utils import simple_preprocess\n",
    "from gensim.models import CoherenceModel\n",
    "from gensim.models.phrases import Phrases, Phraser\n",
    "from gensim.models.ldamodel import LdaModel\n",
    "# # plotting\n",
    "import matplotlib.pyplot as plt\n",
    "import seaborn as sb\n",
    "import pyLDAvis.gensim\n",
    "\n",
    "\n",
    "    \n",
    "sb.set(style=\"whitegrid\") # to show plots well in darktheme "
   ]
  },
  {
   "cell_type": "markdown",
   "metadata": {},
   "source": [
    "Computational limitations have necessitated the need to subset the data.  If I had more time, I would have implemented some form of batch analysis so as to take the whole dataset into the model."
   ]
  },
  {
   "cell_type": "code",
   "execution_count": 3,
   "metadata": {},
   "outputs": [
    {
     "name": "stderr",
     "output_type": "stream",
     "text": [
      "/home/donal/.local/lib/python3.8/site-packages/ipykernel/ipkernel.py:287: DeprecationWarning: `should_run_async` will not call `transform_cell` automatically in the future. Please pass the result to `transformed_cell` argument and any exception that happen during thetransform in `preprocessing_exc_tuple` in IPython 7.17 and above.\n",
      "  and should_run_async(code)\n"
     ]
    },
    {
     "name": "stdout",
     "output_type": "stream",
     "text": [
      "count                                                517311\n",
      "unique                                               247119\n",
      "top       As you know, Enron Net Works (ENW) and Enron G...\n",
      "freq                                                    112\n",
      "Name: Body, dtype: object\n"
     ]
    }
   ],
   "source": [
    "data = pd.read_csv(relpath(\"../data/email_fields.csv\"))[\"Body\"]\n",
    "print(data.describe())\n",
    "# data = data.tolist()\n",
    "\n",
    "# subset\n",
    "data = data.sample(50000, random_state=1).tolist()"
   ]
  },
  {
   "cell_type": "markdown",
   "metadata": {},
   "source": [
    "# Functions"
   ]
  },
  {
   "cell_type": "code",
   "execution_count": 4,
   "metadata": {},
   "outputs": [
    {
     "name": "stderr",
     "output_type": "stream",
     "text": [
      "/home/donal/.local/lib/python3.8/site-packages/ipykernel/ipkernel.py:287: DeprecationWarning: `should_run_async` will not call `transform_cell` automatically in the future. Please pass the result to `transformed_cell` argument and any exception that happen during thetransform in `preprocessing_exc_tuple` in IPython 7.17 and above.\n",
      "  and should_run_async(code)\n"
     ]
    }
   ],
   "source": [
    "def sent_to_words(sentences):\n",
    "    \"\"\"\n",
    "    Takes a string and breaks it into words.\n",
    "    \n",
    "    Arg:\n",
    "        sentences (str) : The sentence(s) to be broken down\n",
    "        \n",
    "    Returns:\n",
    "        (list) : words as a list\n",
    "    \"\"\"\n",
    "#     return [simple_preprocess(sentence, deacc=True) for sentence in tqdm(sentences)]\n",
    "    \n",
    "    for sentence in tqdm(sentences):\n",
    "        yield(simple_preprocess(sentence, deacc=True)) # deacc removes punctuation\n",
    "\n",
    "def remove_stopwords(texts, stop_words):\n",
    "    \"\"\"\n",
    "    Removes the stop words from a piece of text using a specified list of stop words.\n",
    "    \n",
    "    Args:\n",
    "        text (list) : text to have stop words removed from. Should be split by word and given as a list.\n",
    "        stop_words (set) : stop words for laguage the `text`.\n",
    "        \n",
    "    Returns:\n",
    "        (list) : text list with stop words removed\n",
    "    \"\"\"\n",
    "#     for body in texts:\n",
    "#         yield([word for word in body if word not in stop_words])\n",
    "    return [[word for word in body if word not in stop_words] for body in texts]\n",
    "    \n",
    "def make_bigrams(words, min_count = 5, threshold = 10):\n",
    "    \"\"\"\n",
    "    Takes a list of words and return bigrams.\n",
    "    \n",
    "    Args: taken from `gensim.models.phrases.Phrases` documentation.\n",
    "        words (iter) :  can be simply a list, but for larger corpora, \n",
    "                        consider a generator that streams\n",
    "                        the sentences directly from disk/network, \n",
    "                        See :class:`~gensim.models.word2vec.BrownCorpus`, \n",
    "                        :class:`~gensim.models.word2vec.Text8Corpus` \n",
    "                        or :class:`~gensim.models.word2vec.LineSentence` for such examples.\n",
    "        min_count (float), optional : Ignore all words and bigrams with total \n",
    "                            collected count lower than this value.\n",
    "                            Defaults to 5.\n",
    "        threshold (float), optional : Represent a score threshold for forming the phrases \n",
    "                            (higher means fewer phrases). A phrase of words `a` followed \n",
    "                            by `b` is accepted if the score of the phrase is greater than threshold.  \n",
    "                            Heavily depends on concrete scoring-function, see the `scoring` parameter.\n",
    "    \n",
    "    Returns :\n",
    "        (iter) : bigrams\n",
    "        \n",
    "    \"\"\"\n",
    "    bigrams = Phrases(words)\n",
    "    return [[bigram for bigram in bigrams[body]] for body in tqdm(words)]\n",
    "    \n",
    "def make_trigrams(words):\n",
    "    \"\"\"\n",
    "    Takes a list of words and return bigrams.\n",
    "    \n",
    "    Args: taken from `gensim.models.phrases.Phrases` documentation.\n",
    "        words (iter) :  can be simply a list, but for larger corpora, \n",
    "                        consider a generator that streams\n",
    "                        the sentences directly from disk/network, \n",
    "                        See :class:`~gensim.models.word2vec.BrownCorpus`, \n",
    "                        :class:`~gensim.models.word2vec.Text8Corpus` \n",
    "                        or :class:`~gensim.models.word2vec.LineSentence` for such examples.\n",
    "        min_count (float), optional : Ignore all words and bigrams with total \n",
    "                            collected count lower than this value.\n",
    "                            Defaults to 5.\n",
    "        threshold (float), optional : Represent a score threshold for forming the phrases \n",
    "                            (higher means fewer phrases). A phrase of words `a` followed \n",
    "                            by `b` is accepted if the score of the phrase is greater than threshold.  \n",
    "                            Heavily depends on concrete scoring-function, see the `scoring` parameter.\n",
    "    Returns:\n",
    "        (iter) : trigrams\n",
    "    \"\"\"\n",
    "    return Phrases(make_bigrams(words)[words])\n",
    "    \n",
    "    \n",
    "    \n",
    "def lemmatisation(text, nlp, allowed_postags = [\"NOUN\", \"ADJ\", \"VERB\", \"ADV\"]):\n",
    "    \"\"\"\n",
    "    Lemmatises text.  See: 'https://spacy.io/api/annotation' for more info on `allowed_postags`\n",
    "    \n",
    "    Args:\n",
    "        text (str) : texts to be lemmatised.\n",
    "        nlp : the laguage model of choice.  Defaults to `English` from `spacy`\n",
    "        allowed_postags (list) : list of parts of speech to be lemmatised.\n",
    "       \n",
    "    Returns:\n",
    "        (list)\n",
    "    \"\"\"\n",
    "    text_out = []\n",
    "    for words in tqdm(text):\n",
    "        body = nlp(\" \".join(words))\n",
    "        text_out.append([token.lemma_ for token in body if token.pos_ in allowed_postags])\n",
    "    return text_out\n",
    "\n",
    "def calc_coherence(corpus, dictionary, texts, limit, start = 2, step = 2):\n",
    "    \"\"\"\n",
    "    Compute coherence of LDA models for increasing number of topics.\n",
    "    \n",
    "    Args:\n",
    "        corpus () :\n",
    "        dictionary () : \n",
    "        texts () : \n",
    "        limit (int) : Maximum number of topics to simulate to.\n",
    "        start (int) : How many topics to start with. \n",
    "                        Defaults to 2.\n",
    "        step (int) : How many topics to increase by for each iteration. \n",
    "                        Defaults to 2.\n",
    "                        \n",
    "    Returns:\n",
    "        (list) : [model_list, coherence_list] -> models that produce their corresponding coherence values as a list.        \n",
    "    \"\"\"\n",
    "    model_list = []\n",
    "    coherence_list = []\n",
    "    \n",
    "    for topics in tqdm(range(start, limit, step)):\n",
    "        model = LdaModel(corpus=corpus,\n",
    "                         id2word=dictionary,\n",
    "                         num_topics=topics,\n",
    "                         random_state=100,\n",
    "                         update_every=1,\n",
    "                         chunksize=100,\n",
    "                         passes=10,\n",
    "                         alpha='auto',\n",
    "                         per_word_topics=True)\n",
    "        model_list.append(model)\n",
    "        \n",
    "        coherence_model = CoherenceModel(model=model, texts=texts, dictionary=dictionary, coherence='c_v')\n",
    "        coherence_score = coherence_model.get_coherence()\n",
    "        coherence_list.append(coherence_score)\n",
    "        \n",
    "    return [model_list, coherence_list]"
   ]
  },
  {
   "cell_type": "markdown",
   "metadata": {},
   "source": [
    "# Tokenise Email Bodies\n",
    "Break the email bodies into words to prepare for analysing them.  In general, emails which share more words will be about similar topics. \"Rare\" or infrequently used words are likely to indicate important information than words which show up in all email, e.g. \"the\" does not say much about the content of the email, but \"investment\" does."
   ]
  },
  {
   "cell_type": "code",
   "execution_count": 5,
   "metadata": {},
   "outputs": [
    {
     "name": "stdout",
     "output_type": "stream",
     "text": [
      "Pretty printing has been turned OFF\n"
     ]
    },
    {
     "name": "stderr",
     "output_type": "stream",
     "text": [
      "/home/donal/.local/lib/python3.8/site-packages/ipykernel/ipkernel.py:287: DeprecationWarning: `should_run_async` will not call `transform_cell` automatically in the future. Please pass the result to `transformed_cell` argument and any exception that happen during thetransform in `preprocessing_exc_tuple` in IPython 7.17 and above.\n",
      "  and should_run_async(code)\n"
     ]
    }
   ],
   "source": [
    "%pprint # disable pretty print to keep things a bit more compact"
   ]
  },
  {
   "cell_type": "code",
   "execution_count": 6,
   "metadata": {
    "scrolled": true
   },
   "outputs": [
    {
     "name": "stderr",
     "output_type": "stream",
     "text": [
      "/home/donal/.local/lib/python3.8/site-packages/ipykernel/ipkernel.py:287: DeprecationWarning: `should_run_async` will not call `transform_cell` automatically in the future. Please pass the result to `transformed_cell` argument and any exception that happen during thetransform in `preprocessing_exc_tuple` in IPython 7.17 and above.\n",
      "  and should_run_async(code)\n"
     ]
    }
   ],
   "source": [
    "# split email bodies into their component words.\n",
    "data_words = sent_to_words(data)\n",
    "\n",
    "# memory management \n",
    "# del data"
   ]
  },
  {
   "cell_type": "markdown",
   "metadata": {},
   "source": [
    "## Lemmatisation\n",
    "In order to simplify the data and amplify the signal from words witht the same stem, e.g. is, were, am = be, the data needs to be lemmatised.\n",
    "\n",
    "To do so I will use `Spacy`, which has the benifit of also identify which part of speech each lemma is e.g. noun, verb etc.\n",
    "\n",
    "I take the major parts of speech I believe contribute to topics; nouns, adjectives, verb and adverbs.  There is a case to be made for taking proper nouns so as to include people and this is a factor that may also be worth including. Stop words are also removed using the stop words from `Spacy`"
   ]
  },
  {
   "cell_type": "code",
   "execution_count": 7,
   "metadata": {
    "scrolled": true
   },
   "outputs": [
    {
     "name": "stderr",
     "output_type": "stream",
     "text": [
      "/home/donal/.local/lib/python3.8/site-packages/ipykernel/ipkernel.py:287: DeprecationWarning: `should_run_async` will not call `transform_cell` automatically in the future. Please pass the result to `transformed_cell` argument and any exception that happen during thetransform in `preprocessing_exc_tuple` in IPython 7.17 and above.\n",
      "  and should_run_async(code)\n"
     ]
    },
    {
     "data": {
      "text/plain": [
       "{'as', 'into', 'upon', 'regarding', 'for', 'again', 'hereupon', 'of', \"'m\", 'further', 'along', 'none', 'various', 'hence', 'thru', 'twenty', 'does', 'many', 'there', \"'s\", 'perhaps', 'very', 'these', 'twelve', 'something', 'except', 'without', 'former', 'out', 'anyone', '‘ve', 'therein', 'too', 'throughout', 'at', 'seem', 'whole', 'besides', 'never', 'otherwise', 'the', 'where', 'could', 'latterly', 'under', 'but', 'each', 'others', 'made', 'every', 'it', 'everywhere', 'one', 'your', 'same', 'cannot', 'go', 'amongst', 'still', 'beyond', 'below', 'third', 'own', 'can', 'enough', 'been', 'would', 'say', '‘d', 'their', 'sixty', 'anyhow', 'really', 'five', 'six', 'nor', 'we', 'whom', 'hereafter', 'over', 'my', 'once', 'am', 'quite', 'what', 'whence', 'three', 'from', 'against', 'her', 'thus', 'while', 'nobody', 'on', 'whereby', 'whatever', 'using', 'towards', 'myself', 'almost', 'least', 'thereafter', 'i', 'well', 'nothing', 'sometimes', 'next', 'how', 'whoever', 'doing', 'has', 'its', 'they', 'here', 'hundred', 'whereupon', 'make', 'us', 'full', 'unless', 'until', 'neither', 'call', 'ourselves', 'a', 'them', 'somehow', 'used', 'get', 'than', 'who', 'in', 'wherever', 'more', 'so', \"'d\", '‘m', 'that', 'afterwards', 'an', 'seeming', '‘ll', 'or', 'per', 'will', 'always', 'mostly', 'is', 'n’t', 'moreover', 'not', 'few', 'forty', 'first', 'being', 'me', 'already', 'even', 'just', 'however', 'both', '’d', 'serious', 'why', 'was', 'often', 'some', 'ten', 'fifty', 'mine', 'hers', 'several', 'yours', 'most', 'seems', 'whereas', 'take', 'those', 'by', 'if', 'behind', 'alone', 'him', 'though', 'up', 'either', '’re', 'herein', '’ve', 'via', 'were', 'seemed', 'also', 'all', 'bottom', 'you', 'eleven', 'beside', 'back', 'name', 'ever', 'rather', 'anyway', 'four', 'whether', 'wherein', '’m', 'before', 'everything', 'keep', 'formerly', 'be', 'then', 'between', 'now', \"'re\", 'due', 'whose', 'give', 'anything', 'onto', 'yet', '’ll', 'around', 'beforehand', 'such', 'sometime', 'might', 'part', 'although', 'and', 'done', 'have', 'through', 'whenever', 'nevertheless', 'down', 'becomes', 'thereby', 'move', 'off', 'show', 'noone', 'see', '‘re', 'within', 'after', 'anywhere', 'else', 'become', 'about', 'top', 'indeed', 'less', 'with', 'himself', 'hereby', 'no', 'amount', 'ours', 'only', '‘s', 'his', 'above', 'much', 'must', 'among', 'nine', 'during', 'when', 'did', 'to', 'ca', 'became', 'herself', \"'ll\", 'itself', 'together', 'themselves', 'namely', 'becoming', 'meanwhile', 'front', 'please', 'thereupon', 'do', \"n't\", 'nowhere', 'everyone', 'are', 'last', 'latter', 'fifteen', '’s', 'whither', 'since', 'another', 'because', 'yourself', 'side', 'thence', 'put', 'therefore', 'toward', 'n‘t', 'eight', 'should', 'somewhere', 'whereafter', 'across', 'she', 'this', 'other', 'any', 'had', 'two', 'which', \"'ve\", 'may', 'our', 're', 'someone', 'he', 'yourselves', 'elsewhere', 'empty'}"
      ]
     },
     "execution_count": 7,
     "metadata": {},
     "output_type": "execute_result"
    }
   ],
   "source": [
    "stop_words = STOP_WORDS\n",
    "stop_words"
   ]
  },
  {
   "cell_type": "code",
   "execution_count": 8,
   "metadata": {
    "scrolled": true
   },
   "outputs": [
    {
     "name": "stderr",
     "output_type": "stream",
     "text": [
      "/home/donal/.local/lib/python3.8/site-packages/ipykernel/ipkernel.py:287: DeprecationWarning: `should_run_async` will not call `transform_cell` automatically in the future. Please pass the result to `transformed_cell` argument and any exception that happen during thetransform in `preprocessing_exc_tuple` in IPython 7.17 and above.\n",
      "  and should_run_async(code)\n"
     ]
    },
    {
     "data": {
      "text/plain": [
       "{'as', 'into', 'upon', 'regarding', 'for', 'again', 'hereupon', 'of', \"'m\", 'further', 'along', 'none', 'various', 'hence', 'thru', 'twenty', 'does', 'many', 'there', \"'s\", 'perhaps', 'very', 'these', 'twelve', 'something', 'except', 'without', 'former', 'out', 'anyone', '‘ve', 'therein', 'too', 'throughout', 'at', 'seem', 'whole', 'besides', 'never', 'otherwise', 'the', 'where', 'could', 'latterly', 'under', 'but', 'each', 'others', 'made', 'every', 'it', 'everywhere', 'one', 'your', 'same', 'cannot', 'go', 'amongst', 'still', 'beyond', 'below', 'third', 'own', 'can', 'enough', 'been', 'would', 'say', '‘d', 'their', 'sixty', 'anyhow', 'really', 'five', 'six', 'nor', 'we', 'whom', 'hereafter', 'over', 'my', 'once', 'am', 'quite', 'what', 'whence', 'three', 'from', 'against', 'her', 'thus', 'while', 'nobody', 'on', 'whereby', 'whatever', 'using', 'towards', 'myself', 'almost', 'least', 'thereafter', 'i', 'well', 'nothing', 'sometimes', 'next', 'how', 'whoever', 'doing', 'has', 'its', 'they', 'here', 'hundred', 'whereupon', 'make', 'us', 'full', 'unless', 'until', 'neither', 'call', 'ourselves', 'a', 'them', 'somehow', 'used', 'get', 'than', 'who', 'in', 'wherever', 'more', 'so', \"'d\", '‘m', 'that', 'afterwards', 'an', 'seeming', '‘ll', 'or', 'per', 'will', 'always', 'mostly', 'is', 'n’t', 'moreover', 'not', 'few', 'forty', 'first', 'being', 'me', 'already', 'even', 'just', 'however', 'both', '’d', 'serious', 'why', 'was', 'often', 'some', 'ten', 'fifty', 'mine', 'hers', 'several', 'yours', 'most', 'seems', 'whereas', 'take', 'those', 'by', 'cc', 'if', 'behind', 'alone', 'him', 'though', 'up', 'either', '’re', 'subject', 'herein', '’ve', 'via', 'were', 'seemed', 'also', 'all', 'bottom', 'you', 'eleven', 'beside', 'back', 'name', 'ever', 'rather', 'anyway', 'four', 'whether', 'wherein', 'etc', '’m', 'before', 'everything', 'keep', 'formerly', 'be', 'then', 'between', 'now', \"'re\", 'due', 'whose', 'give', 'anything', 'onto', 'com', 'yet', '’ll', 'around', 'beforehand', 'such', 'sometime', 'might', 'part', 'although', 'and', 'done', 'have', 'through', 'whenever', 'nevertheless', 'down', 'becomes', 'thereby', 'move', 'off', 'show', 'noone', 'see', '‘re', 'within', 'after', 'anywhere', 'else', 'forward', 'become', 'about', 'top', 'indeed', 'less', 'with', 'himself', 'hereby', 'no', 'amount', 'ours', 'only', '‘s', 'his', 'above', 'much', 'must', 'among', 'nine', 'during', 'when', 'did', 'to', 'ca', 'became', 'herself', \"'ll\", 'itself', 'together', 'themselves', 'namely', 'becoming', 'meanwhile', 'front', 'please', 'edu', 'thereupon', 'do', \"n't\", 'nowhere', 'everyone', 'are', 'last', 'latter', 'fifteen', '’s', 'whither', 'since', 'another', 'because', 'yourself', 'side', 'thence', 'put', 'therefore', 'toward', 'n‘t', 'eight', 'should', 'somewhere', 'whereafter', 'across', 'she', 'this', 'other', 'any', 'had', 'two', 'which', \"'ve\", 'may', 'our', 're', 'someone', 'he', 'yourselves', 'elsewhere', 'empty'}"
      ]
     },
     "execution_count": 8,
     "metadata": {},
     "output_type": "execute_result"
    }
   ],
   "source": [
    "# add use case specific words to exclude \n",
    "words_to_add = {\"subject\", \"com\", \"forward\", \"cc\", \"from\"}\n",
    "stop_words.update(words_to_add)\n",
    "stop_words"
   ]
  },
  {
   "cell_type": "code",
   "execution_count": 9,
   "metadata": {
    "scrolled": true
   },
   "outputs": [
    {
     "name": "stderr",
     "output_type": "stream",
     "text": [
      "/home/donal/.local/lib/python3.8/site-packages/ipykernel/ipkernel.py:287: DeprecationWarning: `should_run_async` will not call `transform_cell` automatically in the future. Please pass the result to `transformed_cell` argument and any exception that happen during thetransform in `preprocessing_exc_tuple` in IPython 7.17 and above.\n",
      "  and should_run_async(code)\n",
      "100%|██████████| 50000/50000 [00:33<00:00, 1497.09it/s]\n"
     ]
    }
   ],
   "source": [
    "no_stop_words = remove_stopwords(texts = data_words, stop_words = stop_words)"
   ]
  },
  {
   "cell_type": "code",
   "execution_count": 10,
   "metadata": {},
   "outputs": [
    {
     "name": "stderr",
     "output_type": "stream",
     "text": [
      "/home/donal/.local/lib/python3.8/site-packages/ipykernel/ipkernel.py:287: DeprecationWarning: `should_run_async` will not call `transform_cell` automatically in the future. Please pass the result to `transformed_cell` argument and any exception that happen during thetransform in `preprocessing_exc_tuple` in IPython 7.17 and above.\n",
      "  and should_run_async(code)\n"
     ]
    }
   ],
   "source": [
    "pickle.dump(no_stop_words, open(\"../data/no_stop_words.p\", \"wb\"))"
   ]
  },
  {
   "cell_type": "code",
   "execution_count": 11,
   "metadata": {},
   "outputs": [
    {
     "name": "stderr",
     "output_type": "stream",
     "text": [
      "/home/donal/.local/lib/python3.8/site-packages/ipykernel/ipkernel.py:287: DeprecationWarning: `should_run_async` will not call `transform_cell` automatically in the future. Please pass the result to `transformed_cell` argument and any exception that happen during thetransform in `preprocessing_exc_tuple` in IPython 7.17 and above.\n",
      "  and should_run_async(code)\n"
     ]
    },
    {
     "data": {
      "text/plain": [
       "['second', 'thanks', 'lot', 'dfmartha', 'benner', 'pmto', 'don', 'nelson', 'et', 'enron', 'enron', 'norm', 'ruiz', 'et', 'enron', 'enroncc', 'rod', 'williams', 'et', 'enron', 'enron', 'bcc', 'drew', 'fossum', 'et', 'enron', 'satellite', 'phonewant', 'thank', 'help', 'obtaining', 'satellite', 'phone', 'usage', 'short', 'notice', 'able', 'come', 'hesitation', 'parts', 'nice', 'good', 'people', 'work', 'helpful', 'professional', 'situation', 'novice', 'phone', 'thing', 'helpful', 'step', 'way', 'thank', 'martha', 'benner']"
      ]
     },
     "execution_count": 11,
     "metadata": {},
     "output_type": "execute_result"
    }
   ],
   "source": [
    "# memory management\n",
    "del data\n",
    "del data_words\n",
    "no_stop_words[200]"
   ]
  },
  {
   "cell_type": "markdown",
   "metadata": {},
   "source": [
    "Load a language model to identify what part of speech the tokens are e.g. verbs, nouns etc."
   ]
  },
  {
   "cell_type": "code",
   "execution_count": 12,
   "metadata": {},
   "outputs": [
    {
     "name": "stderr",
     "output_type": "stream",
     "text": [
      "/home/donal/.local/lib/python3.8/site-packages/ipykernel/ipkernel.py:287: DeprecationWarning: `should_run_async` will not call `transform_cell` automatically in the future. Please pass the result to `transformed_cell` argument and any exception that happen during thetransform in `preprocessing_exc_tuple` in IPython 7.17 and above.\n",
      "  and should_run_async(code)\n"
     ]
    }
   ],
   "source": [
    "# Initialize spacy 'en' model, keeping only tagger component (for efficiency)\n",
    "nlp = spacy.load('en', disable=['parser', 'ner'])"
   ]
  },
  {
   "cell_type": "markdown",
   "metadata": {},
   "source": [
    "## Bigrams\n",
    "Bigrams are two words which are often used together and as such can almost be considered one word for the analysis, e.g. chinese food.  This can be extended to n-grams but will not be for this analysis.\n",
    "\n",
    "Using defaults of `threshold=10` for the time being but may adjust later."
   ]
  },
  {
   "cell_type": "code",
   "execution_count": 13,
   "metadata": {
    "scrolled": true
   },
   "outputs": [
    {
     "name": "stderr",
     "output_type": "stream",
     "text": [
      "/home/donal/.local/lib/python3.8/site-packages/ipykernel/ipkernel.py:287: DeprecationWarning: `should_run_async` will not call `transform_cell` automatically in the future. Please pass the result to `transformed_cell` argument and any exception that happen during thetransform in `preprocessing_exc_tuple` in IPython 7.17 and above.\n",
      "  and should_run_async(code)\n",
      "100%|██████████| 50000/50000 [00:23<00:00, 2164.44it/s]\n"
     ]
    }
   ],
   "source": [
    "words_bigrams = make_bigrams(no_stop_words)\n",
    "# mem mamnagement\n",
    "del no_stop_words"
   ]
  },
  {
   "cell_type": "code",
   "execution_count": 14,
   "metadata": {},
   "outputs": [
    {
     "name": "stderr",
     "output_type": "stream",
     "text": [
      "/home/donal/.local/lib/python3.8/site-packages/ipykernel/ipkernel.py:287: DeprecationWarning: `should_run_async` will not call `transform_cell` automatically in the future. Please pass the result to `transformed_cell` argument and any exception that happen during thetransform in `preprocessing_exc_tuple` in IPython 7.17 and above.\n",
      "  and should_run_async(code)\n"
     ]
    }
   ],
   "source": [
    "pickle.dump(words_bigrams, open(\"../data/words_bigrams.p\", \"wb\"))"
   ]
  },
  {
   "cell_type": "code",
   "execution_count": 15,
   "metadata": {
    "scrolled": true
   },
   "outputs": [
    {
     "name": "stderr",
     "output_type": "stream",
     "text": [
      "/home/donal/.local/lib/python3.8/site-packages/ipykernel/ipkernel.py:287: DeprecationWarning: `should_run_async` will not call `transform_cell` automatically in the future. Please pass the result to `transformed_cell` argument and any exception that happen during thetransform in `preprocessing_exc_tuple` in IPython 7.17 and above.\n",
      "  and should_run_async(code)\n",
      "100%|██████████| 50000/50000 [08:20<00:00, 99.96it/s] \n"
     ]
    }
   ],
   "source": [
    "words_lemmatised = lemmatisation(words_bigrams, nlp = nlp, allowed_postags=['NOUN', 'ADJ', 'VERB', 'ADV'])\n",
    "# mem mamnagement\n",
    "del words_bigrams"
   ]
  },
  {
   "cell_type": "code",
   "execution_count": 16,
   "metadata": {},
   "outputs": [
    {
     "name": "stderr",
     "output_type": "stream",
     "text": [
      "/home/donal/.local/lib/python3.8/site-packages/ipykernel/ipkernel.py:287: DeprecationWarning: `should_run_async` will not call `transform_cell` automatically in the future. Please pass the result to `transformed_cell` argument and any exception that happen during thetransform in `preprocessing_exc_tuple` in IPython 7.17 and above.\n",
      "  and should_run_async(code)\n"
     ]
    }
   ],
   "source": [
    "pickle.dump(words_lemmatised, open(\"../data/words_lemmatised.p\", \"wb\"))"
   ]
  },
  {
   "cell_type": "code",
   "execution_count": 17,
   "metadata": {},
   "outputs": [
    {
     "name": "stderr",
     "output_type": "stream",
     "text": [
      "/home/donal/.local/lib/python3.8/site-packages/ipykernel/ipkernel.py:287: DeprecationWarning: `should_run_async` will not call `transform_cell` automatically in the future. Please pass the result to `transformed_cell` argument and any exception that happen during thetransform in `preprocessing_exc_tuple` in IPython 7.17 and above.\n",
      "  and should_run_async(code)\n"
     ]
    }
   ],
   "source": [
    "words_lemmatised"
   ]
  },
  {
   "cell_type": "code",
   "execution_count": 18,
   "metadata": {},
   "outputs": [
    {
     "name": "stderr",
     "output_type": "stream",
     "text": [
      "/home/donal/.local/lib/python3.8/site-packages/ipykernel/ipkernel.py:287: DeprecationWarning: `should_run_async` will not call `transform_cell` automatically in the future. Please pass the result to `transformed_cell` argument and any exception that happen during thetransform in `preprocessing_exc_tuple` in IPython 7.17 and above.\n",
      "  and should_run_async(code)\n"
     ]
    }
   ],
   "source": [
    "# words_lemmatised = pickle.load(open(\"../data/words_lemmatised.p\", \"rb\"))"
   ]
  },
  {
   "cell_type": "markdown",
   "metadata": {},
   "source": [
    "# Construct the Corpus and LDA model"
   ]
  },
  {
   "cell_type": "code",
   "execution_count": 19,
   "metadata": {},
   "outputs": [
    {
     "name": "stderr",
     "output_type": "stream",
     "text": [
      "/home/donal/.local/lib/python3.8/site-packages/ipykernel/ipkernel.py:287: DeprecationWarning: `should_run_async` will not call `transform_cell` automatically in the future. Please pass the result to `transformed_cell` argument and any exception that happen during thetransform in `preprocessing_exc_tuple` in IPython 7.17 and above.\n",
      "  and should_run_async(code)\n"
     ]
    }
   ],
   "source": [
    "# Create the corpus dictionary\n",
    "dictionary = corpora.Dictionary(words_lemmatised)\n",
    "\n",
    "# Corpus is just the `words_lemmatised` var that has been made above\n",
    "# Term document frequency\n",
    "corpus = [dictionary.doc2bow(text) for text in words_lemmatised]"
   ]
  },
  {
   "cell_type": "markdown",
   "metadata": {},
   "source": [
    "## construct the LDA model"
   ]
  },
  {
   "cell_type": "code",
   "execution_count": 20,
   "metadata": {},
   "outputs": [
    {
     "name": "stderr",
     "output_type": "stream",
     "text": [
      "/home/donal/.local/lib/python3.8/site-packages/ipykernel/ipkernel.py:287: DeprecationWarning: `should_run_async` will not call `transform_cell` automatically in the future. Please pass the result to `transformed_cell` argument and any exception that happen during thetransform in `preprocessing_exc_tuple` in IPython 7.17 and above.\n",
      "  and should_run_async(code)\n"
     ]
    }
   ],
   "source": [
    "lda_model = LdaModel(corpus=corpus,\n",
    "                     id2word=dictionary,\n",
    "                     num_topics=20,\n",
    "                     random_state=100,\n",
    "                     update_every=1,\n",
    "                     chunksize=100,\n",
    "                     passes=10,\n",
    "                     alpha='auto',\n",
    "                     per_word_topics=True)"
   ]
  },
  {
   "cell_type": "code",
   "execution_count": 21,
   "metadata": {},
   "outputs": [
    {
     "name": "stderr",
     "output_type": "stream",
     "text": [
      "/home/donal/.local/lib/python3.8/site-packages/ipykernel/ipkernel.py:287: DeprecationWarning: `should_run_async` will not call `transform_cell` automatically in the future. Please pass the result to `transformed_cell` argument and any exception that happen during thetransform in `preprocessing_exc_tuple` in IPython 7.17 and above.\n",
      "  and should_run_async(code)\n"
     ]
    }
   ],
   "source": [
    "pickle.dump(lda_model, open(\"../data/lda_test.p\", \"wb\"))"
   ]
  },
  {
   "cell_type": "code",
   "execution_count": 22,
   "metadata": {},
   "outputs": [
    {
     "name": "stderr",
     "output_type": "stream",
     "text": [
      "/home/donal/.local/lib/python3.8/site-packages/ipykernel/ipkernel.py:287: DeprecationWarning: `should_run_async` will not call `transform_cell` automatically in the future. Please pass the result to `transformed_cell` argument and any exception that happen during thetransform in `preprocessing_exc_tuple` in IPython 7.17 and above.\n",
      "  and should_run_async(code)\n"
     ]
    },
    {
     "data": {
      "text/plain": [
       "[(0, '0.050*\"information\" + 0.029*\"system\" + 0.029*\"receive\" + 0.027*\"request\" + 0.025*\"order\" + 0.023*\"use\" + 0.023*\"provide\" + 0.022*\"available\" + 0.022*\"file\" + 0.022*\"employee\"'), (1, '0.224*\"doc\" + 0.044*\"finalize\" + 0.039*\"treat\" + 0.023*\"soon_possible\" + 0.020*\"brother\" + 0.012*\"impression\" + 0.000*\"propose\" + 0.000*\"rocket\" + 0.000*\"criterion\" + 0.000*\"paragraph\"'), (2, '0.466*\"mail\" + 0.076*\"fax\" + 0.063*\"morning\" + 0.053*\"message\" + 0.042*\"love\" + 0.024*\"receive\" + 0.007*\"notify_sender\" + 0.007*\"message_error\" + 0.005*\"entity_addresse\" + 0.004*\"immediately_mail\"'), (3, '0.181*\"say\" + 0.173*\"company\" + 0.054*\"utility\" + 0.051*\"year\" + 0.028*\"bill\" + 0.028*\"plan\" + 0.020*\"consumer\" + 0.017*\"cut\" + 0.015*\"deal\" + 0.014*\"decide\"'), (4, '0.258*\"attach\" + 0.200*\"comment\" + 0.117*\"draft\" + 0.061*\"revise\" + 0.023*\"circulate\" + 0.019*\"terminate\" + 0.008*\"review\" + 0.005*\"regardsdelainey\" + 0.004*\"spare\" + 0.003*\"anyquestion\"'), (5, '0.047*\"price\" + 0.040*\"day\" + 0.028*\"month\" + 0.025*\"offer\" + 0.023*\"sale\" + 0.020*\"high\" + 0.019*\"leave\" + 0.019*\"pay\" + 0.019*\"trade\" + 0.018*\"cost\"'), (6, '0.091*\"thank\" + 0.071*\"need\" + 0.066*\"send\" + 0.060*\"deal\" + 0.043*\"change\" + 0.036*\"list\" + 0.035*\"message\" + 0.034*\"pm\" + 0.032*\"question\" + 0.031*\"schedule\"'), (7, '0.043*\"new\" + 0.028*\"report\" + 0.027*\"include\" + 0.026*\"business\" + 0.023*\"issue\" + 0.022*\"group\" + 0.018*\"customer\" + 0.016*\"project\" + 0.016*\"rate\" + 0.014*\"support\"'), (8, '0.078*\"contract\" + 0.057*\"agreement\" + 0.037*\"date\" + 0.034*\"credit\" + 0.028*\"legal\" + 0.028*\"party\" + 0.026*\"agree\" + 0.025*\"letter\" + 0.021*\"issue\" + 0.020*\"regard\"'), (9, '0.632*\"ect\" + 0.078*\"ectcc\" + 0.025*\"ee\" + 0.024*\"enroncc\" + 0.020*\"forward\" + 0.017*\"pdx_ect\" + 0.013*\"hotmail\" + 0.013*\"pm\" + 0.010*\"hou_ect\" + 0.009*\"amto\"'), (10, '0.170*\"market\" + 0.109*\"gas\" + 0.088*\"energy\" + 0.046*\"share\" + 0.039*\"capacity\" + 0.031*\"operation\" + 0.027*\"pipeline\" + 0.021*\"transmission\" + 0.021*\"profit\" + 0.021*\"summer\"'), (11, '0.166*\"power\" + 0.108*\"state\" + 0.068*\"energy\" + 0.043*\"electricity\" + 0.040*\"plant\" + 0.032*\"price\" + 0.025*\"facility\" + 0.021*\"cost\" + 0.021*\"government\" + 0.019*\"exchange\"'), (12, '0.185*\"image\" + 0.082*\"ticket\" + 0.054*\"info\" + 0.043*\"bond\" + 0.043*\"article\" + 0.033*\"debt\" + 0.028*\"text\" + 0.026*\"loan\" + 0.023*\"rank\" + 0.020*\"route\"'), (13, '0.061*\"asset\" + 0.055*\"potential\" + 0.054*\"session\" + 0.045*\"commodity\" + 0.033*\"attempt\" + 0.033*\"expand\" + 0.032*\"acquisition\" + 0.031*\"interview\" + 0.031*\"dollar\" + 0.030*\"client\"'), (14, '0.103*\"free\" + 0.060*\"http\" + 0.049*\"internet\" + 0.042*\"story\" + 0.039*\"link\" + 0.031*\"partner\" + 0.031*\"www\" + 0.029*\"travel\" + 0.027*\"respect\" + 0.026*\"newsletter\"'), (15, '0.133*\"response\" + 0.077*\"school\" + 0.057*\"sit\" + 0.050*\"man\" + 0.034*\"station\" + 0.032*\"understanding\" + 0.032*\"isda\" + 0.026*\"extension\" + 0.025*\"fear\" + 0.021*\"certificate\"'), (16, '0.104*\"d\" + 0.061*\"reply\" + 0.053*\"remember\" + 0.047*\"vacation\" + 0.034*\"messages_parse\" + 0.034*\"file_portland\" + 0.034*\"final_schedule\" + 0.028*\"awarded_variance\" + 0.028*\"prohibited_intende\" + 0.025*\"confidential_privilege\"'), (17, '0.035*\"time\" + 0.028*\"work\" + 0.026*\"week\" + 0.024*\"go\" + 0.023*\"think\" + 0.021*\"want\" + 0.019*\"good\" + 0.018*\"know\" + 0.017*\"look\" + 0.017*\"come\"'), (18, '0.138*\"reason\" + 0.097*\"website\" + 0.070*\"resume\" + 0.048*\"transportation\" + 0.022*\"var\" + 0.009*\"proprietary\" + 0.000*\"product\" + 0.000*\"invoice\" + 0.000*\"iso\" + 0.000*\"demand\"'), (19, '0.252*\"trading\" + 0.191*\"sell\" + 0.122*\"conference\" + 0.042*\"database\" + 0.026*\"expansion\" + 0.020*\"panel\" + 0.016*\"enpower\" + 0.012*\"additional_information\" + 0.007*\"overview\" + 0.005*\"financially\"')]"
      ]
     },
     "execution_count": 22,
     "metadata": {},
     "output_type": "execute_result"
    }
   ],
   "source": [
    "lda_model.print_topics()"
   ]
  },
  {
   "cell_type": "markdown",
   "metadata": {},
   "source": [
    "### Perplexity and Coherence"
   ]
  },
  {
   "cell_type": "code",
   "execution_count": 23,
   "metadata": {},
   "outputs": [
    {
     "name": "stderr",
     "output_type": "stream",
     "text": [
      "/home/donal/.local/lib/python3.8/site-packages/ipykernel/ipkernel.py:287: DeprecationWarning: `should_run_async` will not call `transform_cell` automatically in the future. Please pass the result to `transformed_cell` argument and any exception that happen during thetransform in `preprocessing_exc_tuple` in IPython 7.17 and above.\n",
      "  and should_run_async(code)\n"
     ]
    },
    {
     "name": "stdout",
     "output_type": "stream",
     "text": [
      "Perplexity: -16.724514\n"
     ]
    }
   ],
   "source": [
    "# a measure of how good the model is. lower the better.)\n",
    "print('Perplexity: %f' % lda_model.log_perplexity(corpus))  "
   ]
  },
  {
   "cell_type": "code",
   "execution_count": 24,
   "metadata": {},
   "outputs": [
    {
     "name": "stderr",
     "output_type": "stream",
     "text": [
      "/home/donal/.local/lib/python3.8/site-packages/ipykernel/ipkernel.py:287: DeprecationWarning: `should_run_async` will not call `transform_cell` automatically in the future. Please pass the result to `transformed_cell` argument and any exception that happen during thetransform in `preprocessing_exc_tuple` in IPython 7.17 and above.\n",
      "  and should_run_async(code)\n"
     ]
    },
    {
     "name": "stdout",
     "output_type": "stream",
     "text": [
      "Coherence Score: 0.370217\n"
     ]
    }
   ],
   "source": [
    "# Compute Coherence Score\n",
    "coherence_model_lda = CoherenceModel(model = lda_model, texts= words_lemmatised, \n",
    "                                     dictionary = dictionary, coherence = 'c_v')\n",
    "coherence_lda = coherence_model_lda.get_coherence()\n",
    "print('Coherence Score: %f' % coherence_lda)"
   ]
  },
  {
   "cell_type": "code",
   "execution_count": 25,
   "metadata": {},
   "outputs": [
    {
     "name": "stderr",
     "output_type": "stream",
     "text": [
      "/home/donal/.local/lib/python3.8/site-packages/ipykernel/ipkernel.py:287: DeprecationWarning: `should_run_async` will not call `transform_cell` automatically in the future. Please pass the result to `transformed_cell` argument and any exception that happen during thetransform in `preprocessing_exc_tuple` in IPython 7.17 and above.\n",
      "  and should_run_async(code)\n"
     ]
    },
    {
     "data": {
      "text/html": [
       "\n",
       "<link rel=\"stylesheet\" type=\"text/css\" href=\"https://cdn.rawgit.com/bmabey/pyLDAvis/files/ldavis.v1.0.0.css\">\n",
       "\n",
       "\n",
       "<div id=\"ldavis_el3551400240703019528488152662\"></div>\n",
       "<script type=\"text/javascript\">\n",
       "\n",
       "var ldavis_el3551400240703019528488152662_data = {\"mdsDat\": {\"x\": [0.2730212018058323, 0.27510300288044465, 0.2161257601719949, 0.19940916978125334, 0.18832125257211385, 0.1334941321119054, 0.1465719913106581, 0.13859842772132924, 0.036097012533325576, -0.02755009960597368, -0.06623582963933798, -0.12731758844195482, -0.11227874422715473, -0.15677645432787046, -0.15435320956771512, -0.15253986316734883, -0.1910877185478077, -0.1793709803284433, -0.2185036578145506, -0.2207278052206995], \"y\": [-0.06258823610591474, -0.10697094625468871, -0.07141540095116175, 0.22175517027706448, -0.13631030755532061, -0.21053542832806138, 0.08290010017572828, 0.22516907143280343, 0.2281733305909816, -0.05001988538774063, 0.0018204950333135948, 0.0011447838169512808, -0.04797556983719441, -0.007503051148241488, -0.008758029615790251, -0.020819389952229917, -0.009567825081029038, -0.009408040842655615, -0.009556829127564066, -0.009534011139250717], \"topics\": [1, 2, 3, 4, 5, 6, 7, 8, 9, 10, 11, 12, 13, 14, 15, 16, 17, 18, 19, 20], \"cluster\": [1, 1, 1, 1, 1, 1, 1, 1, 1, 1, 1, 1, 1, 1, 1, 1, 1, 1, 1, 1], \"Freq\": [20.641074067903336, 17.419635882682503, 11.800154664894743, 10.71118089134057, 8.433160225019364, 6.129965051612645, 5.515530241023136, 4.6548037076976225, 4.252959621319114, 2.02194571554526, 1.8158267300003135, 1.2987712026112832, 1.0759578659605, 0.9494740174985664, 0.8735932410805243, 0.7909923520358714, 0.5784261093177743, 0.5386245125476802, 0.2856901583197695, 0.21223374158941397]}, \"tinfo\": {\"Term\": [\"ect\", \"say\", \"company\", \"power\", \"market\", \"mail\", \"thank\", \"energy\", \"state\", \"gas\", \"send\", \"need\", \"information\", \"price\", \"contract\", \"new\", \"deal\", \"message\", \"year\", \"trading\", \"change\", \"attach\", \"day\", \"receive\", \"utility\", \"agreement\", \"comment\", \"week\", \"time\", \"report\", \"week\", \"go\", \"think\", \"good\", \"meeting\", \"get\", \"start\", \"tell\", \"try\", \"sure\", \"great\", \"well\", \"pmto\", \"hope\", \"late\", \"hear\", \"click\", \"play\", \"game\", \"night\", \"weekend\", \"guy\", \"course\", \"minute\", \"friend\", \"lose\", \"interested\", \"pick\", \"feel\", \"room\", \"know\", \"look\", \"will\", \"way\", \"work\", \"want\", \"people\", \"soon\", \"come\", \"time\", \"home\", \"find\", \"help\", \"today\", \"give\", \"place\", \"meet\", \"ask\", \"team\", \"plan\", \"report\", \"business\", \"group\", \"support\", \"position\", \"program\", \"risk\", \"current\", \"create\", \"value\", \"addition\", \"management\", \"effort\", \"opportunity\", \"development\", \"develop\", \"discussion\", \"interest\", \"mean\", \"release\", \"application\", \"corporate\", \"specific\", \"activity\", \"production\", \"research\", \"manager\", \"individual\", \"proposal\", \"world\", \"new\", \"rate\", \"include\", \"project\", \"customer\", \"continue\", \"member\", \"additional\", \"issue\", \"rule\", \"currently\", \"industry\", \"change\", \"service\", \"base\", \"year\", \"financial\", \"provide\", \"information\", \"system\", \"request\", \"order\", \"file\", \"employee\", \"transaction\", \"buy\", \"document\", \"complete\", \"access\", \"early\", \"account\", \"datum\", \"firm\", \"online\", \"page\", \"storage\", \"solution\", \"security\", \"original\", \"software\", \"model\", \"item\", \"desk\", \"version\", \"summary\", \"appropriate\", \"user\", \"execute\", \"available\", \"receive\", \"copy\", \"use\", \"form\", \"process\", \"provide\", \"service\", \"review\", \"future\", \"contact\", \"require\", \"site\", \"sale\", \"high\", \"leave\", \"net\", \"close\", \"option\", \"volume\", \"book\", \"news\", \"total\", \"period\", \"show\", \"little\", \"delivery\", \"yesterday\", \"daily\", \"appear\", \"old\", \"analysis\", \"short\", \"happen\", \"estimate\", \"answer\", \"cash\", \"mention\", \"spread\", \"load\", \"post\", \"ve\", \"real\", \"month\", \"location\", \"offer\", \"hour\", \"price\", \"day\", \"purchase\", \"pay\", \"trade\", \"charge\", \"cost\", \"number\", \"base\", \"unit\", \"thank\", \"send\", \"tomorrow\", \"original_message\", \"thought\", \"comsubject\", \"stuff\", \"one\", \"busy\", \"mid\", \"scheduler\", \"asap\", \"phillip\", \"pack\", \"sister\", \"upset\", \"scratch\", \"list\", \"assistance\", \"vkamin\", \"schedule\", \"pm\", \"let\", \"check\", \"speak\", \"confirm\", \"status\", \"forwarded\", \"deal\", \"message\", \"forward\", \"email\", \"talk\", \"need\", \"question\", \"mark\", \"change\", \"thing\", \"number\", \"note\", \"discuss\", \"follow\", \"contact\", \"update\", \"set\", \"call\", \"right\", \"address\", \"ask\", \"say\", \"utility\", \"bill\", \"consumer\", \"cut\", \"decide\", \"company\", \"intend\", \"pressure\", \"legislation\", \"season\", \"unfortunately\", \"positive\", \"background\", \"senior\", \"advice\", \"catch\", \"aggie\", \"skill\", \"colleague\", \"initiate\", \"explore\", \"threaten\", \"satisfy\", \"football\", \"absolutely\", \"extensive\", \"fre\", \"currency\", \"unusual\", \"accord\", \"official\", \"operator\", \"fund\", \"year\", \"plan\", \"raise\", \"take\", \"source\", \"deal\", \"problem\", \"see\", \"turn\", \"likely\", \"thing\", \"reserve\", \"talk\", \"add\", \"come\", \"agreement\", \"credit\", \"party\", \"letter\", \"regard\", \"section\", \"language\", \"reference\", \"requirement\", \"entity\", \"shall\", \"respond\", \"provision\", \"assignment\", \"physical\", \"obligation\", \"amendment\", \"exhibit\", \"counterpartie\", \"incorporate\", \"assign\", \"lender\", \"agent\", \"vendor\", \"affiliate\", \"default\", \"master\", \"termination\", \"nomination\", \"notification\", \"legal\", \"contract\", \"payment\", \"enter\", \"notice\", \"permit\", \"agree\", \"date\", \"term\", \"tax\", \"case\", \"law\", \"indicate\", \"issue\", \"review\", \"sign\", \"trade\", \"require\", \"power\", \"state\", \"electricity\", \"plant\", \"facility\", \"government\", \"exchange\", \"buying\", \"grid\", \"complex\", \"brand\", \"interconnection\", \"district\", \"escape\", \"compensate\", \"compound\", \"judge\", \"competition\", \"developer\", \"water\", \"bargain\", \"reduce\", \"acquire\", \"construct\", \"cheap\", \"endorse\", \"supply\", \"energy\", \"build\", \"country\", \"public\", \"cost\", \"law\", \"call\", \"price\", \"unit\", \"pay\", \"big\", \"industry\", \"large\", \"contract\", \"need\", \"action\", \"fall\", \"set\", \"market\", \"gas\", \"share\", \"capacity\", \"operation\", \"pipeline\", \"transmission\", \"profit\", \"summer\", \"generator\", \"co\", \"submit\", \"presentation\", \"recently\", \"nee\", \"natural_gas\", \"flow\", \"monthly\", \"dynegy\", \"investigation\", \"replace\", \"basic\", \"generally\", \"disclosure\", \"slide\", \"marketer\", \"chair\", \"insight\", \"external\", \"privacy\", \"step\", \"weather\", \"choice\", \"energy\", \"paper\", \"supply\", \"focus\", \"resource\", \"ect\", \"ectcc\", \"enroncc\", \"pdx_ect\", \"hotmail\", \"hou_ect\", \"amto\", \"be\", \"tana_jone\", \"ees\", \"private_free\", \"customize\", \"brant_reve\", \"schott_hou\", \"victor_lamadrid\", \"mail_address\", \"postmaster\", \"katherine_kelly\", \"ectcc_fwd\", \"molly\", \"information_transmitte\", \"aggregation\", \"andrea_re\", \"ee\", \"forward\", \"forwarded\", \"pm\", \"enron_communication\", \"scott_neal\", \"leslie_reeve\", \"legal\", \"location\", \"http\", \"internet\", \"link\", \"partner\", \"www\", \"travel\", \"respect\", \"newsletter\", \"feature\", \"web\", \"search\", \"medium\", \"particularly\", \"sincerely\", \"coalition\", \"registration\", \"professional\", \"publisher\", \"campus\", \"terms_condition\", \"employ\", \"dissemination_distribution\", \"music\", \"consolidated\", \"opening\", \"networking\", \"collaboration\", \"desperate\", \"library\", \"enron_messaging\", \"free\", \"story\", \"community\", \"special\", \"center\", \"acquire\", \"email\", \"site\", \"visit\", \"sponsor\", \"offer\", \"network\", \"asset\", \"potential\", \"session\", \"commodity\", \"attempt\", \"expand\", \"acquisition\", \"interview\", \"dollar\", \"client\", \"http_www\", \"suggestion\", \"partnership\", \"equity\", \"candidate\", \"past\", \"conflict\", \"suspect\", \"foreign\", \"blow\", \"art\", \"guide\", \"accommodate\", \"strength\", \"doubt\", \"lesson\", \"apologize\", \"usual\", \"offer_acceptance\", \"hereto_notintende\", \"mail\", \"fax\", \"notify_sender\", \"message_error\", \"entity_addresse\", \"immediately_mail\", \"delete_copie\", \"retain_copy\", \"disseminate_message\", \"lawyer_intende\", \"ice\", \"carolyn_campbellke\", \"freshfield\", \"love\", \"morning\", \"message\", \"receive\", \"collin\", \"public_affair\", \"steven_kelly\", \"pigott_jack\", \"paula_hall\", \"ball\", \"andy_brown\", \"tony_wetzel\", \"rick_koebbe\", \"steve_ponder\", \"paula_soo\", \"carter\", \"anne_kelly\", \"content\", \"image\", \"ticket\", \"info\", \"bond\", \"article\", \"debt\", \"text\", \"loan\", \"rank\", \"route\", \"american\", \"seat\", \"invitation\", \"gif\", \"organize\", \"excellent\", \"payable\", \"analyze\", \"evaluation\", \"proper\", \"integration\", \"boot\", \"viewer\", \"verification\", \"ceo\", \"bypass\", \"profile\", \"choice\", \"image_image\", \"images_sportsline\", \"trading\", \"sell\", \"conference\", \"database\", \"expansion\", \"panel\", \"enpower\", \"additional_information\", \"overview\", \"financially\", \"sponsorship\", \"inactivate\", \"staffing\", \"eei\", \"enron_fieldprovide\", \"stock\", \"trader\", \"earning\", \"post_close\", \"product\", \"trading_range\", \"stsw\", \"low\", \"split\", \"platform\", \"swap\", \"investment\", \"exposure\", \"decline\", \"stwbom\", \"infrastructure\", \"announce\", \"analyst\", \"investor\", \"easp\", \"loss\", \"percent\", \"target\", \"global\", \"increase\", \"technology\", \"control\", \"demand\", \"propose\", \"attach\", \"draft\", \"revise\", \"circulate\", \"terminate\", \"regardsdelainey\", \"spare\", \"anyquestion\", \"comment\", \"filing\", \"guaranty\", \"signature\", \"acceptable\", \"execution\", \"paragraph\", \"redline\", \"mitigation\", \"policy\", \"edit\", \"waiver\", \"consideration\", \"amend\", \"rocket\", \"energyattorney\", \"raptor\", \"wide\", \"wpd\", \"revised\", \"wording\", \"cpuc\", \"review\", \"propose\", \"extend\", \"statement\", \"ena\", \"previously\", \"transfer\", \"approval\", \"content\", \"approve\", \"correct\", \"probably\", \"control\", \"product\", \"iso\", \"decision\", \"response\", \"school\", \"sit\", \"man\", \"station\", \"understanding\", \"isda\", \"extension\", \"fear\", \"certificate\", \"testimony\", \"wife\", \"storm\", \"dry\", \"river\", \"rough\", \"troubled\", \"se\", \"free_charge\", \"cease\", \"heal\", \"famous\", \"church\", \"burn\", \"aircraft_boee\", \"compressor\", \"compressor_station\", \"seat_smoke\", \"fully_contracte\", \"boy\", \"student\", \"wildhorse\", \"rto\", \"probably\", \"small\", \"demand\", \"face\", \"percent\", \"propose\", \"seek\", \"money\", \"product\", \"policy\", \"low\", \"stock\", \"d\", \"reply\", \"remember\", \"vacation\", \"messages_parse\", \"file_portland\", \"final_schedule\", \"awarded_variance\", \"prohibited_intende\", \"confidential_privilege\", \"fit\", \"scheduling_iso\", \"sue\", \"txt\", \"reader\", \"disclosure_strictly\", \"heat\", \"pop\", \"everyday\", \"sun\", \"appreciate_help\", \"neglect\", \"film\", \"smtp\", \"zoo\", \"final_trans_type\", \"hour_preferred\", \"detected_variance\", \"pubs_bna\", \"detected_load\", \"reason\", \"website\", \"resume\", \"transportation\", \"var\", \"proprietary\", \"invoice\", \"billion_dollar\", \"available_viewe\", \"report_cd_report_name\", \"citizen\", \"southern_ute\", \"contracts_release\", \"enervest\", \"payor\", \"amysubject\", \"stevecc\", \"kleb\", \"wildhorse\", \"accountability\", \"stress\", \"yahoo_group\", \"eastern\", \"risktrac\", \"ultimate\", \"mailbit\", \"req\", \"brand_management\", \"robinx\", \"telephonically\", \"association\", \"spring\", \"broker\", \"llc\", \"iso\", \"product\", \"student\", \"limit\", \"upgrade\", \"demand\", \"representative\", \"separate\", \"enrononline\", \"communication\", \"br\", \"policy\", \"aware\", \"operate\", \"increase\", \"propose\", \"stock\", \"trader\", \"money\", \"far\", \"control\", \"probably\", \"low\", \"small\", \"doc\", \"finalize\", \"treat\", \"soon_possible\", \"brother\", \"impression\", \"rocket\", \"bot\", \"signoff\", \"dave_nevius\", \"criterion\", \"metering\", \"paragraph\", \"messenger\", \"board_resolution\", \"cfs\", \"cta\", \"resolute\", \"cclist\", \"shcnominee\", \"initialsector\", \"role_develope\", \"revamp\", \"composition\", \"oat\", \"toexpand\", \"independence\", \"press_release\", \"comto\", \"pmsent\", \"signature\", \"billing\", \"acceptable\", \"caiso\", \"propose\", \"sheet\", \"vote\", \"statement\", \"execution\", \"filing\", \"pg\", \"approve\", \"policy\", \"wholesale\", \"lawyer\", \"initial\", \"board\", \"product\"], \"Freq\": [43003.0, 37395.0, 35834.0, 25956.0, 24315.0, 16891.0, 25802.0, 23322.0, 16957.0, 15544.0, 18611.0, 26278.0, 19733.0, 21997.0, 16297.0, 25912.0, 19952.0, 11976.0, 22247.0, 7414.0, 19457.0, 6867.0, 18674.0, 12619.0, 11155.0, 10591.0, 6487.0, 18386.0, 28674.0, 16388.0, 18385.67832448812, 16457.5107455513, 16321.853406524315, 12911.35475006065, 11197.459087206797, 10681.772812907324, 8354.382937746108, 7390.7244733635525, 6891.016697951524, 6682.196970412034, 6151.035207258158, 5393.268071593387, 5044.823570036566, 4847.688629615985, 4384.009837960615, 4057.803299910909, 3639.95182966356, 3431.601448679997, 3090.0948602816206, 2955.9264827424054, 2942.2332160514065, 2931.2081036090344, 2926.777795808361, 2907.595116536693, 2812.7291722162686, 2623.2529965265812, 2529.4513359826324, 2522.2012264426758, 2515.7522429205947, 2477.2800675748745, 12811.844216960226, 11877.201080352374, 8520.708999173783, 8213.678019275585, 19364.21863525365, 14871.689076129765, 9224.07757425746, 3822.596585309906, 11494.548335988613, 24357.004296041796, 3983.1461235395946, 8669.83561329404, 9366.60938373602, 10935.905522766994, 5620.953264870195, 5261.646789260097, 5592.719318189289, 6172.368788505093, 5621.006996958667, 5575.882400635417, 16386.98059547889, 15233.890067377095, 13120.176683402726, 8153.838086992913, 7594.848342354486, 6971.846212085039, 6792.623988853291, 6559.788401448121, 5560.608745043501, 5363.289580193519, 4512.056136624917, 4438.158561609478, 4388.014451731303, 4377.712951831454, 4197.4373865081725, 4065.44646539474, 4023.195045623068, 3821.807292310613, 3574.977224783747, 3473.976032294279, 3459.1595847572767, 3371.3194318497563, 3317.8590426688797, 3315.8804750420704, 3290.256617451298, 3191.936858045464, 2861.926638321521, 2706.814093423966, 2665.6094596727185, 2584.537084337226, 25077.59263381769, 9384.014899195852, 16070.51467232715, 9562.647076027779, 10815.912185320034, 7861.99184987373, 5202.704628107249, 5014.0247259613225, 13429.736878319518, 4216.634382224592, 4232.775702464898, 4613.926281705974, 7140.5694337747755, 6042.61874173631, 5122.633146294417, 5990.894618720835, 4281.888596991533, 4715.372194352344, 19731.727499313696, 11568.939120516825, 10814.90173286549, 9979.608915761304, 8703.972617961115, 8563.86645761803, 7668.555635857276, 6829.903113220178, 6475.564837347082, 6373.7174255356485, 5896.327251344378, 5075.155708123624, 5064.3652725081165, 5034.753010026855, 5027.952548563178, 3793.4580248620964, 3553.3071763968082, 3132.474265901735, 2980.9055807993054, 2879.470637793383, 2860.4437793275824, 2647.827490450653, 2468.9265016613554, 2398.596591820435, 2357.4189186866624, 2296.7608379429394, 2216.8273811893146, 2111.4548322109954, 2100.6627311763536, 2044.1641272429852, 8831.377921895464, 11426.024693420743, 4999.583799035275, 9294.33853461695, 5618.63193410934, 5964.605364812258, 9131.043818438866, 8081.514444686978, 5625.003087529595, 4344.707317085722, 4858.474316187266, 3861.803125188475, 3365.644047450597, 8367.262641839296, 7074.412032803938, 6958.71121116283, 6494.125431175945, 6057.157885121752, 5817.373214914556, 5067.8128947239065, 4625.297312696882, 4133.179635153023, 4053.5976530913854, 3830.6159900467146, 3783.3231406259897, 3765.4404248581563, 3750.6147558570665, 3505.895810604825, 3345.640044064856, 3130.966493502419, 3064.7411182978085, 3045.4491375644275, 2982.183722696276, 2965.97835137969, 2877.0014935072013, 2693.027411266971, 2672.5420065073413, 2379.638965123147, 2337.9557965193962, 2329.4113508063483, 2320.0586353657422, 2307.012436334261, 2304.5542012006736, 10224.099410391007, 2760.709082925848, 8933.02054472354, 4589.614522205678, 16955.88503224086, 14490.972771012255, 4994.918118479718, 6844.290989771704, 6815.585656571188, 3918.9592665783157, 6657.3952442643995, 4184.30252745151, 3204.5119839869562, 3077.8027705327263, 25801.315680115393, 18609.955978510767, 4514.766588318953, 3855.0649312328674, 2083.1964696650543, 815.4091701836813, 750.6740531327721, 644.4188722022961, 618.4532272083295, 508.8350216108342, 454.82554636415625, 358.2170753957614, 310.6983171042404, 290.1748408220713, 197.02026429357528, 127.02306499725914, 74.14464318521611, 10277.705962058602, 1348.0690328832636, 31.290420274419187, 8746.601104698839, 9694.475227568084, 4395.827924503518, 4326.897159769327, 3010.4667435332403, 3465.9506783482325, 1724.239938806232, 1639.7853040931686, 16905.84962068688, 10054.51855892685, 6476.282001619616, 7270.037815772845, 5605.574152651449, 20084.542977990284, 9100.829828564112, 2205.0661093237895, 12316.080308744176, 3469.510221090564, 6795.262312482582, 5212.414748429229, 4669.31390419265, 8057.337892130351, 5181.7621605637, 4023.9784325421774, 4072.4591507797422, 3263.951256343147, 3183.4372983515877, 2601.5210925747992, 2821.135199343876, 37394.01379596922, 11153.800934814362, 5850.166741570338, 4227.089324658765, 3497.6953392901273, 2929.224770943432, 35816.248191642946, 2395.9667741851695, 1791.7366641256149, 1319.246855934431, 1228.404923355643, 1196.667678816132, 1144.9641021687348, 1136.5000038461167, 994.9406750252891, 991.2756868066846, 943.891155447592, 860.5877016258514, 813.2310474787243, 719.064613180579, 708.7928699186348, 648.3429622095485, 627.444954452113, 571.3839292537208, 507.15199709993357, 492.7070832709178, 414.5749003329296, 356.6815011856315, 347.1316335211171, 332.8237506081592, 2811.9403415322286, 2388.5389391211297, 1192.1521472476293, 2830.027461168691, 10557.315498752083, 5804.469262176742, 1421.8816182011478, 2000.034422905035, 1366.4869064328886, 3037.9157133171702, 1905.917110176939, 1516.492069196081, 1498.5360685841736, 1438.0975040165076, 1431.9267389554761, 1131.3928024857264, 1271.3933145160988, 1256.4388244780178, 1248.7429836658412, 10590.050464814041, 6256.453660110643, 5194.613167790138, 4729.432046309616, 3758.4022113964243, 3697.978250271053, 2827.333321194622, 2638.5337851064237, 2581.9438825965203, 2541.258473100724, 2314.5622325762833, 2257.444723191394, 2135.435546858103, 1921.2830300470432, 1793.4985477700598, 1552.6373600462173, 1521.7960569224838, 1017.2447374446953, 988.7692754441542, 847.4593746945957, 811.603297963522, 794.9044538773055, 794.7493720532319, 773.3952189781079, 764.3469340579699, 763.7429539255071, 717.6439951671052, 714.3211530163267, 713.8509342006122, 705.8808269034463, 5208.8651268774465, 14540.755521948566, 3030.7991175063885, 2753.964828116742, 2597.9881481860334, 1336.4893648396187, 4770.16468094537, 6824.325415964542, 3477.81360987307, 1990.577187149012, 3203.098224290537, 2289.922818528607, 1951.9023923115615, 3921.8828449763096, 2907.7355923524296, 2467.608013069983, 2454.8266067840673, 1990.561791407414, 25954.85883583768, 16956.47393399022, 6720.686081842254, 6266.801500161337, 3939.978908090679, 3223.329461392868, 2930.246741413711, 905.3626553385385, 891.5653816024497, 678.3713116774157, 561.902141072801, 480.59168917210667, 277.90798902232035, 257.0952494904, 142.09073807957762, 114.04442288851558, 503.8546973909962, 691.2389176694891, 452.33755645064167, 1017.7874865751375, 124.57844313086922, 1707.7326360996099, 577.3008945097242, 202.37597034515116, 348.35002935408016, 135.55411212296355, 2401.380543631536, 10660.196360306945, 2054.7820722510364, 1242.836134151208, 1145.0588985374782, 3244.815472786984, 1260.4304757820985, 2060.7095800623615, 5040.351343960552, 1226.696880209482, 1907.4065223290925, 1364.3875638515515, 1441.2651590658002, 1162.4386340779633, 1755.2728488027274, 1783.2837612883995, 958.9154153411857, 888.1826348536146, 1019.238997496129, 24313.749533841466, 15542.89199307151, 6519.291062691804, 5630.299688634837, 4420.952752238362, 3927.46816542943, 3058.538513343284, 3001.8190171708925, 2992.556600622883, 2867.885060790947, 2792.1215880144023, 2403.2489532639465, 2138.8776561058635, 2063.384826232197, 2063.3672191039664, 1849.6024099388576, 1765.6324147588023, 1449.373177479624, 1377.300398877429, 1280.1542693507588, 1058.09290133096, 926.9948263884999, 854.7636503258965, 758.5440292286974, 695.7001202597393, 669.6917908100152, 623.1905648288223, 488.6859440825675, 474.1824056708962, 406.0793342012067, 2094.1103320933858, 2310.285183628734, 948.9893308446406, 12660.626443685504, 1937.469316113298, 2794.1693503825622, 1758.9283672976421, 971.5999514015193, 43001.99471715085, 5295.357955068313, 1609.5341229204055, 1178.2676678299151, 919.0927935381869, 650.7967320908311, 580.2852049510864, 456.74753867875813, 412.573579756844, 409.3733039480775, 153.39190419334616, 125.09566482854443, 116.31102964905105, 109.06279225004869, 105.05322058892747, 86.34899394855154, 81.1127756673939, 74.52314393853096, 71.13039530943995, 62.32694169267258, 61.86588601601428, 50.081564983617355, 43.87802433103348, 1713.423311394784, 1338.754598488973, 286.3064315369868, 890.290279551727, 0.056584208939500225, 0.056578674050364784, 0.05657771802405957, 51.56975141806769, 6.96741443337797, 3642.131490363938, 3005.111606983211, 2390.2534513809196, 1910.5718119344658, 1898.9603969428586, 1803.67157375663, 1627.0643470734174, 1614.70164073974, 1580.079935128821, 1547.4685830939384, 1279.096062282553, 1243.7140671464192, 1071.8684739615744, 800.720469254208, 759.6037839284834, 670.2855400115042, 545.5462898479212, 487.2934189806948, 460.91498881415504, 345.0225188214458, 286.1938496587374, 275.3225067555322, 224.16927357776206, 215.1601416942287, 213.12504311454404, 164.76467798088763, 151.77123033154479, 150.96730246560364, 111.5972043536658, 97.50423425078353, 6298.755537658089, 2595.828221529555, 664.6686804606902, 1613.183111908255, 1135.4028227306267, 632.3912863116398, 1567.1464706212334, 898.9127441688636, 765.6409953134255, 512.4768847305439, 644.2178603913565, 485.41746864656915, 2687.6217083496936, 2421.9309387077815, 2342.487288731794, 1954.5529462797724, 1440.297730617912, 1428.296220354033, 1383.6314996029155, 1344.3000683072871, 1340.005819159066, 1313.5898038954626, 1282.0308894224172, 1279.7403407883298, 1035.9270968006751, 995.7157318090453, 909.9076544467944, 851.1577215391369, 650.2790666571982, 623.6353488956479, 564.465042145627, 506.19458796844054, 459.39431107065735, 426.36995383086116, 413.2007656052389, 409.390761053725, 395.1921864550051, 379.6069484510782, 366.53144819419975, 364.9884888167884, 354.48154605776966, 342.230174054641, 16890.560570540707, 2771.1773881740887, 263.1020915748768, 250.15134765609795, 181.06933549323307, 141.97909522705766, 136.119734375403, 132.3365531723308, 131.84788994691627, 131.84788994691627, 106.51625751890359, 81.0297913257884, 15.05570338730506, 1538.0830039289538, 2267.280200809929, 1921.0656590838923, 866.8408960665934, 0.05837567069759397, 0.058372144534282376, 0.05837181086695967, 0.058370694523200976, 0.05837002306920589, 0.058367815097786484, 0.05836517459465245, 0.05836316847136653, 0.05836316435201687, 0.058363143755268555, 0.05836313963591889, 0.05836318082941552, 0.05836108408043701, 0.05836303253282765, 5915.930229159047, 2613.36068872162, 1739.6573712156708, 1378.7670676924063, 1372.0152728085113, 1069.2801226959589, 900.3221821795511, 825.2781314750229, 749.1104690855135, 624.3195324394738, 567.3456423680979, 541.0455889607792, 503.58356778388986, 473.670012311639, 387.6175032787589, 373.1363070229417, 359.77440453377835, 348.7973032261061, 345.67696699163525, 243.16635490963264, 233.08349448752546, 179.07777125302, 147.64005016875848, 116.47130561753505, 86.57539405293159, 43.16703354328062, 157.1066543093317, 52.442655411772705, 0.06694694194522646, 0.06684764552733681, 7412.912913808635, 5626.785606220677, 3583.8042239113424, 1234.4926602956864, 752.166789355922, 590.5222973907971, 458.161577317946, 350.49394899706994, 193.5332385217915, 148.51043415877305, 121.95558940451033, 102.18573838891209, 79.49771626198716, 75.63500346467649, 66.65015470682623, 0.05987132020132102, 0.059855861514483966, 0.05985192827871582, 0.05984121221800056, 0.0598626108935487, 0.0598409446509415, 0.05983988107188175, 0.05985527286695404, 0.05984257012082528, 0.059841907892354114, 0.05984362032153208, 0.05984925929730172, 0.059842108567648405, 0.05984416883400315, 0.05983917201917525, 0.059842389513060416, 0.0598485836904776, 0.05984976767471393, 0.05984925260812524, 0.05984446315776811, 0.05984646991071105, 0.0598486974064777, 0.0598445233603564, 0.059845687277063304, 0.05984875760906599, 0.05984713882835869, 0.05984600835753417, 0.059847366260358886, 0.05984664382929943, 6866.134393158558, 3119.187829820168, 1613.1859237983263, 601.3773736787841, 514.6298225265355, 122.92689304118836, 100.19267038791735, 84.28557090268816, 5336.525777959376, 0.05604631360991579, 0.05604274621681767, 0.056040729337527906, 0.05604108668250717, 0.05604039621932689, 0.0560399419672346, 0.05603867006137619, 0.05603817946911652, 0.056048966442134765, 0.056038724571627264, 0.05603809467539262, 0.05603960279233902, 0.05604014183815521, 0.056038203695894774, 0.05603773127371879, 0.05603822186597846, 0.056038415680204505, 0.05603776761388617, 0.05603797959819591, 0.056037707046940534, 0.0560405960902475, 204.81551844549344, 0.056047494665355746, 0.05604051735321817, 0.05604214660405585, 0.05604023874526823, 0.056039899570372656, 0.05604126232664952, 0.05604255845928619, 0.05604039016263233, 0.05604188010949504, 0.05604070511074965, 0.05604198912999719, 0.05604224956786343, 0.05604658616117116, 0.05604077173438985, 0.056040420446105146, 2594.9692971966397, 1506.63821515667, 1117.0065680230805, 981.4247230216981, 652.6384477458107, 626.2436282394797, 621.0088132925065, 502.008042721682, 486.98771074499086, 409.6019375153785, 319.79484438493955, 244.89313920818051, 222.01579547673737, 190.4290110522135, 153.2782537966388, 142.45843104470669, 117.4539244429719, 117.4151471624816, 104.58960019083186, 63.26677038285773, 28.020537715629903, 0.05744907341902084, 0.057449777639095534, 0.057449436601700876, 0.05744825847251931, 0.057448178749491985, 0.05744769598227097, 0.0574476074011295, 0.057447452384131924, 0.05744875452691155, 0.05745189472837669, 0.05744848435443006, 0.057448360340832005, 0.05745273182016359, 0.05745274953639189, 0.05745473375396083, 0.05745147839701178, 0.05745343604023828, 0.057453010850759226, 0.05745150054229715, 0.05745211618123037, 0.057455026071727686, 0.05745233763408405, 0.05745300642170215, 0.05745255908693772, 1886.4695241015602, 1104.668910868988, 964.5159509207921, 850.7062997547438, 616.3685424691804, 616.3685424691804, 611.6593532816235, 503.7715796524812, 502.5084484951868, 447.24860578774036, 437.2259610897192, 429.3217116081522, 395.9764140183677, 322.83332891155095, 312.7660864194991, 303.9347096152094, 236.76848909816604, 205.3154894235835, 179.23777401937127, 149.79153993133605, 106.42821790741948, 71.43892568862947, 67.4336087872574, 46.05339254277289, 2.4568052624982233, 0.04698772279460558, 0.046986976297587094, 0.0469841635298158, 0.04698367273895834, 0.0469819982760329, 1326.2723803302167, 934.8737501307187, 669.7877548513571, 460.40869446129835, 213.82594531304292, 83.40718259198172, 0.041175285593571115, 0.04117087111075947, 0.04117062172966902, 0.041170179843877164, 0.041171330496978714, 0.04116985171086342, 0.04116985171086342, 0.04116985171086342, 0.04116986483618396, 0.04116985171086342, 0.04116985171086342, 0.04116985171086342, 0.04117065235541697, 0.041169904212145614, 0.041170468600929266, 0.041170009214710014, 0.04116991296235931, 0.04117022359494567, 0.041169934837893565, 0.04116944482592637, 0.041169431700605816, 0.04116933982336197, 0.041169278571866065, 0.04116931357272086, 0.04116998733917576, 0.04117015796834292, 0.041171054865247164, 0.04116989983703877, 0.041173404297625615, 0.041177530023385166, 0.041171531751893815, 0.04117164112956507, 0.041170486101356665, 0.04117284865905567, 0.04117040734943336, 0.04117069173137861, 0.04117029797176212, 0.041170980488430715, 0.04117173738191576, 0.04117168050552671, 0.041170227970052514, 0.041170779233515614, 0.04117148800082532, 0.04117117736823896, 0.041171719881488364, 0.04117096736311016, 0.041170809859263566, 0.041170722357126564, 0.04117075735798136, 0.04117069173137861, 0.04117068298116491, 0.041170687356271767, 1599.1359996302056, 312.3904317560295, 280.57051071548125, 161.78225737047438, 141.83645693872546, 86.07725006774017, 0.03168641111522201, 0.03168526380062203, 0.03168530605300107, 0.03168515004421694, 0.031685348305380105, 0.03168462026438749, 0.0316853385548311, 0.03168441225267531, 0.031684005979799965, 0.031683882472845856, 0.031683882472845856, 0.031683882472845856, 0.031683781717172774, 0.031683781717172774, 0.031683781717172774, 0.031683781717172774, 0.031683781717172774, 0.031683781717172774, 0.03168385972156484, 0.031683781717172774, 0.031683781717172774, 0.03168400272961696, 0.031683788217538776, 0.03168382071936881, 0.031684730770609584, 0.03168413923730308, 0.031684571511642445, 0.03168407423364302, 0.031687509677076946, 0.031684288745721205, 0.03168505578890986, 0.03168530930318408, 0.03168422049187815, 0.03168488677939371, 0.03168410673547305, 0.031684935532138754, 0.031685159794765945, 0.03168441550285831, 0.031684230242427155, 0.03168413273693707, 0.03168410348529005, 0.03168417498931611], \"Total\": [43003.0, 37395.0, 35834.0, 25956.0, 24315.0, 16891.0, 25802.0, 23322.0, 16957.0, 15544.0, 18611.0, 26278.0, 19733.0, 21997.0, 16297.0, 25912.0, 19952.0, 11976.0, 22247.0, 7414.0, 19457.0, 6867.0, 18674.0, 12619.0, 11155.0, 10591.0, 6487.0, 18386.0, 28674.0, 16388.0, 18386.96108524044, 16458.79350630362, 16323.136167276629, 12912.637510812963, 11198.74184795911, 10683.055573659638, 8355.665698498422, 7392.0072341158675, 6892.299458703839, 6683.479731164349, 6152.317968010473, 5394.550832345702, 5046.106330800823, 4848.9713903683, 4385.29259871293, 4059.086060663224, 3641.234590430098, 3432.8842094323118, 3091.3776210339356, 2957.2092434947203, 2943.5159768037215, 2932.4909695110805, 2928.060556560676, 2908.8778772890078, 2814.0119329685836, 2624.535757299541, 2530.7340967349473, 2523.4839871949907, 2517.0350036729096, 2478.5628283271894, 12897.991264832823, 11966.93512861561, 8780.397724255707, 8464.350742179025, 20818.181742431447, 15933.413228689355, 9781.293553586253, 3894.0932560766746, 12744.483040624276, 28674.689789624736, 4082.9909966191212, 10126.302511375492, 11813.687572639721, 14856.64774654723, 7390.679321359252, 6641.425603279163, 7574.0605707198765, 9684.511394535923, 8180.191479034946, 11921.788362493282, 16388.26404726731, 15235.173519165504, 13121.460135191135, 8155.121538781324, 7596.131794142896, 6973.129663873449, 6793.907440641701, 6561.071853236531, 5561.892196831911, 5364.5730319819295, 4513.339588413327, 4439.442013397888, 4389.297903519713, 4378.996403619864, 4198.720838296583, 4066.72991718315, 4024.478497411478, 3823.090744099023, 3576.2606765820356, 3475.259484082689, 3460.443036551334, 3372.6028836381665, 3319.14249445729, 3317.1639268304807, 3291.5400692397084, 3193.220309833874, 2863.210090109931, 2708.097545212376, 2666.8929114611287, 2585.8205361256364, 25912.283505452953, 10008.351725066625, 17753.41252359914, 10278.385519742664, 11745.492370044694, 8531.26914464076, 5431.322230168903, 5393.6685607222835, 17352.825972330847, 4604.019376355655, 4857.2494539603595, 6056.384307427512, 19457.858519218487, 14125.333541978538, 8755.735313080799, 22247.399326304174, 5336.797709345776, 14248.090347732348, 19733.010583550982, 11570.222204754104, 10816.184817102769, 9980.891999998583, 8705.255702198394, 8565.14954185531, 7669.838720094555, 6831.186197496496, 6476.847921584362, 6375.000509772928, 5897.610335581658, 5076.438792382516, 5065.648356745396, 5036.036094264135, 5029.235632812192, 3794.741109106328, 3554.590260634088, 3133.7573501560664, 2982.1886650572296, 2880.7537220306626, 2861.726863578213, 2649.1105746948847, 2470.209585898635, 2399.8796760577147, 2358.702002923942, 2298.043922180219, 2218.110465426594, 2112.737916448275, 2101.945815413633, 2045.4472114802654, 8878.332331065338, 12619.208045460846, 5517.048639799335, 11169.469069691419, 6550.164942424553, 7863.222708742447, 14248.090347732348, 14125.333541978538, 8738.704045126646, 6083.504616449688, 10041.444877671325, 6430.561136214157, 4265.764253371915, 8368.546135371966, 7075.695526336608, 6959.9947046955, 6495.408924712734, 6058.441378654422, 5818.656708650525, 5069.096388256577, 4626.580806229552, 4134.463128692644, 4054.8811466240554, 3831.8994835793847, 3784.6066341586597, 3766.7239183908264, 3751.8982493897365, 3507.179304137495, 3346.923537597526, 3132.249987035089, 3066.0246118304785, 3046.7326310970975, 2983.467216228946, 2967.26184491236, 2878.2849870398713, 2694.3109048077126, 2673.8255000400113, 2380.9224586610962, 2339.2392900520663, 2330.6948443390183, 2321.3421288984123, 2308.295929866931, 2305.8376947333436, 10272.174264721878, 2768.903424597978, 9578.446276162742, 4910.009319059381, 21997.429284601418, 18674.79190201006, 5722.009120130781, 8752.890420500793, 9271.61855413453, 4448.361159857438, 9903.403625451381, 11222.527260362438, 8755.735313080799, 4305.692559300599, 25802.607177268917, 18611.24747566429, 4516.058085472473, 3856.3564283863875, 2084.4879668185745, 816.7006673372019, 751.9655502862927, 645.710369443746, 619.7447243937147, 510.12651881615847, 456.11704355671503, 359.50857254928184, 311.9898142680129, 291.4663379755917, 198.31176151961736, 128.31456222191548, 75.43614048194209, 10493.46455043274, 1378.0310030338937, 32.581917427939636, 9461.104634717007, 10586.000437965693, 4921.21458783699, 4912.4051797861575, 3437.2553302732654, 4035.715525119448, 2015.6642241471222, 1927.3266664760388, 19952.84444105052, 11976.81736149089, 7816.271530954472, 8838.400161062773, 6878.167924538577, 26278.814019096033, 12337.776069067497, 2747.131383400949, 19457.858519218487, 4902.637417417069, 11222.527260362438, 8247.685022689755, 7483.6930437876335, 14881.40233511611, 10041.444877671325, 7613.308561313723, 8033.345670719678, 6859.159779350677, 6729.819407976402, 5247.312972856358, 9684.511394535923, 37395.28893665716, 11155.07607550231, 5851.441882258286, 4228.364465355624, 3498.970479978075, 2930.499911653449, 35834.567367321724, 2397.2419149287234, 1793.0118048135637, 1320.52199662238, 1229.6800640616846, 1197.9428195675891, 1146.2392428669357, 1137.7751445832025, 996.2158157132376, 992.5508275248139, 945.1662961604424, 861.8628425019331, 814.5061881955071, 720.3397538891485, 710.0680106339177, 649.618102936452, 628.7200951489721, 572.6590700096067, 508.42713781925244, 493.98222400211364, 415.85004104161845, 357.9566419290343, 348.4067742193175, 334.0988912961075, 2846.0302353668867, 2857.585721402728, 1374.4671041033946, 4128.717974731271, 22247.399326304174, 11921.788362493282, 2335.0811602787785, 7335.917518270353, 3349.7865407229597, 19952.84444105052, 7537.738948788959, 4339.138132944913, 4278.204697493252, 3902.4249535963513, 4902.637417417069, 2265.549013138224, 6878.167924538577, 6713.507031401895, 12744.483040624276, 10591.339442531083, 6257.742637827685, 5195.90214550718, 4730.721024026659, 3759.6911891134664, 3699.2672279880953, 2828.622298911664, 2639.822762823466, 2583.2328603135625, 2542.5474508177663, 2315.8512102933255, 2258.733700931344, 2136.724524575145, 1922.572007764086, 1794.787525495244, 1553.92633776326, 1523.0850346395266, 1018.5337151617379, 990.0582531611968, 848.748352428116, 812.8922756805646, 796.1934316556059, 796.0383497772265, 774.6841967110497, 765.6359117819644, 765.0319316495016, 718.9329728841478, 715.6101307333693, 715.1399119176548, 707.169804626136, 5261.667289704919, 16297.226763335662, 3197.554812820809, 2914.0692105361204, 2745.9170158863344, 1401.9436032505464, 6046.254249090576, 9867.934074104549, 5158.732555326161, 2720.1999525172378, 5467.145902116716, 3551.551686895075, 3130.642164090925, 17352.825972330847, 8738.704045126646, 5985.873081387547, 9271.61855413453, 6430.561136214157, 25956.134431175455, 16957.749529327994, 6721.961677180021, 6268.077095499104, 3941.2545034284453, 3224.6050567375864, 2931.5223367929166, 906.6382506982924, 892.8409769454962, 679.6469070269176, 563.1777364825631, 481.86728450987397, 279.18358436008765, 258.37084487995287, 143.36633348874633, 115.32001829946702, 754.3168086384474, 1040.3913316288372, 697.9667105491139, 1621.7361963643643, 211.20771451183333, 3324.705341608999, 1210.8921536743062, 428.14329121904944, 749.1828670074527, 293.1550989551138, 5196.747132718768, 23322.020042697124, 4708.838793379113, 3037.848997633562, 2872.858242739049, 9903.403625451381, 3551.551686895075, 6859.159779350677, 21997.429284601418, 4305.692559300599, 8752.890420500793, 5143.327186344823, 6056.384307427512, 4406.4456828047205, 16297.226763335662, 26278.814019096033, 4138.626158591395, 3649.8980797545473, 8033.345670719678, 24315.037357678815, 15544.179816908852, 6520.578886529146, 5631.58751247218, 4422.240576075705, 3928.7559892667723, 3059.8263371806265, 3003.106841019969, 2993.844424460225, 2869.1728846372002, 2793.4094118517446, 2404.536777112215, 2140.165479943206, 2064.6726500695395, 2064.655042968408, 1850.8902337762008, 1766.9202385961455, 1450.6610013328666, 1378.5882227147722, 1281.442093208747, 1059.3807251834608, 928.282650225843, 856.0514741765904, 759.8318530713195, 696.9879440970824, 670.9796146473583, 624.4783886862363, 489.9737679199106, 475.47022950823924, 407.36715812355044, 2195.7252658653333, 2457.8650117170487, 1002.6529902347427, 23322.020042697124, 2585.5374611435573, 5196.747132718768, 3002.1160631882826, 3680.3485482031074, 43003.30433131365, 5296.6675692311155, 1610.8437370832087, 1179.5772819927183, 920.4024077079417, 652.106346253634, 581.594819163848, 458.0571529555463, 413.8831939196469, 410.6829181192168, 154.70151837821825, 126.40527966445858, 117.62064381185394, 110.37240641285157, 106.36283475173036, 87.658608187293, 82.42238997741697, 75.83275810133385, 72.44000947224283, 63.63655585547546, 63.17550020007257, 51.39117932881347, 45.18763853460861, 4555.115240721005, 7816.271530954472, 1927.3266664760388, 10586.000437965693, 1.3662124514043061, 1.366212658570595, 1.3662000948694129, 5261.667289704919, 2768.903424597978, 3643.4220483495524, 3006.40216498056, 2391.544009366534, 1911.862369920081, 1900.2509549284737, 1804.9621317422452, 1628.3549050643114, 1615.9921987253551, 1581.3704931144362, 1548.7591410795535, 1280.3866202681681, 1245.0046251526792, 1073.159031995532, 802.0110272398229, 760.8943419663783, 671.5760979971191, 546.8368478452705, 488.5839770023661, 462.20554680474237, 346.3130768123398, 287.48440768147503, 276.6130647642643, 225.45983157064717, 216.4506996798436, 214.4156011289452, 166.05523596650252, 153.06178831715968, 152.25786054277938, 112.88776234425309, 98.79479223639842, 6580.283183202674, 2888.6588510176084, 804.8554227005042, 3005.6906848082026, 2648.7068619476995, 1210.8921536743062, 8838.400161062773, 4265.764253371915, 3943.6639951575817, 1387.7234329463329, 9578.446276162742, 3037.1140649005024, 2688.916008976623, 2423.2252393347107, 2343.781589358723, 1955.8472469067021, 1441.5920312448418, 1429.5905209980147, 1384.9258002504903, 1345.5943689342168, 1341.3001197949063, 1314.8841045223924, 1283.3251900562989, 1281.0346414152596, 1037.2213974276049, 997.010032435975, 911.201955073724, 852.4520221759448, 651.5733672841278, 624.9296495396294, 565.7593427867463, 507.4888886160151, 460.6886117470756, 427.6642544577908, 414.49506623216854, 410.6850616889911, 396.4864870908453, 380.9012491067941, 367.8257488344801, 366.28278945359614, 355.7758466846993, 343.5244746815706, 16891.868397337777, 2772.4852149828926, 264.4099183719465, 251.45917445316766, 182.37716229030278, 143.28692202412736, 137.4275611724727, 133.64437996940052, 133.15571674398598, 133.15571674398598, 107.8240843642109, 82.33761812285812, 16.363530184374785, 1680.9986980906992, 2771.964722978252, 11976.81736149089, 12619.208045460846, 1.3662141374895385, 1.3662053993368946, 1.3662072785923147, 1.366200498144843, 1.366200477235439, 1.3662196818367494, 1.366194101531295, 1.3661919008399173, 1.3661918318582162, 1.3661922677042433, 1.3661952022460335, 1.3661973470326148, 1.366189327397497, 1.366297863453496, 5917.22958974886, 2614.660049311434, 1740.9567318054849, 1380.066428293955, 1373.3146333983254, 1070.5794833145592, 901.6215427763169, 826.5774921007702, 750.4098297604482, 625.6188930499327, 568.6450030221167, 542.3449495505931, 504.88292837757433, 474.9693729014529, 388.91686390569555, 374.4356676451169, 361.07376516117876, 350.09666387785256, 346.97632762407767, 244.4657155047257, 234.3828550773394, 180.37713188149834, 148.93941082560607, 117.77066620734898, 87.87475471192285, 44.46639419477656, 1018.5588106697521, 1002.6529902347427, 1.3665388960840743, 1.3662286599376028, 7414.21925702016, 5628.091949452847, 3585.1105671228675, 1235.7990035072119, 753.4731325962337, 591.8286406394452, 459.4679205375431, 351.80029224755043, 194.83958173331692, 149.81677742830252, 123.26193262298771, 103.49208162012083, 80.80405950234679, 76.9413466762019, 67.95649796045747, 1.3666890557341709, 1.3664549704810651, 1.3663914621844657, 1.3661985829647507, 1.3666921061733035, 1.366199153641365, 1.3661878686576063, 1.3665395709532502, 1.3662524853432405, 1.3662378006847962, 1.3662805577517398, 1.3664099960754632, 1.366246777704746, 1.3662944084078668, 1.3661856238297765, 1.366261191993956, 1.3664122759248711, 1.3664440183101738, 1.3664452615101221, 1.3663127796746994, 1.3663784987338081, 1.366467605354252, 1.3663258497932973, 1.366378151760796, 1.3665199297971737, 1.3664557977871727, 1.3664125341722204, 1.3665086783805322, 1.3664898097997642, 6867.444538944242, 3120.4979756058515, 1614.4960695840102, 602.6875194644679, 515.9399684026191, 124.23703883074268, 101.50281628294182, 85.5957167295759, 6487.348234843941, 1.366319066878945, 1.3662414207079998, 1.3662359571539788, 1.3662450695710608, 1.366234592057079, 1.3662264145551495, 1.366198704775277, 1.3661889389937913, 1.3664568717286942, 1.3662089775436546, 1.3661949214360325, 1.366235228663556, 1.3662487437251007, 1.3662022900402586, 1.3661912995441194, 1.3662051771145347, 1.3662100276547853, 1.3661953801941487, 1.3662041652921717, 1.366200809191358, 1.3662729563714455, 8738.704045126646, 1.3664898097997642, 1.3662813046422582, 1.3663369756205117, 1.3662762344587165, 1.3662661549510287, 1.366329853979034, 1.3663864122348737, 1.366297863453496, 1.366381728432438, 1.3663181077067437, 1.3663962791629818, 1.3664125341722204, 1.3666921061733035, 1.3663950527883633, 1.3664526716988727, 2596.27803202587, 1507.946950030698, 1118.315302848192, 982.7334578468094, 653.9471825997082, 627.5523630684614, 622.3175481176178, 503.3167775467932, 488.29644563232745, 410.9106723404897, 321.1035792100508, 246.20187403329177, 223.32453031867874, 191.73774589931122, 154.58698865550875, 143.76716589808947, 118.76265934322592, 118.7238820107256, 105.89833506197645, 64.57550524555549, 29.329272557889528, 1.3661917640367183, 1.3662106633279911, 1.3662170832729672, 1.366192939119133, 1.366192603114822, 1.366187172154613, 1.366187148930556, 1.3661841089979894, 1.3662160083676256, 1.3663174114059398, 1.3662155909559937, 1.366214237452381, 1.3663962791629818, 1.3664048320405031, 1.3665086783805322, 1.3663623815843482, 1.366467605354252, 1.3664898097997642, 1.3663821779070504, 1.3664338239803213, 1.3666921061733035, 1.3664568717286942, 1.3665395709532502, 1.3666890557341709, 1887.7887340227614, 1105.9881207901892, 965.8351608419933, 852.025509675945, 617.6877523903817, 617.6877523903817, 612.9785632028247, 505.0907895736824, 503.82765841638803, 448.56781570894157, 438.545171083222, 430.6409215293534, 397.29562400774813, 324.15253883275216, 314.0852964247746, 305.2539195364106, 238.08769906828374, 206.63469940203768, 180.55698397460662, 151.11074986675945, 107.74742782862072, 72.75813567479166, 68.75281871736918, 47.37260246397411, 3.7760151836994504, 1.3662075635414648, 1.3662024100915648, 1.3662006112607745, 1.366229643237067, 1.3661953008300811, 1327.597392308853, 936.19876206198, 671.1127667826185, 461.7337064213459, 215.1509572443042, 84.73219457430643, 1.3663061235308465, 1.366190836965177, 1.366188955650981, 1.366186919422084, 1.366225200306208, 1.3661835269017586, 1.3661836294789098, 1.3661836346665523, 1.3661841858928738, 1.3661839201626664, 1.3661841130743562, 1.3661843952311579, 1.3662155909559937, 1.3661918272929416, 1.3662106416783208, 1.366197650747713, 1.3661949346743403, 1.36620732148971, 1.3662000967661958, 1.3661839472659982, 1.3661870714528006, 1.366184111161566, 1.3661831666741184, 1.366184561913272, 1.3662104330944405, 1.3662176587656827, 1.3662589956669988, 1.3662097276569416, 1.3663950527883633, 1.3666921061733035, 1.3663174114059398, 1.3663520093227928, 1.3662508493209977, 1.3665086783805322, 1.3662497025217843, 1.3662882295541388, 1.3662364491809083, 1.3663289824616347, 1.3664458926489293, 1.3664568717286942, 1.3662473475311556, 1.3663474016608714, 1.3665199297971737, 1.3664898097997642, 1.3666890557341709, 1.3664549704810651, 1.3664338239803213, 1.3663908157880544, 1.3664125341722204, 1.3663962791629818, 1.3665395709532502, 1.3664048320405031, 1600.4704976872556, 313.7249298130795, 281.9050088702013, 163.11675542752437, 143.17095507524905, 87.41174813821058, 1.3662022900402586, 1.3661877989127105, 1.3661924955023002, 1.3661867077108003, 1.3662090655288353, 1.366187748443112, 1.3662264145551495, 1.3662011043874782, 1.3661849147941005, 1.3661840485385723, 1.3661840485385723, 1.3661840544057793, 1.3661836120880915, 1.3661836120880915, 1.3661836120880915, 1.366183713531487, 1.366184341516493, 1.3661856317100283, 1.3661895703023883, 1.3661863484267458, 1.3661868248219533, 1.366196997811603, 1.3661901453811285, 1.366192762635256, 1.3662359571539788, 1.3662109773767646, 1.3662450695710608, 1.3662101320825242, 1.3664898097997642, 1.36623265270712, 1.3663077948331852, 1.3663369756205117, 1.366234592057079, 1.366319066878945, 1.3662324255716816, 1.366381728432438, 1.3664568717286942, 1.3662993270743802, 1.3662837512738057, 1.3662820187578466, 1.3662832413721233, 1.3666921061733035], \"Category\": [\"Default\", \"Default\", \"Default\", \"Default\", \"Default\", \"Default\", \"Default\", \"Default\", \"Default\", \"Default\", \"Default\", \"Default\", \"Default\", \"Default\", \"Default\", \"Default\", \"Default\", \"Default\", \"Default\", \"Default\", \"Default\", \"Default\", \"Default\", \"Default\", \"Default\", \"Default\", \"Default\", \"Default\", \"Default\", \"Default\", \"Topic1\", \"Topic1\", \"Topic1\", \"Topic1\", \"Topic1\", \"Topic1\", \"Topic1\", \"Topic1\", \"Topic1\", \"Topic1\", \"Topic1\", \"Topic1\", \"Topic1\", \"Topic1\", \"Topic1\", \"Topic1\", \"Topic1\", \"Topic1\", \"Topic1\", \"Topic1\", \"Topic1\", \"Topic1\", \"Topic1\", \"Topic1\", \"Topic1\", \"Topic1\", \"Topic1\", \"Topic1\", \"Topic1\", \"Topic1\", \"Topic1\", \"Topic1\", \"Topic1\", \"Topic1\", \"Topic1\", \"Topic1\", \"Topic1\", \"Topic1\", \"Topic1\", \"Topic1\", \"Topic1\", \"Topic1\", \"Topic1\", \"Topic1\", \"Topic1\", \"Topic1\", \"Topic1\", \"Topic1\", \"Topic1\", \"Topic1\", \"Topic2\", \"Topic2\", \"Topic2\", \"Topic2\", \"Topic2\", \"Topic2\", \"Topic2\", \"Topic2\", \"Topic2\", \"Topic2\", \"Topic2\", \"Topic2\", \"Topic2\", \"Topic2\", \"Topic2\", \"Topic2\", \"Topic2\", \"Topic2\", \"Topic2\", \"Topic2\", \"Topic2\", \"Topic2\", \"Topic2\", \"Topic2\", \"Topic2\", \"Topic2\", \"Topic2\", \"Topic2\", \"Topic2\", \"Topic2\", \"Topic2\", \"Topic2\", \"Topic2\", \"Topic2\", \"Topic2\", \"Topic2\", \"Topic2\", \"Topic2\", \"Topic2\", \"Topic2\", \"Topic2\", \"Topic2\", \"Topic2\", \"Topic2\", \"Topic2\", \"Topic2\", \"Topic2\", \"Topic2\", \"Topic3\", \"Topic3\", \"Topic3\", \"Topic3\", \"Topic3\", \"Topic3\", \"Topic3\", \"Topic3\", \"Topic3\", \"Topic3\", \"Topic3\", \"Topic3\", \"Topic3\", \"Topic3\", \"Topic3\", \"Topic3\", \"Topic3\", \"Topic3\", \"Topic3\", \"Topic3\", \"Topic3\", \"Topic3\", \"Topic3\", \"Topic3\", \"Topic3\", \"Topic3\", \"Topic3\", \"Topic3\", \"Topic3\", \"Topic3\", \"Topic3\", \"Topic3\", \"Topic3\", \"Topic3\", \"Topic3\", \"Topic3\", \"Topic3\", \"Topic3\", \"Topic3\", \"Topic3\", \"Topic3\", \"Topic3\", \"Topic3\", \"Topic4\", \"Topic4\", \"Topic4\", \"Topic4\", \"Topic4\", \"Topic4\", \"Topic4\", \"Topic4\", \"Topic4\", \"Topic4\", \"Topic4\", \"Topic4\", \"Topic4\", \"Topic4\", \"Topic4\", \"Topic4\", \"Topic4\", \"Topic4\", \"Topic4\", \"Topic4\", \"Topic4\", \"Topic4\", \"Topic4\", \"Topic4\", \"Topic4\", \"Topic4\", \"Topic4\", \"Topic4\", \"Topic4\", \"Topic4\", \"Topic4\", \"Topic4\", \"Topic4\", \"Topic4\", \"Topic4\", \"Topic4\", \"Topic4\", \"Topic4\", \"Topic4\", \"Topic4\", \"Topic4\", \"Topic4\", \"Topic4\", \"Topic4\", \"Topic5\", \"Topic5\", \"Topic5\", \"Topic5\", \"Topic5\", \"Topic5\", \"Topic5\", \"Topic5\", \"Topic5\", \"Topic5\", \"Topic5\", \"Topic5\", \"Topic5\", \"Topic5\", \"Topic5\", \"Topic5\", \"Topic5\", \"Topic5\", \"Topic5\", \"Topic5\", \"Topic5\", \"Topic5\", \"Topic5\", \"Topic5\", \"Topic5\", \"Topic5\", \"Topic5\", \"Topic5\", \"Topic5\", \"Topic5\", \"Topic5\", \"Topic5\", \"Topic5\", \"Topic5\", \"Topic5\", \"Topic5\", \"Topic5\", \"Topic5\", \"Topic5\", \"Topic5\", \"Topic5\", \"Topic5\", \"Topic5\", \"Topic5\", \"Topic5\", \"Topic5\", \"Topic5\", \"Topic5\", \"Topic5\", \"Topic6\", \"Topic6\", \"Topic6\", \"Topic6\", \"Topic6\", \"Topic6\", \"Topic6\", \"Topic6\", \"Topic6\", \"Topic6\", \"Topic6\", \"Topic6\", \"Topic6\", \"Topic6\", \"Topic6\", \"Topic6\", \"Topic6\", \"Topic6\", \"Topic6\", \"Topic6\", \"Topic6\", \"Topic6\", \"Topic6\", \"Topic6\", \"Topic6\", \"Topic6\", \"Topic6\", \"Topic6\", \"Topic6\", \"Topic6\", \"Topic6\", \"Topic6\", \"Topic6\", \"Topic6\", \"Topic6\", \"Topic6\", \"Topic6\", \"Topic6\", \"Topic6\", \"Topic6\", \"Topic6\", \"Topic6\", \"Topic6\", \"Topic6\", \"Topic6\", \"Topic6\", \"Topic6\", \"Topic6\", \"Topic6\", \"Topic7\", \"Topic7\", \"Topic7\", \"Topic7\", \"Topic7\", \"Topic7\", \"Topic7\", \"Topic7\", \"Topic7\", \"Topic7\", \"Topic7\", \"Topic7\", \"Topic7\", \"Topic7\", \"Topic7\", \"Topic7\", \"Topic7\", \"Topic7\", \"Topic7\", \"Topic7\", \"Topic7\", \"Topic7\", \"Topic7\", \"Topic7\", \"Topic7\", \"Topic7\", \"Topic7\", \"Topic7\", \"Topic7\", \"Topic7\", \"Topic7\", \"Topic7\", \"Topic7\", \"Topic7\", \"Topic7\", \"Topic7\", \"Topic7\", \"Topic7\", \"Topic7\", \"Topic7\", \"Topic7\", \"Topic7\", \"Topic7\", \"Topic7\", \"Topic7\", \"Topic7\", \"Topic7\", \"Topic7\", \"Topic8\", \"Topic8\", \"Topic8\", \"Topic8\", \"Topic8\", \"Topic8\", \"Topic8\", \"Topic8\", \"Topic8\", \"Topic8\", \"Topic8\", \"Topic8\", \"Topic8\", \"Topic8\", \"Topic8\", \"Topic8\", \"Topic8\", \"Topic8\", \"Topic8\", \"Topic8\", \"Topic8\", \"Topic8\", \"Topic8\", \"Topic8\", \"Topic8\", \"Topic8\", \"Topic8\", \"Topic8\", \"Topic8\", \"Topic8\", \"Topic8\", \"Topic8\", \"Topic8\", \"Topic8\", \"Topic8\", \"Topic8\", \"Topic8\", \"Topic8\", \"Topic8\", \"Topic8\", \"Topic8\", \"Topic8\", \"Topic8\", \"Topic8\", \"Topic8\", \"Topic9\", \"Topic9\", \"Topic9\", \"Topic9\", \"Topic9\", \"Topic9\", \"Topic9\", \"Topic9\", \"Topic9\", \"Topic9\", \"Topic9\", \"Topic9\", \"Topic9\", \"Topic9\", \"Topic9\", \"Topic9\", \"Topic9\", \"Topic9\", \"Topic9\", \"Topic9\", \"Topic9\", \"Topic9\", \"Topic9\", \"Topic9\", \"Topic9\", \"Topic9\", \"Topic9\", \"Topic9\", \"Topic9\", \"Topic9\", \"Topic9\", \"Topic9\", \"Topic9\", \"Topic9\", \"Topic9\", \"Topic9\", \"Topic9\", \"Topic9\", \"Topic10\", \"Topic10\", \"Topic10\", \"Topic10\", \"Topic10\", \"Topic10\", \"Topic10\", \"Topic10\", \"Topic10\", \"Topic10\", \"Topic10\", \"Topic10\", \"Topic10\", \"Topic10\", \"Topic10\", \"Topic10\", \"Topic10\", \"Topic10\", \"Topic10\", \"Topic10\", \"Topic10\", \"Topic10\", \"Topic10\", \"Topic10\", \"Topic10\", \"Topic10\", \"Topic10\", \"Topic10\", \"Topic10\", \"Topic10\", \"Topic10\", \"Topic10\", \"Topic11\", \"Topic11\", \"Topic11\", \"Topic11\", \"Topic11\", \"Topic11\", \"Topic11\", \"Topic11\", \"Topic11\", \"Topic11\", \"Topic11\", \"Topic11\", \"Topic11\", \"Topic11\", \"Topic11\", \"Topic11\", \"Topic11\", \"Topic11\", \"Topic11\", \"Topic11\", \"Topic11\", \"Topic11\", \"Topic11\", \"Topic11\", \"Topic11\", \"Topic11\", \"Topic11\", \"Topic11\", \"Topic11\", \"Topic11\", \"Topic11\", \"Topic11\", \"Topic11\", \"Topic11\", \"Topic11\", \"Topic11\", \"Topic11\", \"Topic11\", \"Topic11\", \"Topic11\", \"Topic11\", \"Topic11\", \"Topic12\", \"Topic12\", \"Topic12\", \"Topic12\", \"Topic12\", \"Topic12\", \"Topic12\", \"Topic12\", \"Topic12\", \"Topic12\", \"Topic12\", \"Topic12\", \"Topic12\", \"Topic12\", \"Topic12\", \"Topic12\", \"Topic12\", \"Topic12\", \"Topic12\", \"Topic12\", \"Topic12\", \"Topic12\", \"Topic12\", \"Topic12\", \"Topic12\", \"Topic12\", \"Topic12\", \"Topic12\", \"Topic12\", \"Topic12\", \"Topic13\", \"Topic13\", \"Topic13\", \"Topic13\", \"Topic13\", \"Topic13\", \"Topic13\", \"Topic13\", \"Topic13\", \"Topic13\", \"Topic13\", \"Topic13\", \"Topic13\", \"Topic13\", \"Topic13\", \"Topic13\", \"Topic13\", \"Topic13\", \"Topic13\", \"Topic13\", \"Topic13\", \"Topic13\", \"Topic13\", \"Topic13\", \"Topic13\", \"Topic13\", \"Topic13\", \"Topic13\", \"Topic13\", \"Topic13\", \"Topic13\", \"Topic14\", \"Topic14\", \"Topic14\", \"Topic14\", \"Topic14\", \"Topic14\", \"Topic14\", \"Topic14\", \"Topic14\", \"Topic14\", \"Topic14\", \"Topic14\", \"Topic14\", \"Topic14\", \"Topic14\", \"Topic14\", \"Topic14\", \"Topic14\", \"Topic14\", \"Topic14\", \"Topic14\", \"Topic14\", \"Topic14\", \"Topic14\", \"Topic14\", \"Topic14\", \"Topic14\", \"Topic14\", \"Topic14\", \"Topic14\", \"Topic15\", \"Topic15\", \"Topic15\", \"Topic15\", \"Topic15\", \"Topic15\", \"Topic15\", \"Topic15\", \"Topic15\", \"Topic15\", \"Topic15\", \"Topic15\", \"Topic15\", \"Topic15\", \"Topic15\", \"Topic15\", \"Topic15\", \"Topic15\", \"Topic15\", \"Topic15\", \"Topic15\", \"Topic15\", \"Topic15\", \"Topic15\", \"Topic15\", \"Topic15\", \"Topic15\", \"Topic15\", \"Topic15\", \"Topic15\", \"Topic15\", \"Topic15\", \"Topic15\", \"Topic15\", \"Topic15\", \"Topic15\", \"Topic15\", \"Topic15\", \"Topic15\", \"Topic15\", \"Topic15\", \"Topic15\", \"Topic15\", \"Topic15\", \"Topic16\", \"Topic16\", \"Topic16\", \"Topic16\", \"Topic16\", \"Topic16\", \"Topic16\", \"Topic16\", \"Topic16\", \"Topic16\", \"Topic16\", \"Topic16\", \"Topic16\", \"Topic16\", \"Topic16\", \"Topic16\", \"Topic16\", \"Topic16\", \"Topic16\", \"Topic16\", \"Topic16\", \"Topic16\", \"Topic16\", \"Topic16\", \"Topic16\", \"Topic16\", \"Topic16\", \"Topic16\", \"Topic16\", \"Topic16\", \"Topic16\", \"Topic16\", \"Topic16\", \"Topic16\", \"Topic16\", \"Topic16\", \"Topic16\", \"Topic16\", \"Topic16\", \"Topic16\", \"Topic16\", \"Topic16\", \"Topic16\", \"Topic16\", \"Topic16\", \"Topic16\", \"Topic17\", \"Topic17\", \"Topic17\", \"Topic17\", \"Topic17\", \"Topic17\", \"Topic17\", \"Topic17\", \"Topic17\", \"Topic17\", \"Topic17\", \"Topic17\", \"Topic17\", \"Topic17\", \"Topic17\", \"Topic17\", \"Topic17\", \"Topic17\", \"Topic17\", \"Topic17\", \"Topic17\", \"Topic17\", \"Topic17\", \"Topic17\", \"Topic17\", \"Topic17\", \"Topic17\", \"Topic17\", \"Topic17\", \"Topic17\", \"Topic17\", \"Topic17\", \"Topic17\", \"Topic17\", \"Topic17\", \"Topic17\", \"Topic17\", \"Topic17\", \"Topic17\", \"Topic17\", \"Topic17\", \"Topic17\", \"Topic17\", \"Topic17\", \"Topic17\", \"Topic18\", \"Topic18\", \"Topic18\", \"Topic18\", \"Topic18\", \"Topic18\", \"Topic18\", \"Topic18\", \"Topic18\", \"Topic18\", \"Topic18\", \"Topic18\", \"Topic18\", \"Topic18\", \"Topic18\", \"Topic18\", \"Topic18\", \"Topic18\", \"Topic18\", \"Topic18\", \"Topic18\", \"Topic18\", \"Topic18\", \"Topic18\", \"Topic18\", \"Topic18\", \"Topic18\", \"Topic18\", \"Topic18\", \"Topic18\", \"Topic19\", \"Topic19\", \"Topic19\", \"Topic19\", \"Topic19\", \"Topic19\", \"Topic19\", \"Topic19\", \"Topic19\", \"Topic19\", \"Topic19\", \"Topic19\", \"Topic19\", \"Topic19\", \"Topic19\", \"Topic19\", \"Topic19\", \"Topic19\", \"Topic19\", \"Topic19\", \"Topic19\", \"Topic19\", \"Topic19\", \"Topic19\", \"Topic19\", \"Topic19\", \"Topic19\", \"Topic19\", \"Topic19\", \"Topic19\", \"Topic19\", \"Topic19\", \"Topic19\", \"Topic19\", \"Topic19\", \"Topic19\", \"Topic19\", \"Topic19\", \"Topic19\", \"Topic19\", \"Topic19\", \"Topic19\", \"Topic19\", \"Topic19\", \"Topic19\", \"Topic19\", \"Topic19\", \"Topic19\", \"Topic19\", \"Topic19\", \"Topic19\", \"Topic19\", \"Topic19\", \"Topic19\", \"Topic19\", \"Topic19\", \"Topic19\", \"Topic19\", \"Topic20\", \"Topic20\", \"Topic20\", \"Topic20\", \"Topic20\", \"Topic20\", \"Topic20\", \"Topic20\", \"Topic20\", \"Topic20\", \"Topic20\", \"Topic20\", \"Topic20\", \"Topic20\", \"Topic20\", \"Topic20\", \"Topic20\", \"Topic20\", \"Topic20\", \"Topic20\", \"Topic20\", \"Topic20\", \"Topic20\", \"Topic20\", \"Topic20\", \"Topic20\", \"Topic20\", \"Topic20\", \"Topic20\", \"Topic20\", \"Topic20\", \"Topic20\", \"Topic20\", \"Topic20\", \"Topic20\", \"Topic20\", \"Topic20\", \"Topic20\", \"Topic20\", \"Topic20\", \"Topic20\", \"Topic20\", \"Topic20\", \"Topic20\", \"Topic20\", \"Topic20\", \"Topic20\", \"Topic20\"], \"logprob\": [30.0, 29.0, 28.0, 27.0, 26.0, 25.0, 24.0, 23.0, 22.0, 21.0, 20.0, 19.0, 18.0, 17.0, 16.0, 15.0, 14.0, 13.0, 12.0, 11.0, 10.0, 9.0, 8.0, 7.0, 6.0, 5.0, 4.0, 3.0, 2.0, 1.0, -3.632499933242798, -3.743299961090088, -3.7516000270843506, -3.9860000610351562, -4.128399848937988, -4.17549991607666, -4.421299934387207, -4.543799877166748, -4.613900184631348, -4.644599914550781, -4.727499961853027, -4.85890007019043, -4.9257001876831055, -4.96560001373291, -5.066100120544434, -5.143400192260742, -5.252099990844727, -5.310999870300293, -5.415900230407715, -5.460299968719482, -5.464900016784668, -5.468699932098389, -5.470200061798096, -5.4766998291015625, -5.509900093078613, -5.579699993133545, -5.616099834442139, -5.618899822235107, -5.621500015258789, -5.636899948120117, -3.9937000274658203, -4.069499969482422, -4.401599884033203, -4.438300132751465, -3.5806000232696533, -3.844599962234497, -4.322299957275391, -5.203100204467773, -4.102200031280518, -3.351300001144409, -5.1620001792907715, -4.384200096130371, -4.3069000244140625, -4.1519999504089355, -4.817599773406982, -4.883600234985352, -4.8225998878479, -4.723999977111816, -4.817599773406982, -4.8256001472473145, -3.577899932861328, -3.650899887084961, -3.8001999855041504, -4.275899887084961, -4.34689998626709, -4.432499885559082, -4.458600044250488, -4.4934000968933105, -4.658699989318848, -4.694799900054932, -4.867599964141846, -4.884200096130371, -4.895500183105469, -4.897900104522705, -4.939899921417236, -4.97189998626709, -4.9822998046875, -5.033699989318848, -5.100399971008301, -5.1290998458862305, -5.133399963378906, -5.15910005569458, -5.175099849700928, -5.1757001876831055, -5.1834001541137695, -5.213799953460693, -5.32289981842041, -5.378600120544434, -5.394000053405762, -5.424799919128418, -3.152400016784668, -4.13539981842041, -3.597399950027466, -4.116499900817871, -3.9934000968933105, -4.312300205230713, -4.725200176239014, -4.762199878692627, -3.776900053024292, -4.935400009155273, -4.93149995803833, -4.845300197601318, -4.408599853515625, -4.5756001472473145, -4.740699768066406, -4.584099769592285, -4.920000076293945, -4.823599815368652, -3.002700090408325, -3.536600112915039, -3.6040000915527344, -3.6844000816345215, -3.8210999965667725, -3.837399959564209, -3.9477999210357666, -4.063600063323975, -4.1168999671936035, -4.132699966430664, -4.210599899291992, -4.360499858856201, -4.36269998550415, -4.368500232696533, -4.369900226593018, -4.651599884033203, -4.7170000076293945, -4.843100070953369, -4.8927001953125, -4.927299976348877, -4.933899879455566, -5.011199951171875, -5.081099987030029, -5.110000133514404, -5.127299785614014, -5.15339994430542, -5.188799858093262, -5.237500190734863, -5.242700099945068, -5.269899845123291, -3.8066000938415527, -3.5490000247955322, -4.375500202178955, -3.755500078201294, -4.258800029754639, -4.199100017547607, -3.773200035095215, -3.8952999114990234, -4.257699966430664, -4.515900135040283, -4.404200077056885, -4.633800029754639, -4.771299839019775, -3.7637999057769775, -3.9316000938415527, -3.9481000900268555, -4.017199993133545, -4.0868000984191895, -4.127200126647949, -4.265200138092041, -4.356500148773193, -4.468999862670898, -4.488500118255615, -4.545100212097168, -4.557499885559082, -4.56220006942749, -4.566199779510498, -4.633600234985352, -4.6803998947143555, -4.746699810028076, -4.768099784851074, -4.774400234222412, -4.795400142669678, -4.800899982452393, -4.831299781799316, -4.89739990234375, -4.90500020980835, -5.021100044250488, -5.03879976272583, -5.042500019073486, -5.046500205993652, -5.05210018157959, -5.053199768066406, -3.5632998943328857, -4.872600078582764, -3.6982998847961426, -4.364299774169922, -3.057499885559082, -3.214600086212158, -4.279699802398682, -3.9646999835968018, -3.968899965286255, -4.522299766540527, -3.9923999309539795, -4.456699848175049, -4.723499774932861, -4.763899803161621, -2.3984999656677246, -2.7253000736236572, -4.141600131988525, -4.299600124359131, -4.91510009765625, -5.853000164031982, -5.935699939727783, -6.088399887084961, -6.129499912261963, -6.3246002197265625, -6.436800003051758, -6.675600051879883, -6.81790018081665, -6.886199951171875, -7.273399829864502, -7.712399959564209, -8.250699996948242, -3.319000005722046, -5.350299835205078, -9.11340045928955, -3.480299949645996, -3.3773999214172363, -4.168300151824951, -4.184100151062012, -4.546899795532227, -4.406000137329102, -5.1041998863220215, -5.154399871826172, -2.8213000297546387, -3.34089994430542, -3.7808001041412354, -3.6651999950408936, -3.9251999855041504, -2.6489999294281006, -3.4405999183654785, -4.8582000732421875, -3.1380999088287354, -4.404900074005127, -3.7327001094818115, -3.9979000091552734, -4.107999801635742, -3.5624001026153564, -4.003799915313721, -4.256700038909912, -4.244699954986572, -4.466000080108643, -4.491000175476074, -4.69290018081665, -4.611800193786621, -1.7085000276565552, -2.9182000160217285, -3.563499927520752, -3.8884999752044678, -4.077899932861328, -4.255199909210205, -1.7516000270843506, -4.456200122833252, -4.746799945831299, -5.0528998374938965, -5.124300003051758, -5.150400161743164, -5.1946001052856445, -5.202000141143799, -5.335100173950195, -5.338699817657471, -5.387700080871582, -5.480100154876709, -5.5366997718811035, -5.659800052642822, -5.674200057983398, -5.763299942016602, -5.79610013961792, -5.889699935913086, -6.008900165557861, -6.037799835205078, -6.2104997634887695, -6.360899925231934, -6.388000011444092, -6.430099964141846, -4.29610013961792, -4.4593000411987305, -5.154200077056885, -4.289700031280518, -2.9732000827789307, -3.5713999271392822, -4.978000164031982, -4.6367998123168945, -5.0177001953125, -4.218800067901611, -4.684999942779541, -4.913599967956543, -4.92549991607666, -4.966700077056885, -4.9710001945495605, -5.206500053405762, -5.089900016784668, -5.1016998291015625, -5.107800006866455, -2.8643999099731445, -3.390700101852417, -3.57669997215271, -3.670599937438965, -3.900399923324585, -3.916599988937378, -4.184999942779541, -4.2540998458862305, -4.2758002281188965, -4.2916998863220215, -4.3850998878479, -4.410099983215332, -4.465700149536133, -4.571400165557861, -4.640200138092041, -4.78439998626709, -4.804500102996826, -5.207300186157227, -5.2357001304626465, -5.389900207519531, -5.43310022354126, -5.45389986038208, -5.454100131988525, -5.481299877166748, -5.493100166320801, -5.493899822235107, -5.556099891662598, -5.560800075531006, -5.561399936676025, -5.572700023651123, -3.5739998817443848, -2.5473999977111816, -4.115499973297119, -4.211299896240234, -4.269599914550781, -4.934299945831299, -3.6619999408721924, -3.3039000034332275, -3.9779999256134033, -4.535900115966797, -4.060200214385986, -4.3958001136779785, -4.555600166320801, -3.857800006866455, -4.1570000648498535, -4.321100234985352, -4.326300144195557, -4.535900115966797, -1.79830002784729, -2.2239999771118164, -3.1494998931884766, -3.219399929046631, -3.683500051498413, -3.8842999935150146, -3.979599952697754, -5.154099941253662, -5.16949987411499, -5.442800045013428, -5.631100177764893, -5.787399768829346, -6.33519983291626, -6.413000106811523, -7.00600004196167, -7.225900173187256, -5.740200042724609, -5.423999786376953, -5.8480000495910645, -5.037099838256836, -7.137499809265137, -4.519499778747559, -5.604100227355957, -6.652299880981445, -6.1092000007629395, -7.053100109100342, -4.178599834442139, -2.688199996948242, -4.334499835968018, -4.837299823760986, -4.9191999435424805, -3.8775999546051025, -4.823200225830078, -4.331600189208984, -3.4372000694274902, -4.850399971008301, -4.408899784088135, -4.74399995803833, -4.689199924468994, -4.904200077056885, -4.492099761962891, -4.476200103759766, -5.09660005569458, -5.173299789428711, -5.035600185394287, -1.7733999490737915, -2.2207999229431152, -3.089600086212158, -3.2362000942230225, -3.478100061416626, -3.596400022506714, -3.8464999198913574, -3.8652000427246094, -3.868299961090088, -3.910799980163574, -3.9375998973846436, -4.087600231170654, -4.204100131988525, -4.240099906921387, -4.240099906921387, -4.349400043487549, -4.395899772644043, -4.593299865722656, -4.6442999839782715, -4.717400074005127, -4.907899856567383, -5.040200233459473, -5.121300220489502, -5.240799903869629, -5.327199935913086, -5.365300178527832, -5.437300205230713, -5.6803998947143555, -5.710599899291992, -5.865600109100342, -4.225299835205078, -4.126999855041504, -5.0167999267578125, -2.4258999824523926, -4.302999973297119, -3.9368999004364014, -4.399700164794922, -4.993199825286865, -0.4596000015735626, -2.553999900817871, -3.7448999881744385, -4.05679988861084, -4.305200099945068, -4.650400161743164, -4.765100002288818, -5.004499912261963, -5.106200218200684, -5.113999843597412, -6.095600128173828, -6.299499988555908, -6.372300148010254, -6.436699867248535, -6.474100112915039, -6.670199871063232, -6.732800006866455, -6.817500114440918, -6.864099979400635, -6.996200084686279, -7.003600120544434, -7.215000152587891, -7.3471999168396, -3.6823999881744385, -3.9291000366210938, -5.471499919891357, -4.337100028991699, -14.00059986114502, -14.000699996948242, -14.000699996948242, -7.185699939727783, -9.187399864196777, -2.8208000659942627, -3.013000011444092, -3.2418999671936035, -3.46589994430542, -3.4719998836517334, -3.5234999656677246, -3.6266000270843506, -3.634200096130371, -3.655900001525879, -3.6767001152038574, -3.8671998977661133, -3.89520001411438, -4.043900012969971, -4.335599899291992, -4.388299942016602, -4.513400077819824, -4.719299793243408, -4.832200050354004, -4.887899875640869, -5.177499771118164, -5.3643999099731445, -5.40310001373291, -5.608699798583984, -5.649700164794922, -5.659200191497803, -5.916600227355957, -5.998700141906738, -6.004000186920166, -6.30620002746582, -6.441199779510498, -2.2730000019073486, -3.15939998626709, -4.5218000411987305, -3.6350998878479004, -3.986299991607666, -4.571599960327148, -3.664099931716919, -4.219900131225586, -4.38040018081665, -4.781799793243408, -4.553100109100342, -4.836100101470947, -2.789599895477295, -2.8935999870300293, -2.927000045776367, -3.1080000400543213, -3.4133999347686768, -3.4217000007629395, -3.4535000324249268, -3.482300043106079, -3.4855000972747803, -3.5053999423980713, -3.5297999382019043, -3.531599998474121, -3.7428998947143555, -3.7825000286102295, -3.8726000785827637, -3.9393999576568604, -4.208600044250488, -4.250400066375732, -4.350100040435791, -4.459000110626221, -4.556099891662598, -4.63070011138916, -4.6620001792907715, -4.671299934387207, -4.706600189208984, -4.746799945831299, -4.781899929046631, -4.786099910736084, -4.815299987792969, -4.850500106811523, -0.7631999850273132, -2.57069993019104, -4.92519998550415, -4.9756999015808105, -5.298900127410889, -5.542099952697754, -5.584199905395508, -5.612400054931641, -5.616099834442139, -5.616099834442139, -5.829500198364258, -6.10290002822876, -7.785999774932861, -3.1594998836517334, -2.771399974822998, -2.9370999336242676, -3.7328999042510986, -13.338600158691406, -13.338700294494629, -13.338700294494629, -13.338700294494629, -13.338700294494629, -13.338700294494629, -13.338800430297852, -13.338800430297852, -13.338800430297852, -13.338800430297852, -13.338800430297852, -13.338800430297852, -13.338899612426758, -13.338800430297852, -1.6872999668121338, -2.504300117492676, -2.91129994392395, -3.1438000202178955, -3.148699998855591, -3.3980000019073486, -3.5699000358581543, -3.6570000648498535, -3.7537999153137207, -3.936000108718872, -4.031700134277344, -4.07919979095459, -4.151000022888184, -4.212200164794922, -4.412700176239014, -4.450799942016602, -4.487199783325195, -4.518199920654297, -4.527200222015381, -4.879000186920166, -4.921299934387207, -5.184899806976318, -5.377900123596191, -5.615099906921387, -5.9116997718811035, -6.607600212097168, -5.315800189971924, -6.413000106811523, -13.076600074768066, -13.07800006866455, -1.3783999681472778, -1.654099941253662, -2.1052000522613525, -3.1710000038146973, -3.6663999557495117, -3.908400058746338, -4.162199974060059, -4.430099964141846, -5.02400016784668, -5.28879976272583, -5.4857001304626465, -5.662600040435791, -5.913700103759766, -5.963500022888184, -6.089900016784668, -13.104999542236328, -13.105199813842773, -13.105299949645996, -13.105500221252441, -13.10509967803955, -13.105500221252441, -13.105500221252441, -13.105199813842773, -13.105400085449219, -13.105500221252441, -13.105400085449219, -13.105299949645996, -13.105500221252441, -13.105400085449219, -13.105500221252441, -13.105400085449219, -13.105299949645996, -13.105299949645996, -13.105299949645996, -13.105400085449219, -13.105400085449219, -13.105299949645996, -13.105400085449219, -13.105400085449219, -13.105299949645996, -13.105400085449219, -13.105400085449219, -13.105400085449219, -13.105400085449219, -1.3557000160217285, -2.1447999477386475, -2.8041000366210938, -3.7908999919891357, -3.9465999603271484, -5.378499984741211, -5.583000183105469, -5.755899906158447, -1.607699990272522, -13.071700096130371, -13.071700096130371, -13.071800231933594, -13.071800231933594, -13.071800231933594, -13.071800231933594, -13.071800231933594, -13.071800231933594, -13.071599960327148, -13.071800231933594, -13.071800231933594, -13.071800231933594, -13.071800231933594, -13.071800231933594, -13.071800231933594, -13.071800231933594, -13.071800231933594, -13.071800231933594, -13.071800231933594, -13.071800231933594, -13.071800231933594, -4.868000030517578, -13.071599960327148, -13.071800231933594, -13.071700096130371, -13.071800231933594, -13.071800231933594, -13.071700096130371, -13.071700096130371, -13.071800231933594, -13.071700096130371, -13.071800231933594, -13.071700096130371, -13.071700096130371, -13.071700096130371, -13.071800231933594, -13.071800231933594, -2.0157999992370605, -2.559499979019165, -2.8587000370025635, -2.988100051879883, -3.3961000442504883, -3.4374001026153564, -3.4458000659942627, -3.6584999561309814, -3.6888999938964844, -3.8619000911712646, -4.109399795532227, -4.376299858093262, -4.474400043487549, -4.627799987792969, -4.844799995422363, -4.918099880218506, -5.111100196838379, -5.111400127410889, -5.227099895477295, -5.729700088500977, -6.5441999435424805, -12.734000205993652, -12.73390007019043, -12.734000205993652, -12.734000205993652, -12.734000205993652, -12.734000205993652, -12.734000205993652, -12.734000205993652, -12.734000205993652, -12.73390007019043, -12.734000205993652, -12.734000205993652, -12.73390007019043, -12.73390007019043, -12.73390007019043, -12.73390007019043, -12.73390007019043, -12.73390007019043, -12.73390007019043, -12.73390007019043, -12.73390007019043, -12.73390007019043, -12.73390007019043, -12.73390007019043, -2.2632999420166016, -2.7985000610351562, -2.9342000484466553, -3.0597000122070312, -3.381999969482422, -3.381999969482422, -3.3896000385284424, -3.583699941635132, -3.586199998855591, -3.702699899673462, -3.725399971008301, -3.7435998916625977, -3.82450008392334, -4.02869987487793, -4.060400009155273, -4.089000225067139, -4.338699817657471, -4.481299877166748, -4.617099761962891, -4.796599864959717, -5.138299942016602, -5.5370001792907715, -5.594699859619141, -5.97599983215332, -8.906900405883789, -12.863699913024902, -12.863699913024902, -12.863800048828125, -12.863800048828125, -12.863800048828125, -1.981600046157837, -2.3313000202178955, -2.6647000312805176, -3.039599895477295, -3.80649995803833, -4.748000144958496, -12.361599922180176, -12.361700057983398, -12.361700057983398, -12.361700057983398, -12.361700057983398, -12.361700057983398, -12.361700057983398, -12.361700057983398, -12.361700057983398, -12.361700057983398, -12.361700057983398, -12.361700057983398, -12.361700057983398, -12.361700057983398, -12.361700057983398, -12.361700057983398, -12.361700057983398, -12.361700057983398, -12.361700057983398, -12.361800193786621, -12.361800193786621, -12.361800193786621, -12.361800193786621, -12.361800193786621, -12.361700057983398, -12.361700057983398, -12.361700057983398, -12.361700057983398, -12.361700057983398, -12.361599922180176, -12.361700057983398, -12.361700057983398, -12.361700057983398, -12.361700057983398, -12.361700057983398, -12.361700057983398, -12.361700057983398, -12.361700057983398, -12.361700057983398, -12.361700057983398, -12.361700057983398, -12.361700057983398, -12.361700057983398, -12.361700057983398, -12.361700057983398, -12.361700057983398, -12.361700057983398, -12.361700057983398, -12.361700057983398, -12.361700057983398, -12.361700057983398, -12.361700057983398, -1.4973000288009644, -3.130199909210205, -3.2376999855041504, -3.7881999015808105, -3.919800043106079, -4.4191999435424805, -12.326299667358398, -12.326399803161621, -12.326399803161621, -12.326399803161621, -12.326399803161621, -12.326399803161621, -12.326399803161621, -12.326399803161621, -12.326399803161621, -12.326399803161621, -12.326399803161621, -12.326399803161621, -12.326399803161621, -12.326399803161621, -12.326399803161621, -12.326399803161621, -12.326399803161621, -12.326399803161621, -12.326399803161621, -12.326399803161621, -12.326399803161621, -12.326399803161621, -12.326399803161621, -12.326399803161621, -12.326399803161621, -12.326399803161621, -12.326399803161621, -12.326399803161621, -12.326299667358398, -12.326399803161621, -12.326399803161621, -12.326399803161621, -12.326399803161621, -12.326399803161621, -12.326399803161621, -12.326399803161621, -12.326399803161621, -12.326399803161621, -12.326399803161621, -12.326399803161621, -12.326399803161621, -12.326399803161621], \"loglift\": [30.0, 29.0, 28.0, 27.0, 26.0, 25.0, 24.0, 23.0, 22.0, 21.0, 20.0, 19.0, 18.0, 17.0, 16.0, 15.0, 14.0, 13.0, 12.0, 11.0, 10.0, 9.0, 8.0, 7.0, 6.0, 5.0, 4.0, 3.0, 2.0, 1.0, 1.5778, 1.5778, 1.5778, 1.5778, 1.5778, 1.5778, 1.5777, 1.5777, 1.5777, 1.5777, 1.5777, 1.5776, 1.5776, 1.5776, 1.5776, 1.5776, 1.5775, 1.5775, 1.5775, 1.5775, 1.5775, 1.5774, 1.5774, 1.5774, 1.5774, 1.5774, 1.5774, 1.5774, 1.5774, 1.5774, 1.5712, 1.5704, 1.5479, 1.5478, 1.5055, 1.5089, 1.5192, 1.5594, 1.4747, 1.4147, 1.5531, 1.4226, 1.3458, 1.2715, 1.3042, 1.345, 1.2746, 1.1274, 1.2027, 0.818, 1.7475, 1.7475, 1.7475, 1.7474, 1.7474, 1.7474, 1.7474, 1.7474, 1.7473, 1.7473, 1.7473, 1.7473, 1.7473, 1.7473, 1.7473, 1.7473, 1.7473, 1.7472, 1.7472, 1.7472, 1.7472, 1.7472, 1.7472, 1.7472, 1.7472, 1.7472, 1.7471, 1.7471, 1.7471, 1.7471, 1.7148, 1.6832, 1.648, 1.6754, 1.6651, 1.6659, 1.7046, 1.6746, 1.4913, 1.6597, 1.61, 1.4755, 0.7451, 0.8984, 1.2115, 0.4356, 1.5273, 0.6418, 2.137, 2.1369, 2.1369, 2.1369, 2.1369, 2.1369, 2.1369, 2.1369, 2.1369, 2.1369, 2.1368, 2.1368, 2.1368, 2.1368, 2.1368, 2.1367, 2.1367, 2.1366, 2.1366, 2.1366, 2.1366, 2.1366, 2.1365, 2.1365, 2.1365, 2.1365, 2.1365, 2.1365, 2.1364, 2.1364, 2.1318, 2.0377, 2.0386, 1.9533, 1.9837, 1.8607, 1.6921, 1.5787, 1.6965, 1.8004, 1.4111, 1.6271, 1.9001, 2.2337, 2.2337, 2.2337, 2.2337, 2.2337, 2.2337, 2.2336, 2.2336, 2.2336, 2.2336, 2.2335, 2.2335, 2.2335, 2.2335, 2.2335, 2.2335, 2.2335, 2.2335, 2.2335, 2.2335, 2.2334, 2.2334, 2.2334, 2.2334, 2.2333, 2.2333, 2.2333, 2.2333, 2.2333, 2.2333, 2.2292, 2.2309, 2.1641, 2.1664, 1.9736, 1.9802, 2.098, 1.9879, 1.9261, 2.1072, 1.8367, 1.2473, 1.2287, 1.8982, 2.4729, 2.4729, 2.4727, 2.4727, 2.4724, 2.4714, 2.4713, 2.471, 2.4709, 2.4705, 2.4702, 2.4694, 2.4689, 2.4686, 2.4665, 2.4629, 2.4557, 2.4522, 2.451, 2.4326, 2.3945, 2.385, 2.3601, 2.3461, 2.3404, 2.3208, 2.3168, 2.3114, 2.3073, 2.298, 2.2849, 2.2777, 2.2684, 2.2042, 2.1687, 2.2532, 2.0157, 2.1272, 1.9713, 2.0141, 2.0013, 1.8595, 1.8114, 1.8354, 1.7936, 1.7304, 1.7244, 1.7714, 1.2396, 2.7919, 2.7919, 2.7918, 2.7917, 2.7916, 2.7915, 2.7915, 2.7914, 2.7913, 2.791, 2.7909, 2.7909, 2.7909, 2.7909, 2.7907, 2.7907, 2.7906, 2.7905, 2.7904, 2.7902, 2.7902, 2.79, 2.79, 2.7898, 2.7895, 2.7894, 2.7889, 2.7884, 2.7883, 2.7882, 2.7799, 2.6127, 2.6497, 2.4143, 2.0466, 2.0722, 2.2959, 1.4924, 1.8953, 0.9098, 1.417, 1.7407, 1.7429, 1.7937, 1.5612, 2.0976, 1.1037, 1.1161, 0.469, 2.8975, 2.8974, 2.8974, 2.8973, 2.8973, 2.8973, 2.8971, 2.8971, 2.8971, 2.8971, 2.897, 2.897, 2.897, 2.8969, 2.8969, 2.8968, 2.8968, 2.8963, 2.8963, 2.8961, 2.896, 2.896, 2.896, 2.8959, 2.8959, 2.8959, 2.8958, 2.8958, 2.8958, 2.8958, 2.8875, 2.7836, 2.844, 2.8411, 2.8422, 2.8498, 2.6605, 2.5288, 2.5033, 2.5853, 2.363, 2.4587, 2.4252, 1.4104, 1.7972, 2.0114, 1.5687, 1.725, 3.0672, 3.0672, 3.0671, 3.0671, 3.0669, 3.0669, 3.0668, 3.0659, 3.0658, 3.0654, 3.065, 3.0646, 3.0627, 3.0623, 3.0583, 3.0561, 2.6637, 2.6584, 2.6335, 2.6014, 2.5394, 2.4011, 2.3265, 2.3179, 2.3015, 2.2959, 2.2953, 2.2844, 2.238, 2.1735, 2.1474, 1.9515, 2.0313, 1.8647, 1.5938, 1.8117, 1.5436, 1.7403, 1.6317, 1.7347, 0.8389, 0.377, 1.605, 1.654, 1.0027, 3.1575, 3.1575, 3.1574, 3.1573, 3.1573, 3.1572, 3.1571, 3.1571, 3.1571, 3.1571, 3.1571, 3.157, 3.157, 3.1569, 3.1569, 3.1569, 3.1568, 3.1567, 3.1566, 3.1565, 3.1563, 3.1562, 3.156, 3.1559, 3.1557, 3.1556, 3.1555, 3.1549, 3.1548, 3.1544, 3.1102, 3.0956, 3.1025, 2.5467, 2.869, 2.5371, 2.6229, 1.8257, 3.9011, 3.9009, 3.9003, 3.9, 3.8997, 3.8991, 3.8989, 3.8982, 3.8979, 3.8979, 3.8926, 3.8907, 3.8899, 3.8892, 3.8887, 3.8861, 3.8851, 3.8837, 3.8829, 3.8803, 3.8802, 3.8753, 3.8717, 2.9234, 2.1366, 1.9943, 1.4254, 0.717, 0.7169, 0.7169, -0.7242, -2.0839, 4.0083, 4.0082, 4.0081, 4.008, 4.008, 4.0079, 4.0078, 4.0078, 4.0078, 4.0078, 4.0076, 4.0076, 4.0074, 4.007, 4.0069, 4.0067, 4.0063, 4.006, 4.0058, 4.0049, 4.0041, 4.004, 4.0029, 4.0026, 4.0026, 4.0008, 4.0002, 4.0001, 3.9971, 3.9955, 3.9649, 3.9017, 3.8173, 3.3863, 3.1615, 3.359, 2.2788, 2.4514, 2.3695, 3.0125, 1.3094, 2.175, 4.3433, 4.3432, 4.3432, 4.3431, 4.3429, 4.3428, 4.3428, 4.3428, 4.3428, 4.3428, 4.3427, 4.3427, 4.3425, 4.3425, 4.3423, 4.3422, 4.3418, 4.3417, 4.3415, 4.3412, 4.3409, 4.3407, 4.3406, 4.3406, 4.3405, 4.3403, 4.3402, 4.3402, 4.3401, 4.34, 4.5319, 4.5315, 4.527, 4.5267, 4.5248, 4.5228, 4.5224, 4.5221, 4.5221, 4.5221, 4.5198, 4.5159, 4.4487, 4.4431, 4.331, 2.7019, 1.8538, 1.3791, 1.379, 1.379, 1.379, 1.379, 1.3789, 1.3789, 1.3789, 1.3789, 1.3789, 1.3789, 1.3789, 1.3788, 1.3788, 4.6568, 4.6565, 4.6563, 4.6561, 4.6561, 4.6558, 4.6556, 4.6554, 4.6553, 4.6549, 4.6547, 4.6546, 4.6544, 4.6543, 4.6537, 4.6535, 4.6534, 4.6533, 4.6533, 4.6517, 4.6515, 4.6498, 4.6483, 4.6459, 4.6421, 4.6274, 2.7878, 1.7063, 1.6409, 1.6396, 4.7401, 4.7401, 4.7399, 4.7393, 4.7386, 4.7381, 4.7375, 4.7366, 4.7336, 4.7316, 4.7297, 4.7276, 4.724, 4.7232, 4.7209, 1.6124, 1.6123, 1.6123, 1.6122, 1.6122, 1.6122, 1.6122, 1.6122, 1.6122, 1.6122, 1.6122, 1.6122, 1.6122, 1.6122, 1.6122, 1.6122, 1.6122, 1.6122, 1.6122, 1.6122, 1.6122, 1.6121, 1.6122, 1.6122, 1.6121, 1.6121, 1.6121, 1.6121, 1.6121, 4.8394, 4.8392, 4.8388, 4.8375, 4.8371, 4.829, 4.8266, 4.8242, 4.6444, 1.6459, 1.6459, 1.6459, 1.6459, 1.6459, 1.6459, 1.6459, 1.6459, 1.6459, 1.6459, 1.6459, 1.6459, 1.6459, 1.6459, 1.6459, 1.6459, 1.6459, 1.6459, 1.6459, 1.6459, 1.6459, 1.0862, 1.6458, 1.6459, 1.6459, 1.6459, 1.6459, 1.6458, 1.6458, 1.6458, 1.6458, 1.6458, 1.6458, 1.6458, 1.6457, 1.6458, 1.6457, 5.1521, 5.1517, 5.1514, 5.1513, 5.1506, 5.1505, 5.1505, 5.15, 5.1499, 5.1494, 5.1485, 5.1473, 5.1467, 5.1458, 5.1441, 5.1435, 5.1415, 5.1415, 5.1402, 5.1321, 5.107, 1.9837, 1.9837, 1.9837, 1.9837, 1.9837, 1.9837, 1.9837, 1.9837, 1.9837, 1.9837, 1.9837, 1.9837, 1.9836, 1.9836, 1.9836, 1.9836, 1.9836, 1.9836, 1.9836, 1.9836, 1.9835, 1.9836, 1.9835, 1.9834, 5.2232, 5.2227, 5.2225, 5.2224, 5.2218, 5.2218, 5.2218, 5.2213, 5.2213, 5.221, 5.2209, 5.2208, 5.2206, 5.2198, 5.2197, 5.2196, 5.2184, 5.2175, 5.2166, 5.2151, 5.2116, 5.2056, 5.2045, 5.1957, 4.7941, 1.854, 1.854, 1.8539, 1.8539, 1.8539, 5.857, 5.8566, 5.856, 5.8551, 5.8518, 5.8423, 2.356, 2.356, 2.356, 2.356, 2.356, 2.3559, 2.3559, 2.3559, 2.3559, 2.3559, 2.3559, 2.3559, 2.3559, 2.3559, 2.3559, 2.3559, 2.3559, 2.3559, 2.3559, 2.3559, 2.3559, 2.3559, 2.3559, 2.3559, 2.3559, 2.3559, 2.3559, 2.3559, 2.3559, 2.3558, 2.3559, 2.3559, 2.3559, 2.3558, 2.3559, 2.3559, 2.3559, 2.3559, 2.3558, 2.3558, 2.3559, 2.3559, 2.3557, 2.3558, 2.3556, 2.3558, 2.3558, 2.3558, 2.3558, 2.3558, 2.3557, 2.3558, 6.1544, 6.151, 6.1505, 6.147, 6.1459, 6.1399, 2.3913, 2.3913, 2.3913, 2.3913, 2.3913, 2.3913, 2.3913, 2.3913, 2.3913, 2.3913, 2.3913, 2.3913, 2.3913, 2.3913, 2.3913, 2.3913, 2.3913, 2.3913, 2.3913, 2.3913, 2.3913, 2.3913, 2.3913, 2.3913, 2.3913, 2.3913, 2.3912, 2.3913, 2.3912, 2.3912, 2.3912, 2.3912, 2.3912, 2.3912, 2.3912, 2.3912, 2.3911, 2.3912, 2.3912, 2.3912, 2.3912, 2.3909]}, \"token.table\": {\"Topic\": [6, 3, 12, 6, 7, 3, 8, 11, 12, 1, 2, 8, 2, 2, 3, 5, 6, 2, 2, 4, 7, 15, 2, 3, 5, 6, 7, 7, 6, 10, 1, 2, 7, 8, 7, 7, 14, 10, 4, 14, 10, 4, 16, 12, 4, 2, 18, 3, 12, 14, 5, 1, 3, 5, 6, 12, 7, 7, 4, 5, 16, 12, 1, 3, 18, 6, 1, 8, 2, 4, 8, 9, 10, 1, 8, 6, 12, 14, 4, 14, 8, 10, 20, 1, 2, 8, 2, 5, 3, 8, 14, 2, 5, 8, 11, 12, 9, 13, 4, 6, 7, 4, 6, 17, 3, 11, 14, 17, 9, 2, 5, 4, 8, 1, 8, 1, 5, 11, 9, 14, 16, 1, 12, 4, 9, 11, 11, 6, 1, 6, 6, 16, 12, 8, 11, 2, 6, 8, 2, 8, 3, 8, 8, 5, 15, 18, 5, 7, 12, 11, 1, 8, 6, 3, 5, 2, 6, 7, 8, 3, 7, 2, 4, 8, 7, 1, 8, 1, 2, 7, 6, 2, 2, 3, 2, 6, 10, 6, 18, 4, 15, 1, 7, 3, 1, 4, 4, 5, 6, 14, 6, 7, 13, 4, 3, 11, 2, 8, 11, 2, 9, 18, 2, 5, 7, 2, 13, 11, 8, 20, 3, 12, 12, 16, 17, 9, 3, 10, 10, 10, 3, 10, 15, 10, 2, 8, 5, 11, 11, 3, 2, 8, 8, 9, 15, 15, 11, 10, 7, 9, 7, 13, 12, 8, 4, 14, 18, 14, 8, 3, 7, 12, 15, 6, 17, 6, 9, 8, 1, 8, 13, 17, 11, 1, 3, 18, 18, 18, 20, 2, 6, 15, 1, 2, 3, 4, 3, 18, 9, 4, 9, 12, 2, 3, 4, 5, 7, 6, 12, 3, 7, 5, 10, 5, 10, 6, 8, 11, 17, 13, 1, 2, 6, 1, 3, 8, 1, 9, 9, 9, 1, 14, 1, 3, 7, 8, 1, 1, 8, 1, 8, 2, 12, 1, 4, 17, 1, 18, 1, 3, 8, 12, 4, 1, 11, 1, 10, 10, 1, 4, 11, 12, 13, 14, 13, 20, 15, 2, 3, 7, 2, 4, 7, 2, 2, 8, 14, 3, 10, 6, 9, 14, 6, 8, 2, 1, 11, 12, 9, 14, 17, 2, 7, 3, 1, 8, 10, 1, 5, 7, 2, 4, 8, 1, 7, 8, 13, 4, 7, 10, 6, 7, 12, 2, 5, 7, 11, 2, 6, 11, 3, 5, 4, 4, 14, 4, 10, 1, 5, 1, 6, 13, 13, 10, 17, 2, 2, 2, 5, 9, 9, 7, 2, 11, 1, 2, 1, 2, 11, 4, 5, 13, 13, 18, 5, 1, 3, 10, 4, 8, 9, 6, 13, 11, 9, 9, 1, 2, 3, 5, 8, 18, 4, 3, 8, 11, 11, 1, 2, 3, 4, 11, 1, 7, 4, 5, 7, 3, 7, 7, 13, 2, 4, 5, 7, 4, 11, 12, 6, 8, 4, 5, 3, 11, 9, 2, 6, 2, 4, 3, 14, 3, 5, 15, 5, 3, 15, 1, 9, 11, 11, 12, 7, 12, 4, 8, 14, 7, 8, 10, 1, 6, 4, 7, 9, 5, 7, 1, 9, 1, 2, 7, 1, 3, 6, 8, 1, 5, 10, 1, 18, 2, 6, 4, 10, 12, 8, 9, 6, 4, 8, 9, 10, 1, 3, 6, 2, 3, 2, 11, 3, 14, 9, 2, 18, 2, 8, 14, 2, 19, 2, 3, 7, 7, 2, 8, 11, 4, 8, 2, 3, 5, 2, 6, 14, 2, 6, 18, 4, 19, 1, 3, 13, 9, 3, 8, 7, 7, 16, 11, 2, 18, 9, 18, 2, 3, 3, 7, 8, 7, 2, 1, 6, 9, 3, 9, 11, 7, 17, 19, 13, 3, 7, 16, 16, 2, 5, 7, 2, 17, 1, 17, 14, 2, 6, 4, 6, 6, 3, 5, 5, 18, 17, 10, 5, 17, 11, 6, 14, 7, 3, 4, 6, 15, 5, 6, 2, 3, 12, 1, 2, 4, 5, 8, 7, 9, 4, 4, 1, 3, 7, 8, 11, 5, 17, 3, 11, 6, 9, 18, 3, 3, 1, 3, 20, 2, 6, 16, 5, 6, 1, 2, 11, 2, 1, 11, 15, 4, 15, 1, 8, 17, 2, 5, 7, 9, 3, 17, 9, 11, 12, 5, 9, 18, 12, 3, 9, 18, 8, 9, 2, 1, 12, 3, 1, 4, 6, 5, 6, 10, 4, 7, 1, 2, 1, 4, 7, 16, 7, 11, 17, 14, 5, 5, 6, 1, 5, 6, 14, 1, 3, 4, 1, 4, 5, 5, 4, 4, 7, 15, 3, 9, 19, 11, 20, 17, 1, 1, 6, 18, 17, 6, 4, 8, 6, 1, 5, 5, 1, 3, 4, 8, 3, 12, 6, 18, 2, 19, 4, 7, 14, 3, 10, 14, 1, 11, 5, 4, 1, 5, 1, 8, 1, 8, 1, 9, 11, 19, 1, 1, 1, 17, 1, 5, 1, 2, 2, 11, 1, 2, 4, 6, 4, 18], \"Freq\": [0.9980116207539698, 0.9997269511734368, 0.9963930421518429, 0.9880429115109173, 0.011595098179182172, 0.9996746010324224, 0.4765081665193412, 0.5219292222534205, 0.9993315163524842, 0.04615058057454697, 0.7219787160039076, 0.23171940717796097, 0.9996491198939351, 0.09443648409609395, 0.4608619586645342, 0.2573915528675873, 0.18708552685282967, 0.999703193525086, 0.9296084740009607, 0.036153500684121924, 0.03392866987279135, 0.9948826300397624, 0.19552864586262714, 0.3085388671068161, 0.4958728426262727, 0.9984375333919359, 0.9978633293491198, 0.9986956033242406, 0.9989988633232774, 0.9729296087970202, 0.10188125980521796, 0.01075045760931683, 0.7889181968683273, 0.09807725172807508, 0.9998735341702198, 0.9992876073135448, 0.9971071529453803, 0.9972578518389472, 0.9994313150161543, 0.9968675397654312, 0.9737176233783712, 0.9995134545143348, 0.9813575165844188, 0.9977550542965068, 0.9996009299895402, 0.9995829908089537, 0.9837821852100255, 0.9991774103002815, 0.9963345919477544, 0.999042729636491, 0.9958037925533054, 0.6373062871795774, 0.019722213358927296, 0.29128986327504663, 0.05142231545940206, 0.9996593389404634, 0.9989023444959942, 0.9991823412815033, 0.021044519271448296, 0.9782073095831828, 0.9997896540793231, 0.9988956436978449, 0.005181153203631016, 0.9946687813318588, 0.9978404089003423, 0.9993187190044598, 0.402447420997199, 0.5918344426429397, 0.5851022006508575, 0.36604578432285734, 0.04876803429200003, 0.9986182546603334, 0.9976920937731784, 0.7345439757420699, 0.26519798383064674, 0.9997535851355446, 0.9970661650936329, 0.9992272630707544, 0.9996583208430244, 0.9923652634503409, 0.9979087659076886, 0.986221433930881, 0.9918212805479043, 0.09938756040194746, 0.46402098179114365, 0.436413326123936, 0.9999229730357827, 0.9971847692686348, 0.9998263555607765, 0.9981930492155713, 0.9670224172359625, 0.22349676189422746, 0.47586003315248426, 0.30047412019830577, 0.9973917517583326, 0.9986809125386186, 0.9997181056906842, 0.9837544714875985, 0.3103996180791466, 0.10352750962451207, 0.5858632744298802, 0.9996912662999141, 0.9987660413144436, 0.9756021228240576, 0.5708445965546245, 0.4285109901385574, 0.9900454377962075, 0.9977837705326497, 0.9976326023237626, 0.36699824869971426, 0.6329576293216189, 0.8809986103119372, 0.11869539837833704, 0.5339150394586117, 0.4645060843289922, 0.08509070092996604, 0.8808312510142657, 0.03399556711795294, 0.9464889739947004, 0.05186240953395619, 0.9972000092751757, 0.9996609418043697, 0.9993276179099347, 0.9997620875462293, 0.9994954510263462, 0.998824617404741, 0.9930630085481587, 0.9981401083559319, 0.9019589075020596, 0.09800319055851, 0.17726811608837031, 0.8226782048379412, 0.9995668133551625, 0.1727018245508218, 0.8262353476711979, 0.00047440226711101995, 0.9994818587557818, 0.9904696349868389, 0.334489522759836, 0.6641731615719731, 0.9998430573030709, 0.9975768196546029, 0.9885534331425516, 0.997917636895355, 0.9996902279296344, 0.9965048412881257, 0.8588315946519581, 0.14099110714280558, 0.9975852799344979, 0.9932977824419631, 0.5255249927176461, 0.4718046601287312, 0.9996773065882084, 0.4837949178810411, 0.5160611907080188, 0.9215510455368545, 0.07830019059000494, 0.8922376924099322, 0.10768703322876219, 0.906281660076475, 0.09352826731989222, 0.9995247339537238, 0.6721931420518655, 0.3276651263269196, 0.9989311203074992, 0.5905494319821356, 0.40917109473455665, 0.9996377955509493, 0.9998395875359793, 0.9997215229311044, 0.9959622650206222, 0.9998366344310035, 0.8714808741290037, 0.12826189099512622, 0.9208639075518673, 0.07900903348817796, 0.9888827454977445, 0.9997226384207502, 0.9990524712906037, 0.9997240637298249, 0.9985442588138473, 0.3082712123080374, 0.691532791844197, 0.9997942639320407, 0.22399178646535617, 0.7759658086706852, 0.0004009453400809854, 0.8472977399261423, 0.1522589928957542, 0.9985246463815382, 0.9994881720871294, 0.9986511260421814, 0.9896122643791874, 0.999760588019709, 0.9992784154497549, 0.9917386167236603, 0.9995746171448857, 0.6475953554352132, 0.34958687328803545, 0.9995901517717284, 0.998905214268187, 0.9958922082366217, 0.2423936937800834, 0.6238898325574473, 0.13349024260545939, 0.9996326238511576, 0.9913205623292312, 0.9941685156279982, 0.9957605517430385, 0.9990812091260786, 0.9998690842220432, 0.999030701797667, 0.9962508505605017, 0.9995199562321265, 0.9909368607043927, 0.9988479353815714, 0.9997165744646276, 0.9999696690444156, 0.9996851663410401, 0.9801213516848778, 0.6234748957856161, 0.37606073819745084, 0.9877653990101909, 0.9959021472650385, 0.9997043027043864, 0.9998569350397688, 0.8225470523531737, 0.1772945297162893, 0.9948365628124092, 0.9998657884664253, 0.5321415201578528, 0.4639182483427434, 0.4570787599223417, 0.5428775027557944, 0.9968051729578298, 0.9859248491437267, 0.991955120119119, 0.9994762141952165, 0.9450702097406014, 0.05456287703295411, 0.9993913778021061, 0.992448822686962, 0.9989869385431286, 0.9946942741136686, 0.9995535580925248, 0.9971861837642843, 0.9913767723610979, 0.9961657828856262, 0.9994807009403237, 0.9992924718505847, 0.9984941930356284, 0.998887428970287, 0.9980448770732439, 0.997509147406549, 0.997383799615798, 0.9979558952561619, 0.996907841086581, 0.9996816994620992, 0.7564594790508986, 0.24329446483056788, 0.999464301928513, 0.9973449619715159, 0.9991333510265915, 0.9995888004452066, 0.9998557535537898, 0.9972676285326199, 0.9745055002824726, 0.9984035931081966, 0.9945017763997678, 0.8023538146295823, 0.19749671196160198, 0.9945481578076701, 0.8561861538563026, 0.0020738072930775496, 0.042167414959243504, 0.09944399733948059, 0.9997543100179815, 0.9964765976571914, 0.9994791849818435, 0.3620779400665786, 0.5859200520488609, 0.051630249043532375, 0.23183299008447122, 0.13056565209684856, 0.024796050243817355, 0.5414140293074158, 0.07129704419699245, 0.9971930337444738, 0.996890298305848, 0.8578409932254498, 0.14198115744788545, 0.828528023156994, 0.17130929941433215, 0.8509195812656957, 0.14839207331828594, 0.9973274921681047, 0.04255136020813649, 0.9572536355394706, 0.9915170048570574, 0.916672614710193, 0.9996403949262873, 0.3141410985051404, 0.6854427978176926, 0.14761228216574768, 0.7142264654901711, 0.1380783040303208, 0.9995543666278225, 0.9999240991211663, 0.9987717161779298, 0.999591211584537, 0.999901191784283, 0.9979590833498773, 0.7605525494463231, 0.12204561458825537, 0.06183464065059058, 0.055339973798887415, 0.9999517883067603, 0.9998731854114551, 0.9995022470320101, 0.9997857770002581, 0.999058088766968, 0.9998887215922548, 0.9961085023112329, 0.999491568933517, 0.999574744333897, 0.9546776158438354, 0.9997324371429941, 0.9954315192572306, 0.7928938311940631, 0.1832619989895534, 0.023785968460075982, 0.995562253073864, 0.9997603731915404, 0.9755103558391587, 0.02424693076276091, 0.9997996708394219, 0.9984763102571254, 0.998303426642004, 0.06496932679164678, 0.9348251096352939, 0.9996096943119185, 0.9989673778193033, 0.9923571401596392, 0.9997922017846003, 0.9910185660634774, 0.9838494462325773, 0.9855826494475425, 0.9052344149969616, 0.09474234870418079, 0.9979400815057675, 0.19165397019247898, 0.1846266579520881, 0.623514249692865, 0.9995947172529599, 0.7618406900535389, 0.23793074000154954, 0.9994504562991104, 0.9999487871581124, 0.9813931002311048, 0.9984959037473549, 0.998012612136269, 0.9941000160746267, 0.9994819400908229, 0.9982001589695882, 0.9997146957338884, 0.9993147850905456, 0.9995336069814967, 0.9988151191986039, 0.9988746325593721, 0.9982512215645485, 0.9978828363082431, 0.7739373414690028, 0.22601505980948838, 0.9996334499323067, 0.330100028460785, 0.668154274474842, 0.9890184911879236, 0.9933329723158301, 0.006590173481645766, 0.999426470295349, 0.4556960744655997, 0.28027124101843404, 0.2637046008610691, 0.9997052423107846, 0.6447885887314849, 0.35477450733697424, 0.9913205623292312, 0.9998570825499581, 0.989990380082, 0.009882798956472259, 0.9988474280426431, 0.9985010782453653, 0.997633903514605, 0.10647777914319978, 0.8932754143387523, 0.9996362025961967, 0.9921358850081035, 0.6311460256859461, 0.3684888286384046, 0.9993543880603967, 0.02048894328147643, 0.979466786265185, 0.999542329507504, 0.9992728158544072, 0.9980915375559514, 0.9971456481552349, 0.0025280766161125115, 0.9924846982415275, 0.0074371590589792, 0.9994148461131576, 0.08447359308563743, 0.9149322969416223, 0.9999485908060997, 0.9810787757005087, 0.9982360854482278, 0.9996751813868643, 0.9995773659382834, 0.19693269978600075, 0.8026554584623505, 0.9999573367844945, 0.998540023234725, 0.9987022811314314, 0.9996474875027174, 0.9991930751642341, 0.7384414143216197, 0.26141855897672217, 0.9998444603882508, 0.9579619436127982, 0.04179461103211708, 0.999612562493272, 0.839538559912409, 0.16039319478784064, 0.9941971715434887, 0.9972676285326199, 0.9977916874057582, 0.9996982075817408, 0.9995103306595764, 0.9742827713807732, 0.9953102173424643, 0.004575467548424865, 0.9988550038007912, 0.18145974075007965, 0.8178314757066214, 0.9935250924278735, 0.9995190240026365, 0.9991983924994906, 0.029529490921321788, 0.07839014342515835, 0.059858104663968, 0.7643038983952939, 0.0678493328772123, 0.9758358888873949, 0.9997830891435683, 0.7961505390740782, 0.043791572248491485, 0.1596910717332208, 0.9936452713438353, 0.0018524033202206565, 0.9678035513436171, 0.030294512632775317, 0.9996461139821298, 0.9993860126762135, 0.9995910862589854, 0.9984060295074315, 0.3250609101371412, 0.6319348987820887, 0.04279988857829573, 0.05353402857753549, 0.9461320152682803, 0.9983457938694731, 0.9946676797125168, 0.021563770297510016, 0.3728215492759583, 0.6054785916181015, 0.9994038727958022, 0.9326147208478872, 0.06723428637927228, 0.9950085237622297, 0.8360204147532242, 0.1637746145267932, 0.9996658174802234, 0.9973511816989722, 0.999541178421329, 0.9933978632082192, 0.9997194688858819, 0.13168740049116828, 0.8672452010247104, 0.9997724584521146, 0.9997152764403403, 0.9999106292304752, 0.9976425195439252, 0.9993965658986568, 0.9996482616657519, 0.9956909077413948, 0.9949691000827872, 0.9995526177372117, 0.9985998639090026, 0.25023810705641, 0.7491672540467792, 0.9989199811388842, 0.999548937238554, 0.9988224332523085, 0.9998263736533299, 0.9982966523180526, 0.7819131362561287, 0.21787088703103993, 0.9970261889265218, 0.9479118193211274, 0.051914669088521, 0.9986628413273154, 0.9430245549289414, 0.056843197369957875, 0.9997652643073652, 0.9529627275322277, 0.04565090910334025, 0.9968274147977069, 0.9990040461782512, 0.9994119292206644, 0.999553041911595, 0.7922997733200414, 0.17857611766582462, 0.029060025893342455, 0.4677150634163627, 0.045295217762703704, 0.4868397109161709, 0.9998281617340224, 0.9997424295786376, 0.9157377289758446, 0.08407330088596056, 0.9997807555512513, 0.992088940498531, 0.9998510038828224, 0.9989188619438328, 0.9994218306376712, 0.9827426749235652, 0.9994943766205378, 0.9999562942941884, 0.9994554253144776, 0.999435695397628, 0.7708173432733567, 0.22911768165237778, 0.9966439166823169, 0.9890012819779936, 0.5059872762790188, 0.24105371814341303, 0.252860972361775, 0.24124968480046832, 0.7585948180468073, 0.9995321128689574, 0.9984696571773317, 0.844330235025416, 0.15413935685929106, 0.9996314346846238, 0.9998379975810142, 0.9983572588710403, 0.9303990380231841, 0.0695634541656987, 0.994004412840878, 0.9996651866082469, 0.9795568309895789, 0.3309215400048621, 0.640857811619172, 0.02814412249033928, 0.9991929120692392, 0.6011434794476453, 0.39855777878839255, 0.9967580250746568, 0.8729451308329678, 0.1268785115084554, 0.005997839447380487, 0.25628605854887976, 0.7376532001433759, 0.3905645831561242, 0.6089724092631673, 0.9981212536076476, 0.937616928119853, 0.062248012171639854, 0.9965445806055601, 0.9996367069827782, 0.9987967795672792, 0.025754389564636992, 0.9054450928170532, 0.06870478693089314, 0.9991898715423565, 0.48605811160935336, 0.5137297367752324, 0.9996883264910611, 0.9995501787172405, 0.990042914396664, 0.9976531356583125, 0.9996375855994473, 0.9991352967091556, 0.9986966676373863, 0.9991065719679852, 0.9999228687514637, 0.9998904588704055, 0.6005696731893078, 0.3096152820610854, 0.08972778390218296, 0.9995227451878215, 0.9996178435198736, 0.2387942158225967, 0.49921674324465226, 0.2613053156506049, 0.7357998745314906, 0.26410542025280975, 0.9991679301237725, 0.9992324456262244, 0.9995077445442649, 0.9983419078913471, 0.9876958539537763, 0.6436881225125046, 0.3327724551584646, 0.023458856020455724, 0.9990733519813426, 0.48426262317489926, 0.47296960097137297, 0.04264601805805342, 0.9998664331756608, 0.9897340088625098, 0.9993694618876197, 0.9877081398450732, 0.9974123335022054, 0.9159388037454345, 0.08383978616213841, 0.9998152444466512, 0.9971028660917239, 0.9999655321112949, 0.07536117900902242, 0.9245220656268149, 0.9975509716804166, 0.9961895829046484, 0.9993720269597822, 0.9875656746332226, 0.9809621691570253, 0.985479905293445, 0.9989170300234177, 0.998633738879904, 0.9975201215541739, 0.9996574381059828, 0.9993912280604722, 0.6501291071103621, 0.3493781376743385, 0.9998059823004574, 0.9999329719479619, 0.9987795659393671, 0.42781290665038385, 0.5721634803158038, 0.9992398654521343, 0.0649791533187238, 0.18186694061045108, 0.11912844775099363, 0.5068871883406959, 0.1268462782217999, 0.999632441717524, 0.9997578609880163, 0.9995082177471349, 0.9995754818627228, 0.5274084426909025, 0.012362440531874179, 0.4123040977387226, 0.04777916205562183, 0.9987393848644421, 0.9933853569270645, 0.9988238533043032, 0.7890731414281302, 0.21074769879497599, 0.9981507958842597, 0.9985825521008657, 0.9710253945829143, 0.9995807745039058, 0.9996014118519202, 0.9817433093145023, 0.017975943408845188, 0.993153643691616, 0.5916794923810995, 0.40778717789736724, 0.9851943390540743, 0.8756986929337897, 0.12393609408298817, 0.3636435397442588, 0.09914526518187476, 0.5366487004643087, 0.9996557862582888, 0.6298084901141826, 0.3689495960394296, 0.989762186945036, 0.9994702166395133, 0.9776736526177328, 0.9998006504139196, 0.9998968300997153, 0.9985515915888761, 0.1438731692143349, 0.855301185260391, 0.04554303835484176, 0.9536712231503865, 0.9994392194545698, 0.9940690334519514, 0.10108497232102541, 0.8986869457033628, 0.9958969491559759, 0.9987159647327926, 0.999360884338787, 0.9967388918239812, 0.9991923392375116, 0.9994993642364063, 0.9997179464459388, 0.9926494318389735, 0.4620197863550608, 0.5376440162749021, 0.9998624743020702, 0.9997785986905221, 0.998512393290486, 0.9998943663542087, 0.6956185081539977, 0.03162521926155741, 0.2726312005306673, 0.8150426191253654, 0.18478757918450578, 0.9978660792885, 0.26762738501128136, 0.731931488403106, 0.687147729292901, 0.31270661653286613, 0.9998637401068523, 0.3256613871687291, 0.6741966098647856, 0.998178143853578, 0.9977499889056641, 0.9962084111162476, 0.996563167521316, 0.9982015261399769, 0.9999377126017586, 0.7077823025770796, 0.29208768221624726, 0.9999303952828068, 0.9992861715479963, 0.9972641320641031, 0.9993650993704245, 0.8494250566858097, 0.08212817705362245, 0.06838783660388688, 0.7361014534750336, 0.13751419801110953, 0.12634074873561066, 0.9997657059647047, 0.999782694833167, 0.7351467233259412, 0.2647865618786951, 0.9998355515290427, 0.9998906469711862, 0.9997299398431259, 0.9962452244719517, 0.9994669518405261, 0.9967896672931484, 0.9851581351160906, 0.9998114622396161, 0.6493377938712765, 0.3503806166353648, 0.9964444553267966, 0.9975263210533205, 0.9992129678043152, 0.7148675753337993, 0.2849715773016802, 0.9967108801473585, 0.4712799922798438, 0.5285481295802931, 0.9897551595146155, 0.09884086639316872, 0.832089685016404, 0.021845263949214825, 0.04709265916920901, 0.9995500286417007, 0.9964978167401484, 0.9999035349024045, 0.9987963861829265, 0.9997067740577765, 0.9946504665419764, 0.9994385772421278, 0.9978259570568239, 0.9849651338115765, 0.9995457344526172, 0.9871869271356724, 0.9936926645513185, 0.805596015254097, 0.19423561463161418, 0.9514479946909721, 0.9997837113022517, 0.9333844410199443, 0.06658962425512109, 0.3718237290083403, 0.6277223153076127, 0.9704229243559706, 0.02941749551553892, 0.059401146647189276, 0.939840059965803, 0.9988641609706159, 0.9987195432096708, 0.9999477300661058, 0.9994849775521287, 0.9997125187260443, 0.9951183392165031, 0.9704571783190271, 0.029383634785390095, 0.9301484750002185, 0.0697947600792872, 0.9996826786259243, 0.999341689619874, 0.19139315735505144, 0.269289902704113, 0.06472666664896055, 0.4745273748701921, 0.9996637456955498, 0.5296588871341754], \"Term\": [\"absolutely\", \"access\", \"accommodate\", \"accord\", \"accord\", \"account\", \"acquire\", \"acquire\", \"acquisition\", \"action\", \"action\", \"action\", \"activity\", \"add\", \"add\", \"add\", \"add\", \"addition\", \"additional\", \"additional\", \"additional\", \"additional_information\", \"address\", \"address\", \"address\", \"advice\", \"affiliate\", \"agent\", \"aggie\", \"aggregation\", \"agree\", \"agree\", \"agree\", \"agree\", \"agreement\", \"amendment\", \"american\", \"amto\", \"analysis\", \"analyze\", \"andrea_re\", \"answer\", \"anyquestion\", \"apologize\", \"appear\", \"application\", \"appreciate_help\", \"appropriate\", \"art\", \"article\", \"asap\", \"ask\", \"ask\", \"ask\", \"ask\", \"asset\", \"assign\", \"assignment\", \"assistance\", \"assistance\", \"attach\", \"attempt\", \"available\", \"available\", \"awarded_variance\", \"background\", \"bargain\", \"bargain\", \"base\", \"base\", \"base\", \"basic\", \"be\", \"big\", \"big\", \"bill\", \"blow\", \"bond\", \"book\", \"boot\", \"brand\", \"brant_reve\", \"brother\", \"build\", \"build\", \"build\", \"business\", \"busy\", \"buy\", \"buying\", \"bypass\", \"call\", \"call\", \"call\", \"campus\", \"candidate\", \"capacity\", \"carolyn_campbellke\", \"case\", \"case\", \"case\", \"cash\", \"catch\", \"cease\", \"center\", \"center\", \"ceo\", \"certificate\", \"chair\", \"change\", \"change\", \"charge\", \"charge\", \"cheap\", \"cheap\", \"check\", \"check\", \"check\", \"choice\", \"choice\", \"circulate\", \"click\", \"client\", \"close\", \"co\", \"coalition\", \"collaboration\", \"colleague\", \"come\", \"come\", \"comment\", \"comment\", \"commodity\", \"community\", \"community\", \"company\", \"company\", \"compensate\", \"competition\", \"competition\", \"complete\", \"complex\", \"compound\", \"comsubject\", \"conference\", \"confidential_privilege\", \"confirm\", \"confirm\", \"conflict\", \"consolidated\", \"construct\", \"construct\", \"consumer\", \"contact\", \"contact\", \"continue\", \"continue\", \"contract\", \"contract\", \"copy\", \"copy\", \"corporate\", \"cost\", \"cost\", \"counterpartie\", \"country\", \"country\", \"course\", \"create\", \"credit\", \"currency\", \"current\", \"currently\", \"currently\", \"customer\", \"customer\", \"customize\", \"cut\", \"d\", \"daily\", \"database\", \"date\", \"date\", \"datum\", \"day\", \"day\", \"deal\", \"deal\", \"deal\", \"debt\", \"decide\", \"default\", \"delete_copie\", \"delivery\", \"desk\", \"desperate\", \"develop\", \"developer\", \"developer\", \"development\", \"disclosure\", \"disclosure_strictly\", \"discuss\", \"discuss\", \"discuss\", \"discussion\", \"disseminate_message\", \"dissemination_distribution\", \"district\", \"doc\", \"document\", \"dollar\", \"doubt\", \"draft\", \"dry\", \"dynegy\", \"early\", \"ect\", \"ectcc\", \"ectcc_fwd\", \"ee\", \"ee\", \"eei\", \"ees\", \"effort\", \"electricity\", \"email\", \"email\", \"employ\", \"employee\", \"endorse\", \"endorse\", \"energy\", \"energy\", \"enpower\", \"enron_fieldprovide\", \"enron_messaging\", \"enroncc\", \"enter\", \"enter\", \"entity\", \"entity_addresse\", \"equity\", \"escape\", \"estimate\", \"evaluation\", \"everyday\", \"excellent\", \"exchange\", \"execute\", \"exhibit\", \"expand\", \"expansion\", \"explore\", \"extension\", \"extensive\", \"external\", \"facility\", \"fall\", \"fall\", \"fax\", \"fear\", \"feature\", \"feel\", \"file\", \"file_portland\", \"film\", \"final_schedule\", \"finalize\", \"financial\", \"financial\", \"financially\", \"find\", \"find\", \"find\", \"find\", \"firm\", \"fit\", \"flow\", \"focus\", \"focus\", \"focus\", \"follow\", \"follow\", \"follow\", \"follow\", \"follow\", \"football\", \"foreign\", \"form\", \"form\", \"forward\", \"forward\", \"forwarded\", \"forwarded\", \"fre\", \"free\", \"free\", \"free_charge\", \"freshfield\", \"friend\", \"fund\", \"fund\", \"future\", \"future\", \"future\", \"game\", \"gas\", \"generally\", \"generator\", \"get\", \"gif\", \"give\", \"give\", \"give\", \"give\", \"go\", \"good\", \"government\", \"great\", \"grid\", \"group\", \"guide\", \"guy\", \"happen\", \"heal\", \"hear\", \"heat\", \"help\", \"help\", \"help\", \"hereto_notintende\", \"high\", \"home\", \"home\", \"hope\", \"hotmail\", \"hou_ect\", \"hour\", \"hour\", \"http\", \"http_www\", \"ice\", \"image\", \"immediately_mail\", \"impression\", \"inactivate\", \"include\", \"include\", \"incorporate\", \"indicate\", \"indicate\", \"indicate\", \"individual\", \"industry\", \"industry\", \"info\", \"information\", \"information_transmitte\", \"initiate\", \"insight\", \"integration\", \"intend\", \"interconnection\", \"interest\", \"interested\", \"internet\", \"interview\", \"investigation\", \"invitation\", \"isda\", \"issue\", \"issue\", \"item\", \"judge\", \"judge\", \"katherine_kelly\", \"know\", \"know\", \"language\", \"large\", \"large\", \"large\", \"late\", \"law\", \"law\", \"lawyer_intende\", \"leave\", \"legal\", \"legal\", \"legislation\", \"lender\", \"lesson\", \"let\", \"let\", \"letter\", \"library\", \"likely\", \"likely\", \"link\", \"list\", \"list\", \"little\", \"load\", \"loan\", \"location\", \"location\", \"look\", \"look\", \"lose\", \"love\", \"love\", \"mail\", \"mail_address\", \"man\", \"management\", \"manager\", \"mark\", \"mark\", \"market\", \"marketer\", \"master\", \"mean\", \"medium\", \"meet\", \"meet\", \"meeting\", \"member\", \"member\", \"mention\", \"message\", \"message\", \"message_error\", \"messages_parse\", \"mid\", \"minute\", \"model\", \"molly\", \"month\", \"month\", \"monthly\", \"morning\", \"morning\", \"music\", \"natural_gas\", \"nee\", \"need\", \"need\", \"need\", \"need\", \"need\", \"neglect\", \"net\", \"network\", \"network\", \"network\", \"networking\", \"new\", \"new\", \"new\", \"news\", \"newsletter\", \"night\", \"nomination\", \"note\", \"note\", \"note\", \"notice\", \"notice\", \"notification\", \"notify_sender\", \"number\", \"number\", \"number\", \"obligation\", \"offer\", \"offer\", \"offer_acceptance\", \"official\", \"official\", \"old\", \"one\", \"online\", \"opening\", \"operation\", \"operator\", \"operator\", \"opportunity\", \"option\", \"order\", \"organize\", \"original\", \"original_message\", \"overview\", \"pack\", \"page\", \"panel\", \"paper\", \"paper\", \"particularly\", \"partner\", \"partnership\", \"party\", \"past\", \"pay\", \"pay\", \"payable\", \"payment\", \"payment\", \"pdx_ect\", \"people\", \"people\", \"period\", \"permit\", \"permit\", \"phillip\", \"physical\", \"pick\", \"pipeline\", \"place\", \"place\", \"place\", \"plan\", \"plan\", \"plan\", \"plant\", \"play\", \"pm\", \"pm\", \"pmto\", \"pop\", \"position\", \"positive\", \"post\", \"postmaster\", \"potential\", \"power\", \"presentation\", \"pressure\", \"price\", \"price\", \"privacy\", \"private_free\", \"problem\", \"problem\", \"problem\", \"process\", \"process\", \"production\", \"professional\", \"profile\", \"profile\", \"profit\", \"program\", \"prohibited_intende\", \"project\", \"project\", \"proper\", \"proposal\", \"proprietary\", \"provide\", \"provide\", \"provide\", \"provision\", \"public\", \"public\", \"publisher\", \"purchase\", \"purchase\", \"question\", \"question\", \"question\", \"raise\", \"raise\", \"rank\", \"rate\", \"rate\", \"reader\", \"real\", \"reason\", \"receive\", \"receive\", \"receive\", \"recently\", \"reduce\", \"reduce\", \"reference\", \"regard\", \"regardsdelainey\", \"registration\", \"release\", \"remember\", \"replace\", \"reply\", \"report\", \"request\", \"require\", \"require\", \"require\", \"requirement\", \"research\", \"reserve\", \"reserve\", \"reserve\", \"resource\", \"resource\", \"respect\", \"respond\", \"response\", \"resume\", \"retain_copy\", \"review\", \"review\", \"review\", \"revise\", \"right\", \"right\", \"right\", \"risk\", \"river\", \"room\", \"rough\", \"route\", \"rule\", \"rule\", \"sale\", \"satisfy\", \"say\", \"schedule\", \"schedule\", \"scheduler\", \"scheduling_iso\", \"school\", \"schott_hou\", \"scratch\", \"se\", \"search\", \"season\", \"seat\", \"section\", \"security\", \"see\", \"see\", \"sell\", \"send\", \"senior\", \"service\", \"service\", \"session\", \"set\", \"set\", \"set\", \"set\", \"set\", \"shall\", \"share\", \"short\", \"show\", \"sign\", \"sign\", \"sign\", \"sign\", \"sincerely\", \"sister\", \"sit\", \"site\", \"site\", \"skill\", \"slide\", \"smtp\", \"software\", \"solution\", \"soon\", \"soon\", \"soon_possible\", \"source\", \"source\", \"spare\", \"speak\", \"speak\", \"special\", \"special\", \"special\", \"specific\", \"sponsor\", \"sponsor\", \"sponsorship\", \"spread\", \"staffing\", \"start\", \"state\", \"station\", \"status\", \"status\", \"step\", \"step\", \"storage\", \"storm\", \"story\", \"story\", \"strength\", \"stuff\", \"submit\", \"sue\", \"suggestion\", \"summary\", \"summer\", \"sun\", \"supply\", \"supply\", \"support\", \"sure\", \"suspect\", \"system\", \"take\", \"take\", \"take\", \"talk\", \"talk\", \"tana_jone\", \"tax\", \"tax\", \"team\", \"team\", \"tell\", \"term\", \"term\", \"terminate\", \"termination\", \"terms_condition\", \"testimony\", \"text\", \"thank\", \"thing\", \"thing\", \"think\", \"thought\", \"threaten\", \"ticket\", \"time\", \"time\", \"time\", \"today\", \"today\", \"today\", \"tomorrow\", \"total\", \"trade\", \"trade\", \"trading\", \"transaction\", \"transmission\", \"transportation\", \"travel\", \"treat\", \"troubled\", \"try\", \"turn\", \"turn\", \"txt\", \"understanding\", \"unfortunately\", \"unit\", \"unit\", \"unusual\", \"update\", \"update\", \"upset\", \"use\", \"use\", \"use\", \"use\", \"user\", \"usual\", \"utility\", \"vacation\", \"value\", \"var\", \"ve\", \"vendor\", \"verification\", \"version\", \"victor_lamadrid\", \"viewer\", \"visit\", \"visit\", \"vkamin\", \"volume\", \"want\", \"want\", \"water\", \"water\", \"way\", \"way\", \"weather\", \"weather\", \"web\", \"website\", \"week\", \"weekend\", \"well\", \"wife\", \"will\", \"will\", \"work\", \"work\", \"world\", \"www\", \"year\", \"year\", \"year\", \"year\", \"yesterday\", \"zoo\"]}, \"R\": 30, \"lambda.step\": 0.01, \"plot.opts\": {\"xlab\": \"PC1\", \"ylab\": \"PC2\"}, \"topic.order\": [18, 8, 1, 6, 7, 4, 9, 12, 11, 10, 15, 14, 3, 13, 20, 5, 16, 17, 19, 2]};\n",
       "\n",
       "function LDAvis_load_lib(url, callback){\n",
       "  var s = document.createElement('script');\n",
       "  s.src = url;\n",
       "  s.async = true;\n",
       "  s.onreadystatechange = s.onload = callback;\n",
       "  s.onerror = function(){console.warn(\"failed to load library \" + url);};\n",
       "  document.getElementsByTagName(\"head\")[0].appendChild(s);\n",
       "}\n",
       "\n",
       "if(typeof(LDAvis) !== \"undefined\"){\n",
       "   // already loaded: just create the visualization\n",
       "   !function(LDAvis){\n",
       "       new LDAvis(\"#\" + \"ldavis_el3551400240703019528488152662\", ldavis_el3551400240703019528488152662_data);\n",
       "   }(LDAvis);\n",
       "}else if(typeof define === \"function\" && define.amd){\n",
       "   // require.js is available: use it to load d3/LDAvis\n",
       "   require.config({paths: {d3: \"https://cdnjs.cloudflare.com/ajax/libs/d3/3.5.5/d3.min\"}});\n",
       "   require([\"d3\"], function(d3){\n",
       "      window.d3 = d3;\n",
       "      LDAvis_load_lib(\"https://cdn.rawgit.com/bmabey/pyLDAvis/files/ldavis.v1.0.0.js\", function(){\n",
       "        new LDAvis(\"#\" + \"ldavis_el3551400240703019528488152662\", ldavis_el3551400240703019528488152662_data);\n",
       "      });\n",
       "    });\n",
       "}else{\n",
       "    // require.js not available: dynamically load d3 & LDAvis\n",
       "    LDAvis_load_lib(\"https://cdnjs.cloudflare.com/ajax/libs/d3/3.5.5/d3.min.js\", function(){\n",
       "         LDAvis_load_lib(\"https://cdn.rawgit.com/bmabey/pyLDAvis/files/ldavis.v1.0.0.js\", function(){\n",
       "                 new LDAvis(\"#\" + \"ldavis_el3551400240703019528488152662\", ldavis_el3551400240703019528488152662_data);\n",
       "            })\n",
       "         });\n",
       "}\n",
       "</script>"
      ],
      "text/plain": [
       "<IPython.core.display.HTML object>"
      ]
     },
     "execution_count": 25,
     "metadata": {},
     "output_type": "execute_result"
    }
   ],
   "source": [
    "pyLDAvis.enable_notebook(sort=True)\n",
    "vis = pyLDAvis.gensim.prepare(lda_model, corpus, dictionary)\n",
    "pyLDAvis.display(vis)"
   ]
  },
  {
   "cell_type": "markdown",
   "metadata": {},
   "source": [
    "# Finding Best Number of Topics\n",
    "There is a lot of grouping in smaller topics in the graph so will run tests to find the best number of topics using coherence score."
   ]
  },
  {
   "cell_type": "code",
   "execution_count": 28,
   "metadata": {},
   "outputs": [
    {
     "name": "stderr",
     "output_type": "stream",
     "text": [
      "/home/donal/.local/lib/python3.8/site-packages/ipykernel/ipkernel.py:287: DeprecationWarning: `should_run_async` will not call `transform_cell` automatically in the future. Please pass the result to `transformed_cell` argument and any exception that happen during thetransform in `preprocessing_exc_tuple` in IPython 7.17 and above.\n",
      "  and should_run_async(code)\n",
      "100%|██████████| 9/9 [2:42:20<00:00, 1082.25s/it]\n"
     ]
    }
   ],
   "source": [
    "limit = 20\n",
    "start = 2\n",
    "step = 2\n",
    "\n",
    "\n",
    "model_list, coherence_list = calc_coherence(corpus = corpus, dictionary = dictionary, texts = words_lemmatised,\n",
    "                                           limit = limit, start = start, step = step)"
   ]
  },
  {
   "cell_type": "code",
   "execution_count": 29,
   "metadata": {},
   "outputs": [
    {
     "name": "stderr",
     "output_type": "stream",
     "text": [
      "/home/donal/.local/lib/python3.8/site-packages/ipykernel/ipkernel.py:287: DeprecationWarning: `should_run_async` will not call `transform_cell` automatically in the future. Please pass the result to `transformed_cell` argument and any exception that happen during thetransform in `preprocessing_exc_tuple` in IPython 7.17 and above.\n",
      "  and should_run_async(code)\n"
     ]
    },
    {
     "data": {
      "image/png": "[encoded data removed]",
      "text/plain": [
       "<Figure size 432x288 with 1 Axes>"
      ]
     },
     "metadata": {},
     "output_type": "display_data"
    }
   ],
   "source": [
    "x = range(start, limit, step)\n",
    "fig = plt.figure()\n",
    "ax = plt.plot(x, coherence_list)\n",
    "plt.xticks(x)\n",
    "plt.xlabel(\"Num Topics\")\n",
    "plt.ylabel(\"Coherence Score\") \n",
    "plt.show()"
   ]
  },
  {
   "cell_type": "code",
   "execution_count": 30,
   "metadata": {},
   "outputs": [
    {
     "name": "stderr",
     "output_type": "stream",
     "text": [
      "/home/donal/.local/lib/python3.8/site-packages/ipykernel/ipkernel.py:287: DeprecationWarning: `should_run_async` will not call `transform_cell` automatically in the future. Please pass the result to `transformed_cell` argument and any exception that happen during thetransform in `preprocessing_exc_tuple` in IPython 7.17 and above.\n",
      "  and should_run_async(code)\n"
     ]
    }
   ],
   "source": [
    "pickle.dump(model_list, open(\"../data/model_list.p\", \"wb\"))\n",
    "pickle.dump(coherence_list, open(\"../data/coherence_list.p\", \"wb\"))"
   ]
  },
  {
   "cell_type": "markdown",
   "metadata": {},
   "source": [
    "From the above graph we can judge the point of diminishing returns / accuracy loss for number of topics."
   ]
  },
  {
   "cell_type": "code",
   "execution_count": 31,
   "metadata": {},
   "outputs": [
    {
     "name": "stderr",
     "output_type": "stream",
     "text": [
      "/home/donal/.local/lib/python3.8/site-packages/ipykernel/ipkernel.py:287: DeprecationWarning: `should_run_async` will not call `transform_cell` automatically in the future. Please pass the result to `transformed_cell` argument and any exception that happen during thetransform in `preprocessing_exc_tuple` in IPython 7.17 and above.\n",
      "  and should_run_async(code)\n"
     ]
    }
   ],
   "source": [
    "# index of max coherence\n",
    "max_index = [i for i in range(len(coherence_list)) if max(coherence_list) == coherence_list[i]][0]\n",
    "optimum_model = model_list[max_index]\n"
   ]
  },
  {
   "cell_type": "code",
   "execution_count": 46,
   "metadata": {},
   "outputs": [
    {
     "name": "stderr",
     "output_type": "stream",
     "text": [
      "/home/donal/.local/lib/python3.8/site-packages/ipykernel/ipkernel.py:287: DeprecationWarning: `should_run_async` will not call `transform_cell` automatically in the future. Please pass the result to `transformed_cell` argument and any exception that happen during thetransform in `preprocessing_exc_tuple` in IPython 7.17 and above.\n",
      "  and should_run_async(code)\n"
     ]
    },
    {
     "data": {
      "text/html": [
       "\n",
       "<link rel=\"stylesheet\" type=\"text/css\" href=\"https://cdn.rawgit.com/bmabey/pyLDAvis/files/ldavis.v1.0.0.css\">\n",
       "\n",
       "\n",
       "<div id=\"ldavis_el3551400258907411526610642456\"></div>\n",
       "<script type=\"text/javascript\">\n",
       "\n",
       "var ldavis_el3551400258907411526610642456_data = {\"mdsDat\": {\"x\": [0.16895909588632307, -0.2743032408795226, -0.09476638444978931, -0.2888177049672237, 0.13461970796604394, 0.03094035281617226, 0.09981122545888334, 0.22355694816911284], \"y\": [0.012977745221493963, 0.016765149726147836, -0.2426977908883574, 0.10466355643120741, 0.04217436870131614, 0.22588378348098792, -0.26413582626991244, 0.10436901359711645], \"topics\": [1, 2, 3, 4, 5, 6, 7, 8], \"cluster\": [1, 1, 1, 1, 1, 1, 1, 1], \"Freq\": [22.18475668055132, 1.3458838965261333, 7.5625895986073015, 3.7641261260052, 13.221128158956677, 9.211063498801806, 17.3976432657394, 25.31280877481216]}, \"tinfo\": {\"Term\": [\"ect\", \"mail\", \"company\", \"deal\", \"thank\", \"say\", \"price\", \"power\", \"gas\", \"energy\", \"message\", \"pm\", \"go\", \"think\", \"send\", \"work\", \"week\", \"time\", \"market\", \"want\", \"day\", \"contract\", \"forward\", \"business\", \"need\", \"know\", \"state\", \"come\", \"ectcc\", \"information\", \"request\", \"review\", \"document\", \"copy\", \"draft\", \"doc\", \"regard\", \"section\", \"fax\", \"language\", \"prior\", \"original\", \"reference\", \"advise\", \"correct\", \"desk\", \"version\", \"presentation\", \"execute\", \"confirmation\", \"curve\", \"trip\", \"previous\", \"swap\", \"provider\", \"refer\", \"suggestion\", \"input\", \"coordinate\", \"feedback\", \"schedule\", \"attach\", \"thank\", \"send\", \"agreement\", \"list\", \"letter\", \"question\", \"discuss\", \"meeting\", \"file\", \"comment\", \"contact\", \"message\", \"date\", \"note\", \"phone\", \"follow\", \"receive\", \"process\", \"change\", \"form\", \"information\", \"need\", \"email\", \"group\", \"issue\", \"number\", \"mail\", \"provide\", \"use\", \"include\", \"time\", \"pmto\", \"response\", \"lose\", \"student\", \"reply\", \"cent\", \"hotmail\", \"file_portland\", \"messages_parse\", \"final_schedule\", \"org\", \"awarded_variance\", \"prohibited_intende\", \"scheduling_iso\", \"txt\", \"reporter\", \"audit\", \"testimony\", \"mom\", \"baby\", \"offer_acceptance\", \"final_trans_type\", \"hereto_notintende\", \"hate\", \"iep\", \"brother\", \"information_contained\", \"byothers_strictly\", \"donation\", \"bpa\", \"mail\", \"net\", \"message\", \"br\", \"game\", \"night\", \"weekend\", \"friend\", \"love\", \"school\", \"travel\", \"elink_script\", \"remember\", \"family\", \"sit\", \"dinner\", \"man\", \"child\", \"care\", \"card\", \"enjoy\", \"sense\", \"season\", \"hotel\", \"kid\", \"black\", \"tr_td\", \"nice\", \"forget\", \"rank\", \"gift\", \"catch\", \"fun\", \"play\", \"ticket\", \"life\", \"lunch\", \"tonight\", \"free\", \"home\", \"visit\", \"little\", \"great\", \"http\", \"email\", \"week\", \"team\", \"special\", \"mail\", \"good\", \"check\", \"update\", \"day\", \"ect\", \"ectcc\", \"enroncc\", \"intend\", \"reflect\", \"assignment\", \"pdx_ect\", \"revision\", \"sheet\", \"hopefully\", \"hou_ect\", \"incorporate\", \"isda\", \"planning\", \"amto\", \"panel\", \"sitara\", \"confidential_privilege\", \"invitation\", \"tana_jone\", \"ees\", \"ok\", \"originally\", \"discover\", \"vince\", \"disclosure_strictly\", \"scott_neal\", \"eescc\", \"scheduler\", \"caiso\", \"ee\", \"pm\", \"forward\", \"confirm\", \"master\", \"counterpartie\", \"forwarded\", \"morning\", \"credit\", \"fw\", \"status\", \"counterparty\", \"approval\", \"thank\", \"sell\", \"stock\", \"management\", \"technology\", \"analyst\", \"investor\", \"investment\", \"internet\", \"profit\", \"global\", \"network\", \"earning\", \"potential\", \"software\", \"commodity\", \"partner\", \"quarter\", \"newsletter\", \"tool\", \"survey\", \"international\", \"database\", \"content\", \"expand\", \"dollar\", \"client\", \"http_www\", \"server\", \"partnership\", \"equity\", \"trading\", \"size\", \"employee\", \"company\", \"program\", \"business\", \"online\", \"share\", \"director\", \"target\", \"expect\", \"service\", \"new\", \"corporate\", \"industry\", \"fund\", \"opportunity\", \"product\", \"report\", \"information\", \"group\", \"year\", \"market\", \"include\", \"system\", \"close\", \"free\", \"deal\", \"image\", \"volume\", \"trader\", \"news\", \"image_image\", \"delivery\", \"click\", \"daily\", \"appear\", \"estimate\", \"weather\", \"shall\", \"spread\", \"invoice\", \"oil\", \"fee\", \"index\", \"associate\", \"hit\", \"spend\", \"respect\", \"meter\", \"figure\", \"portfolio\", \"monthly\", \"expense\", \"package\", \"folk\", \"error\", \"enter\", \"margin\", \"gas\", \"trade\", \"payment\", \"total\", \"month\", \"price\", \"contract\", \"day\", \"sale\", \"purchase\", \"offer\", \"term\", \"rate\", \"book\", \"product\", \"option\", \"pay\", \"credit\", \"change\", \"current\", \"high\", \"go\", \"think\", \"know\", \"come\", \"get\", \"people\", \"talk\", \"tell\", \"let\", \"thing\", \"hope\", \"late\", \"hear\", \"probably\", \"speak\", \"later\", \"idea\", \"guy\", \"course\", \"answer\", \"submit\", \"feel\", \"real\", \"lot\", \"nee\", \"bad\", \"hand\", \"stand\", \"actually\", \"ready\", \"want\", \"leave\", \"mention\", \"look\", \"well\", \"good\", \"week\", \"work\", \"way\", \"run\", \"time\", \"will\", \"take\", \"help\", \"start\", \"right\", \"today\", \"call\", \"find\", \"ask\", \"need\", \"day\", \"year\", \"power\", \"energy\", \"state\", \"utility\", \"electricity\", \"plant\", \"value\", \"operation\", \"unit\", \"pipeline\", \"consumer\", \"percent\", \"facility\", \"iso\", \"transmission\", \"reduce\", \"asset\", \"generator\", \"government\", \"seek\", \"proposal\", \"official\", \"generation\", \"example\", \"operate\", \"rise\", \"revise\", \"governor\", \"regulatory\", \"committee\", \"say\", \"demand\", \"bill\", \"cut\", \"market\", \"cost\", \"supply\", \"buy\", \"lead\", \"firm\", \"rule\", \"customer\", \"project\", \"capacity\", \"increase\", \"plan\", \"year\", \"issue\", \"price\", \"pay\", \"company\", \"include\", \"rate\", \"new\", \"continue\", \"base\", \"report\"], \"Freq\": [35958.0, 13354.0, 21572.0, 13766.0, 18437.0, 23612.0, 14288.0, 16525.0, 10631.0, 16106.0, 8691.0, 7138.0, 11025.0, 10934.0, 13378.0, 13829.0, 12299.0, 19000.0, 17668.0, 10730.0, 12230.0, 11205.0, 5438.0, 10049.0, 18594.0, 8646.0, 10796.0, 8467.0, 4428.0, 12757.0, 6979.0401860046995, 5845.483227168263, 4178.813922525394, 3584.9045144627594, 2984.9758295118922, 2706.5480923655805, 2610.53241567955, 2568.482537755483, 2546.640132843379, 1963.7186360764285, 1855.9124546499584, 1845.772015236122, 1832.6631629192198, 1695.791583472711, 1654.8017411906765, 1521.2795195202316, 1482.0719426120506, 1463.6954402545075, 1319.1841766300795, 1261.0679052004568, 1208.353919122754, 1160.716849728047, 1110.963970761325, 1083.6055188776934, 1060.250641056585, 983.3210852712007, 954.6032342174864, 931.3030628632995, 923.997009857257, 881.4642538658645, 6711.495817748287, 6432.6768728305715, 17770.444460927913, 12900.265690770835, 7110.965396314872, 7204.150426462867, 3195.8112480258937, 8118.509965901846, 4982.683793526149, 6755.154535457906, 5312.826971524845, 5335.753590771835, 6228.336651374904, 7660.598225394422, 5828.616588508265, 5038.392545542652, 2803.2680821980816, 8098.2186502283375, 6770.316489298095, 4403.811445048537, 9798.374574734622, 3765.5997137830896, 9212.01031042138, 12444.854618525613, 4600.451013751862, 5249.251620907215, 6245.070394197929, 4912.094186717295, 6365.65910256151, 5238.0730632276, 4510.367118396476, 4725.764830120064, 4785.067683947476, 2316.18076265055, 1729.8216250475875, 1203.8664051711667, 920.8062872114284, 900.6471652907227, 721.6461979819268, 622.3984424108838, 502.6497360731053, 502.6497360731053, 498.81017669611373, 488.1491099092719, 410.83656795139626, 409.7529139460518, 350.1277986657009, 263.28592284156963, 225.22099297204556, 215.2695017472885, 213.0479308344545, 209.6957033946591, 198.89343909115019, 188.91586115030933, 188.2853899667699, 182.38654184520337, 180.77321775341994, 172.44386227413963, 171.3385432088761, 165.86861684104147, 156.24917194378287, 152.2852785502463, 152.27297389371162, 5539.8543851995955, 1112.9251580970733, 756.75435898711, 2287.0489398596783, 2054.6583954196767, 1965.4300476744377, 1956.1987846605982, 1870.2754233318042, 1548.4993936770006, 1454.3870947834175, 1322.9101147026488, 1201.0682112839183, 1138.8109388145233, 1079.9002793667185, 1078.3757494261629, 1051.0296789210663, 947.6036346664126, 941.6734444565687, 911.7780112235724, 906.6834958660137, 833.9075597783683, 795.5415274785354, 748.4218114780186, 712.6454046765888, 679.7142534231045, 660.0702908129426, 653.8969822539632, 624.8212729376623, 622.0267757572436, 621.4375398949604, 596.237492846832, 575.0113041610635, 554.7635185876703, 2078.206008556741, 1792.1731199975463, 992.2264659241478, 979.3216253577099, 833.473563876582, 2631.050256020881, 1692.6477021147202, 1536.3483385872, 1473.6777649242745, 1924.4621153644282, 1489.1906131081964, 1790.3841247308578, 2310.0327556153807, 1471.5549266562118, 1091.0123296483348, 1447.9101847738102, 1309.3519380457776, 1115.4113313846403, 1158.253172492061, 1230.2341115780328, 35957.933872214926, 4427.973596164194, 1345.9178945500628, 1243.5408072365026, 1212.8028420919245, 1176.8335861916214, 985.3065659066102, 605.9796074995143, 588.6882625192804, 570.8693259524034, 544.2241209612705, 518.5889427813987, 511.2461051206168, 501.097079942603, 485.3305738146808, 465.5751081380473, 460.96178072094057, 450.0195087833491, 356.26327271777296, 345.0728769007393, 342.24449488400217, 340.77490616875684, 333.8997467515388, 318.4597240724557, 310.78810087379026, 305.7712585667424, 301.9695355936445, 295.2825867127894, 287.3132266643781, 276.4747553315206, 2773.2541855298323, 5002.324743254406, 3603.4533701135024, 1930.4480530037908, 414.4803303388844, 526.8349076826865, 800.2300581520064, 1118.5975806068366, 1315.5310274987219, 510.28542565400033, 594.425717725158, 543.7037307813818, 579.1188325291442, 666.3152363486646, 5075.987353472214, 4567.1961396895485, 2895.923596915545, 2548.3674263914136, 2468.5842001276496, 2325.384988911981, 2151.0087569974603, 2145.1863124772253, 2067.992843522234, 2058.615313854811, 1996.2013541269312, 1942.003047518691, 1818.7522863247061, 1720.11831799469, 1467.6693311795773, 1363.8879843606576, 1265.3425458818017, 1152.5911762396183, 1140.6974913645047, 1133.267722087544, 1119.8531690082434, 1113.6155464389474, 1113.38893489956, 1072.62021278563, 1006.2545458841689, 986.4089314741374, 962.7319648755331, 901.0620083581672, 777.9572073871731, 747.7096982930412, 6565.16062696465, 1996.9348871794039, 5029.324865365451, 16520.61896799953, 4019.795958967517, 8008.81006795354, 2224.1219742643048, 3754.5227908557254, 1507.0283138954608, 1316.3003904087468, 3198.752288936851, 5320.068507048831, 7780.619504335578, 1807.825173267181, 2588.8423620906024, 1972.0457665414322, 2081.6784803963646, 2673.108059975186, 3373.4913481102258, 3544.9404970301703, 3059.2767220463406, 3291.55230593928, 3336.1052126981313, 2545.953899465513, 2347.1994076934884, 2127.0578039859556, 2073.817154011229, 13765.367737396957, 4690.340239311921, 3247.0290487586935, 2765.378834227188, 2648.0214410591857, 2563.676132108678, 2403.0113229594863, 2311.697544134886, 2143.5211511525486, 2005.8369958409835, 1843.1746539950516, 1654.869244350519, 1588.2196281914075, 1497.9085879582292, 1475.2546691672455, 1392.0061326345806, 1389.779220957262, 1361.383316501313, 1348.512526788173, 1285.5897412826582, 1285.021638303681, 1139.8321103026508, 1109.5365347742327, 1102.4258585988935, 1072.7822364891417, 979.9802387496156, 920.0681968093984, 846.3692214631441, 824.873825413805, 804.559557780204, 1948.2926274273127, 1386.843372229137, 9130.716901216218, 5002.697788340994, 1941.2403793361323, 2251.3903723449375, 4844.289646580707, 8439.377898244895, 6340.511114581027, 6493.489561202804, 3280.349379036991, 2541.586416276221, 3516.484061707434, 2389.6250083208515, 3363.171368888517, 2041.723250685402, 2577.9530958620785, 2072.7401133293865, 2379.9674021234378, 2094.7009840417704, 2592.0258141000268, 2039.8616409236272, 1964.721969133864, 11024.486916070167, 10933.637365713614, 8645.844146636457, 8466.336374313069, 7155.451101741339, 6520.214139244218, 4974.646108265459, 4950.839966254707, 3643.188485441365, 3474.967745838494, 3247.3219562009003, 2936.6845146480823, 2718.2056366009588, 2553.328091481112, 2513.691293368068, 2078.4404653204206, 2047.323574903894, 1963.5404583897432, 1960.5638039579628, 1819.9496551293923, 1713.6342153609157, 1685.2219731007026, 1557.421857116811, 1556.0824240080783, 1471.6269308982517, 1422.0067931312108, 1330.81198305389, 1250.5238879959809, 1215.4514479456914, 1204.667776888402, 10111.542186486246, 4540.744535017534, 1596.6119047021948, 7292.715235468142, 3417.560234827924, 7330.022928692857, 9974.421558577795, 10867.86368375299, 4901.987420920994, 3613.3531892866317, 13196.895455048776, 4749.937277058561, 4016.2793317507576, 5816.726791708549, 4450.664896104679, 3907.6192360832183, 6803.479346482742, 3895.7974668532584, 4528.115477353163, 4394.066037652268, 5502.316456691904, 4496.064571405983, 4354.350120361806, 16524.21411963975, 16105.13064949658, 10795.415279695515, 7065.678618721785, 4278.738055113266, 3989.726921761257, 3738.593763005344, 3253.765969130045, 2927.475855802374, 2890.5267396634104, 2677.714946485052, 2626.8924956979063, 2508.3900039708524, 2300.82268854276, 2250.978714720071, 2208.5233335861926, 2156.302831736646, 2110.8030574673107, 2052.144256581249, 1994.556421557299, 1858.2236184598764, 1810.8528295163148, 1787.6135054253893, 1703.2983637195673, 1693.1212109190685, 1694.4879030848394, 1659.9242463040518, 1621.3338491797788, 1539.0428448617893, 1504.400393891369, 21234.144148475818, 3198.4679289821474, 3495.2919924976136, 2163.9194710851248, 14331.231699495931, 5835.84501375194, 3301.824867533195, 4140.3222670783225, 3099.444472386871, 3054.956320244886, 2782.3310042779895, 5378.0293367905615, 4828.6087655011415, 3208.7681356808134, 2949.912749392833, 4717.406148571801, 6326.294187559149, 5575.364919060097, 5848.203594608493, 3397.2474098148527, 5051.144198323044, 3863.572859256568, 3275.468508812088, 3688.019404754825, 3128.645956318017, 3122.266008646117, 3184.9415269371843], \"Total\": [35958.0, 13354.0, 21572.0, 13766.0, 18437.0, 23612.0, 14288.0, 16525.0, 10631.0, 16106.0, 8691.0, 7138.0, 11025.0, 10934.0, 13378.0, 13829.0, 12299.0, 19000.0, 17668.0, 10730.0, 12230.0, 11205.0, 5438.0, 10049.0, 18594.0, 8646.0, 10796.0, 8467.0, 4428.0, 12757.0, 6979.945426130817, 5846.38835260574, 4179.718857711203, 3585.8093600905777, 2985.880503883973, 2707.4526291939956, 2611.437515780206, 2569.3879050267346, 2547.5450880633466, 1964.6239157623324, 1856.817769700388, 1846.677900407324, 1833.5682831597007, 1696.6967575858341, 1655.7071635645702, 1522.1848746971089, 1482.977278918275, 1464.600707112902, 1320.0889241003931, 1261.972881027751, 1209.2594268154007, 1161.6233262043388, 1111.8708621475234, 1084.5106859671796, 1061.1578816299045, 984.2273591911322, 955.5087264923212, 932.208294755021, 924.9024256830533, 882.3694189538064, 6743.4971806234125, 6555.320656262011, 18437.54633276663, 13378.98964843552, 7374.9730425006255, 7529.635847042084, 3289.5676817298495, 8654.127270231862, 5241.377588910532, 7217.454544874966, 5640.694604558801, 5818.661899828635, 6860.889789839066, 8691.863747466467, 6691.683487057283, 5779.179984542756, 3002.6411098121575, 10256.496110223314, 8402.026600740033, 5130.735934112344, 13475.858464891793, 4279.109712974747, 12757.720947628373, 18594.832424266602, 6391.601391243302, 8541.849270746152, 11821.196160786505, 7790.12862383298, 13354.094128932345, 9400.621465218166, 7350.59485152663, 11791.14687746654, 19000.596464289127, 2317.1250042938027, 1730.7668953482337, 1204.8133911259795, 921.7525291052251, 901.5911969518681, 722.5948154480894, 623.3413918989759, 503.59202206640566, 503.59202206640566, 499.75246272983753, 489.0937513216996, 411.77885111707576, 410.6959362928105, 351.07008440535105, 264.22828642020573, 226.16687757215354, 216.21465004820888, 213.99222048789207, 210.63923711745088, 199.83765620385964, 189.85858758549458, 189.22766691340712, 183.3292202267994, 181.7199508367547, 173.3874172346173, 172.28436974575678, 166.8131452762256, 157.19175735299865, 153.22936287111057, 153.2178095191328, 13354.094128932345, 3770.220181359884, 8691.863747466467, 2287.9539414605997, 2055.558783814006, 1966.3305129741377, 1957.0998787260671, 1871.1755993803572, 1549.3995917979698, 1455.2896279034217, 1323.8104503334612, 1201.9679817696672, 1139.7124266482851, 1080.8007675758488, 1079.2770276501383, 1051.930124059848, 948.5040272585993, 942.5735011279417, 912.6794132691913, 907.5846172034854, 834.8080451892016, 796.4467293303369, 749.3224464789413, 713.5456859270203, 680.6142091252888, 660.9715540201996, 654.7965512716585, 625.7215449685808, 622.9280844140789, 622.3408694671165, 597.1373757334019, 575.9125198986575, 555.6638550525759, 2290.621557250446, 2114.6365728423607, 1101.5521941181687, 1089.7422278110805, 934.3017545955817, 4736.577792200329, 2717.032720676956, 2659.9275938032747, 2568.5394316575503, 4102.433352232653, 2640.602204775067, 6391.601391243302, 12299.165376733074, 5328.454060808715, 2075.623290382516, 13354.094128932345, 8640.135522263374, 3526.8186954505454, 5236.082221563628, 12230.471587114773, 35958.85400184575, 4428.893936782067, 1346.8385355704354, 1244.4691051379878, 1213.729249943436, 1177.7555537197238, 986.2266163173382, 606.9018890946919, 589.6102943680039, 571.7917024110546, 545.1443235802119, 519.5134000866718, 512.1668060781211, 502.02303742757545, 486.25166573207156, 466.50252561626553, 461.88243675616627, 450.9420772757979, 357.1850693374234, 345.99287629442045, 343.1660857498693, 341.6984559832788, 334.82484286239776, 319.3892597658092, 311.7091297786814, 306.6933938573315, 302.8900874465392, 296.2030307271819, 288.23781711019404, 277.3962680318728, 3089.5101286396107, 7138.224327484774, 5438.255529947648, 2678.5889630150714, 445.86457618626525, 623.8370530560287, 1342.6364051387504, 2288.8382421559472, 4200.492421012347, 793.0701643210756, 1404.077979865527, 1179.0819709238428, 2163.7674979089084, 18437.54633276663, 5076.892893676946, 4568.1000983861195, 2896.828239810916, 2549.271208455399, 2469.488361909166, 2326.2888084723745, 2151.9126375269484, 2146.0903987842844, 2068.8972599353883, 2059.5198348517542, 1997.1054713370538, 1942.9069829311275, 1819.6570676596186, 1721.0226748311486, 1468.5744654478722, 1364.792059754852, 1266.2466071439144, 1153.49551197494, 1141.602198774509, 1134.1723814164832, 1120.757377527198, 1114.5198523630113, 1114.2938559362087, 1073.5247309232943, 1007.1591287191737, 987.3134803111118, 963.6367011417377, 901.966098404418, 778.861183470885, 748.613779721094, 6673.256585085942, 2015.187888249541, 5560.766965986639, 21572.52291353344, 4579.565285180383, 10049.142993534413, 2469.527118759165, 4536.41752511106, 1643.2452292728995, 1384.1039366298746, 4505.323411176379, 9228.143787948919, 17094.118347630294, 2203.1829059692477, 3957.976064611097, 2563.2926752757276, 2874.9455461695575, 5251.832832833681, 10853.74674118181, 12757.720947628373, 8541.849270746152, 14430.405651404873, 17668.096662808166, 11791.14687746654, 7597.607817474925, 4014.6743697332527, 4736.577792200329, 13766.274539656206, 4691.247033164991, 3247.9355704914897, 2766.285641683637, 2648.929047449261, 2564.5823290005387, 2403.918302232913, 2312.6044048337067, 2144.428151116062, 2006.7446003606642, 1844.081985315998, 1655.7760758768716, 1589.1264404831468, 1498.8155069602162, 1476.1615138134757, 1392.9135255282445, 1390.6863144613508, 1362.289984410461, 1349.4200123471298, 1286.4976276977707, 1285.9296954326448, 1140.7393720876028, 1110.442935933141, 1103.3335885540223, 1073.689151956889, 980.88731793013, 920.9749892317758, 847.2761623483584, 825.7833377731647, 805.4668461889228, 2002.4070569366208, 1424.4756577030262, 10631.705575305617, 6061.727229211997, 2198.292560982995, 2628.623675624917, 6709.599202656596, 14288.343763288274, 11205.798956043147, 12230.471587114773, 5501.010631801985, 3721.573725379411, 6266.73607324149, 3519.3164231580845, 6639.402230175876, 2985.258067942134, 5251.832832833681, 3748.2678341959772, 5777.977300945243, 4200.492421012347, 13475.858464891793, 4392.713946222357, 4674.127618283105, 11025.386556925121, 10934.536784839174, 8646.743706212055, 8467.236034894691, 7156.350674936573, 6521.113679888323, 4975.545580223225, 4951.739587789147, 3644.088081566372, 3475.867045342407, 3248.2215257316293, 2937.5843619725606, 2719.1052508531916, 2554.2277124284847, 2514.5909194026253, 2079.3405954132127, 2048.223084987191, 1964.4398039884518, 1961.4632551873267, 1820.8495206165778, 1714.53510810788, 1686.1214369727938, 1558.3215535451557, 1556.9818682253656, 1472.5266958688946, 1422.9062823787995, 1331.7117391962236, 1251.4237815457418, 1216.3508253027512, 1205.5676324498183, 10730.515973761661, 4702.527162025799, 1607.295593957281, 7993.838070388959, 3612.2313314020535, 8640.135522263374, 12299.165376733074, 13829.159000264104, 5655.231167455775, 4034.878324741616, 19000.596464289127, 5888.5015894910675, 4828.617279977729, 7831.8927339593065, 5584.188539967442, 4748.741755436413, 9969.460511914844, 4777.308020078399, 6730.454098286132, 6588.71802397591, 18594.832424266602, 12230.471587114773, 14430.405651404873, 16525.109062880776, 16106.025609428305, 10796.310055205337, 7066.573179288726, 4279.632523036408, 3990.6217315058393, 3739.489982605505, 3254.661387888805, 2928.3712205345464, 2891.4218270239594, 2678.6097463698156, 2627.7873140396337, 2509.2851241262874, 2301.71770971578, 2251.8740778529077, 2209.4189737930324, 2157.1978885307326, 2111.697790108497, 2053.039192258209, 1995.452068161635, 1859.118338909847, 1811.7478500776137, 1788.508310498153, 1704.1942838590899, 1694.0161775544627, 1695.3844021863606, 1660.8206867337037, 1622.2283752807646, 1539.9378251087257, 1505.296555408081, 23612.81818384886, 3287.4705970414025, 3691.9883996825097, 2214.534775686055, 17668.096662808166, 6638.854245288591, 3563.095199573356, 4718.135124976923, 3473.7085814968646, 3459.9291900216913, 3152.2004458338097, 7912.635670444597, 6961.06111518812, 4079.143692576032, 3601.457558074394, 7793.662832149445, 14430.405651404873, 11821.196160786505, 14288.343763288274, 5777.977300945243, 21572.52291353344, 11791.14687746654, 6639.402230175876, 17094.118347630294, 5739.730293689836, 5864.7193389788645, 10853.74674118181], \"Category\": [\"Default\", \"Default\", \"Default\", \"Default\", \"Default\", \"Default\", \"Default\", \"Default\", \"Default\", \"Default\", \"Default\", \"Default\", \"Default\", \"Default\", \"Default\", \"Default\", \"Default\", \"Default\", \"Default\", \"Default\", \"Default\", \"Default\", \"Default\", \"Default\", \"Default\", \"Default\", \"Default\", \"Default\", \"Default\", \"Default\", \"Topic1\", \"Topic1\", \"Topic1\", \"Topic1\", \"Topic1\", \"Topic1\", \"Topic1\", \"Topic1\", \"Topic1\", \"Topic1\", \"Topic1\", \"Topic1\", \"Topic1\", \"Topic1\", \"Topic1\", \"Topic1\", \"Topic1\", \"Topic1\", \"Topic1\", \"Topic1\", \"Topic1\", \"Topic1\", \"Topic1\", \"Topic1\", \"Topic1\", \"Topic1\", \"Topic1\", \"Topic1\", \"Topic1\", \"Topic1\", \"Topic1\", \"Topic1\", \"Topic1\", \"Topic1\", \"Topic1\", \"Topic1\", \"Topic1\", \"Topic1\", \"Topic1\", \"Topic1\", \"Topic1\", \"Topic1\", \"Topic1\", \"Topic1\", \"Topic1\", \"Topic1\", \"Topic1\", \"Topic1\", \"Topic1\", \"Topic1\", \"Topic1\", \"Topic1\", \"Topic1\", \"Topic1\", \"Topic1\", \"Topic1\", \"Topic1\", \"Topic1\", \"Topic1\", \"Topic1\", \"Topic1\", \"Topic1\", \"Topic1\", \"Topic2\", \"Topic2\", \"Topic2\", \"Topic2\", \"Topic2\", \"Topic2\", \"Topic2\", \"Topic2\", \"Topic2\", \"Topic2\", \"Topic2\", \"Topic2\", \"Topic2\", \"Topic2\", \"Topic2\", \"Topic2\", \"Topic2\", \"Topic2\", \"Topic2\", \"Topic2\", \"Topic2\", \"Topic2\", \"Topic2\", \"Topic2\", \"Topic2\", \"Topic2\", \"Topic2\", \"Topic2\", \"Topic2\", \"Topic2\", \"Topic2\", \"Topic2\", \"Topic2\", \"Topic3\", \"Topic3\", \"Topic3\", \"Topic3\", \"Topic3\", \"Topic3\", \"Topic3\", \"Topic3\", \"Topic3\", \"Topic3\", \"Topic3\", \"Topic3\", \"Topic3\", \"Topic3\", \"Topic3\", \"Topic3\", \"Topic3\", \"Topic3\", \"Topic3\", \"Topic3\", \"Topic3\", \"Topic3\", \"Topic3\", \"Topic3\", \"Topic3\", \"Topic3\", \"Topic3\", \"Topic3\", \"Topic3\", \"Topic3\", \"Topic3\", \"Topic3\", \"Topic3\", \"Topic3\", \"Topic3\", \"Topic3\", \"Topic3\", \"Topic3\", \"Topic3\", \"Topic3\", \"Topic3\", \"Topic3\", \"Topic3\", \"Topic3\", \"Topic3\", \"Topic3\", \"Topic3\", \"Topic3\", \"Topic3\", \"Topic3\", \"Topic4\", \"Topic4\", \"Topic4\", \"Topic4\", \"Topic4\", \"Topic4\", \"Topic4\", \"Topic4\", \"Topic4\", \"Topic4\", \"Topic4\", \"Topic4\", \"Topic4\", \"Topic4\", \"Topic4\", \"Topic4\", \"Topic4\", \"Topic4\", \"Topic4\", \"Topic4\", \"Topic4\", \"Topic4\", \"Topic4\", \"Topic4\", \"Topic4\", \"Topic4\", \"Topic4\", \"Topic4\", \"Topic4\", \"Topic4\", \"Topic4\", \"Topic4\", \"Topic4\", \"Topic4\", \"Topic4\", \"Topic4\", \"Topic4\", \"Topic4\", \"Topic4\", \"Topic4\", \"Topic4\", \"Topic4\", \"Topic4\", \"Topic4\", \"Topic5\", \"Topic5\", \"Topic5\", \"Topic5\", \"Topic5\", \"Topic5\", \"Topic5\", \"Topic5\", \"Topic5\", \"Topic5\", \"Topic5\", \"Topic5\", \"Topic5\", \"Topic5\", \"Topic5\", \"Topic5\", \"Topic5\", \"Topic5\", \"Topic5\", \"Topic5\", \"Topic5\", \"Topic5\", \"Topic5\", \"Topic5\", \"Topic5\", \"Topic5\", \"Topic5\", \"Topic5\", \"Topic5\", \"Topic5\", \"Topic5\", \"Topic5\", \"Topic5\", \"Topic5\", \"Topic5\", \"Topic5\", \"Topic5\", \"Topic5\", \"Topic5\", \"Topic5\", \"Topic5\", \"Topic5\", \"Topic5\", \"Topic5\", \"Topic5\", \"Topic5\", \"Topic5\", \"Topic5\", \"Topic5\", \"Topic5\", \"Topic5\", \"Topic5\", \"Topic5\", \"Topic5\", \"Topic5\", \"Topic5\", \"Topic5\", \"Topic6\", \"Topic6\", \"Topic6\", \"Topic6\", \"Topic6\", \"Topic6\", \"Topic6\", \"Topic6\", \"Topic6\", \"Topic6\", \"Topic6\", \"Topic6\", \"Topic6\", \"Topic6\", \"Topic6\", \"Topic6\", \"Topic6\", \"Topic6\", \"Topic6\", \"Topic6\", \"Topic6\", \"Topic6\", \"Topic6\", \"Topic6\", \"Topic6\", \"Topic6\", \"Topic6\", \"Topic6\", \"Topic6\", \"Topic6\", \"Topic6\", \"Topic6\", \"Topic6\", \"Topic6\", \"Topic6\", \"Topic6\", \"Topic6\", \"Topic6\", \"Topic6\", \"Topic6\", \"Topic6\", \"Topic6\", \"Topic6\", \"Topic6\", \"Topic6\", \"Topic6\", \"Topic6\", \"Topic6\", \"Topic6\", \"Topic6\", \"Topic6\", \"Topic6\", \"Topic6\", \"Topic7\", \"Topic7\", \"Topic7\", \"Topic7\", \"Topic7\", \"Topic7\", \"Topic7\", \"Topic7\", \"Topic7\", \"Topic7\", \"Topic7\", \"Topic7\", \"Topic7\", \"Topic7\", \"Topic7\", \"Topic7\", \"Topic7\", \"Topic7\", \"Topic7\", \"Topic7\", \"Topic7\", \"Topic7\", \"Topic7\", \"Topic7\", \"Topic7\", \"Topic7\", \"Topic7\", \"Topic7\", \"Topic7\", \"Topic7\", \"Topic7\", \"Topic7\", \"Topic7\", \"Topic7\", \"Topic7\", \"Topic7\", \"Topic7\", \"Topic7\", \"Topic7\", \"Topic7\", \"Topic7\", \"Topic7\", \"Topic7\", \"Topic7\", \"Topic7\", \"Topic7\", \"Topic7\", \"Topic7\", \"Topic7\", \"Topic7\", \"Topic7\", \"Topic7\", \"Topic7\", \"Topic8\", \"Topic8\", \"Topic8\", \"Topic8\", \"Topic8\", \"Topic8\", \"Topic8\", \"Topic8\", \"Topic8\", \"Topic8\", \"Topic8\", \"Topic8\", \"Topic8\", \"Topic8\", \"Topic8\", \"Topic8\", \"Topic8\", \"Topic8\", \"Topic8\", \"Topic8\", \"Topic8\", \"Topic8\", \"Topic8\", \"Topic8\", \"Topic8\", \"Topic8\", \"Topic8\", \"Topic8\", \"Topic8\", \"Topic8\", \"Topic8\", \"Topic8\", \"Topic8\", \"Topic8\", \"Topic8\", \"Topic8\", \"Topic8\", \"Topic8\", \"Topic8\", \"Topic8\", \"Topic8\", \"Topic8\", \"Topic8\", \"Topic8\", \"Topic8\", \"Topic8\", \"Topic8\", \"Topic8\", \"Topic8\", \"Topic8\", \"Topic8\", \"Topic8\", \"Topic8\", \"Topic8\", \"Topic8\", \"Topic8\", \"Topic8\"], \"logprob\": [30.0, 29.0, 28.0, 27.0, 26.0, 25.0, 24.0, 23.0, 22.0, 21.0, 20.0, 19.0, 18.0, 17.0, 16.0, 15.0, 14.0, 13.0, 12.0, 11.0, 10.0, 9.0, 8.0, 7.0, 6.0, 5.0, 4.0, 3.0, 2.0, 1.0, -4.673299789428711, -4.850500106811523, -5.186200141906738, -5.3394999504089355, -5.522600173950195, -5.620500087738037, -5.656599998474121, -5.672900199890137, -5.681399822235107, -5.941400051116943, -5.997799873352051, -6.003300189971924, -6.01039981842041, -6.0879998207092285, -6.112500190734863, -6.196599960327148, -6.222799777984619, -6.235199928283691, -6.339200019836426, -6.384200096130371, -6.4268999099731445, -6.467199802398682, -6.511000156402588, -6.535900115966797, -6.557700157165527, -6.632999897003174, -6.662700176239014, -6.687399864196777, -6.695199966430664, -6.742400169372559, -4.712399959564209, -4.754799842834473, -3.7386999130249023, -4.058899879455566, -4.654600143432617, -4.641499996185303, -5.454400062561035, -4.52209997177124, -5.010200023651123, -4.705900192260742, -4.946100234985352, -4.941800117492676, -4.787099838256836, -4.580100059509277, -4.853400230407715, -4.999100208282471, -5.585400104522705, -4.524600028991699, -4.70359992980957, -5.133699893951416, -4.334000110626221, -5.290299892425537, -4.395699977874756, -4.094900131225586, -5.090000152587891, -4.958099842071533, -4.78439998626709, -5.024499893188477, -4.7652997970581055, -4.96019983291626, -5.109799861907959, -5.063199996948242, -5.0507001876831055, -2.973900079727173, -3.2657999992370605, -3.6282999515533447, -3.8963000774383545, -3.9184999465942383, -4.140100002288818, -4.288000106811523, -4.501699924468994, -4.501699924468994, -4.509399890899658, -4.531000137329102, -4.703400135040283, -4.705999851226807, -4.86329984664917, -5.148399829864502, -5.304500102996826, -5.349699974060059, -5.360099792480469, -5.375899791717529, -5.428800106048584, -5.480299949645996, -5.48360013961792, -5.515500068664551, -5.524400234222412, -5.571499824523926, -5.578000068664551, -5.610400199890137, -5.670100212097168, -5.695799827575684, -5.695899963378906, -2.101900100708008, -3.706899881362915, -4.092599868774414, -4.712699890136719, -4.819900035858154, -4.864299774169922, -4.86899995803833, -4.913899898529053, -5.102700233459473, -5.16540002822876, -5.260200023651123, -5.356800079345703, -5.409999847412109, -5.463099956512451, -5.4644999504089355, -5.490200042724609, -5.593800067901611, -5.600100040435791, -5.632400035858154, -5.638000011444092, -5.72160005569458, -5.768700122833252, -5.829800128936768, -5.878799915313721, -5.92609977722168, -5.955399990081787, -5.964799880981445, -6.010300159454346, -6.014800071716309, -6.015699863433838, -6.05709981918335, -6.093400001525879, -6.129199981689453, -4.808499813079834, -4.956600189208984, -5.547800064086914, -5.5609002113342285, -5.7221999168396, -4.5725998878479, -5.013700008392334, -5.110599994659424, -5.152200222015381, -4.88539981842041, -5.1417999267578125, -4.957600116729736, -4.702700138092041, -5.15369987487793, -5.452899932861328, -5.169899940490723, -5.270500183105469, -5.430799961090088, -5.393099784851074, -5.332799911499023, -1.2599999904632568, -3.3543999195098877, -4.545199871063232, -4.624300003051758, -4.649400234222412, -4.679500102996826, -4.857100009918213, -5.343200206756592, -5.372200012207031, -5.402900218963623, -5.450699806213379, -5.499000072479248, -5.513199806213379, -5.533299922943115, -5.565199851989746, -5.606800079345703, -5.616700172424316, -5.6407999992370605, -5.8744001388549805, -5.906300067901611, -5.9145002365112305, -5.918799877166748, -5.939199924468994, -5.986599922180176, -6.011000156402588, -6.027200222015381, -6.039700031280518, -6.062099933624268, -6.0894999504089355, -6.127900123596191, -3.8222999572753906, -3.2323999404907227, -3.5604000091552734, -4.184599876403809, -5.7230000495910645, -5.4832000732421875, -5.065199851989746, -4.730199813842773, -4.5680999755859375, -5.515100002288818, -5.362500190734863, -5.451700210571289, -5.388599872589111, -5.248300075531006, -4.474100112915039, -4.579699993133545, -5.035299777984619, -5.1631999015808105, -5.195000171661377, -5.254700183868408, -5.332699775695801, -5.335400104522705, -5.372000217437744, -5.3765997886657715, -5.407400131225586, -5.434899806976318, -5.500500202178955, -5.55620002746582, -5.714900016784668, -5.788300037384033, -5.86329984664917, -5.956600189208984, -5.9670000076293945, -5.973499774932861, -5.985400199890137, -5.991000175476074, -5.991199970245361, -6.028500080108643, -6.092400074005127, -6.112299919128418, -6.136600017547607, -6.2027997970581055, -6.349699974060059, -6.3892998695373535, -4.216800212860107, -5.4070000648498535, -4.48330020904541, -3.2939999103546143, -4.707399845123291, -4.018099784851074, -5.299200057983398, -4.775599956512451, -5.688499927520752, -5.823800086975098, -4.935800075531006, -4.42710018157959, -4.046999931335449, -5.506499767303467, -5.14739990234375, -5.41949987411499, -5.3653998374938965, -5.1153998374938965, -4.882699966430664, -4.833099842071533, -4.980400085449219, -4.907199859619141, -4.893799781799316, -5.164100170135498, -5.2453999519348145, -5.343900203704834, -5.369200229644775, -3.115000009536743, -4.191699981689453, -4.559500217437744, -4.71999979019165, -4.763400077819824, -4.79580020904541, -4.860499858856201, -4.899199962615967, -4.974699974060059, -5.041100025177002, -5.125699996948242, -5.233500003814697, -5.274600028991699, -5.333099842071533, -5.348400115966797, -5.406499862670898, -5.408100128173828, -5.428699970245361, -5.438199996948242, -5.486000061035156, -5.486400127410889, -5.606299877166748, -5.633299827575684, -5.639699935913086, -5.666900157928467, -5.757400035858154, -5.820499897003174, -5.9039998054504395, -5.929699897766113, -5.954699993133545, -5.070199966430664, -5.410200119018555, -3.525599956512451, -4.127200126647949, -5.07390022277832, -4.925600051879883, -4.15939998626709, -3.604300022125244, -3.890199899673462, -3.8664000034332275, -4.549200057983398, -4.8043999671936035, -4.479700088500977, -4.866099834442139, -4.5243000984191895, -5.023399829864502, -4.790200233459473, -5.008299827575684, -4.870100021362305, -4.997799873352051, -4.784800052642822, -5.0243000984191895, -5.061800003051758, -3.9730000495910645, -3.981300115585327, -4.216000080108643, -4.236999988555908, -4.405300140380859, -4.498199939727783, -4.768799781799316, -4.773600101470947, -5.0802998542785645, -5.127500057220459, -5.195300102233887, -5.29580020904541, -5.373199939727783, -5.435699939727783, -5.451399803161621, -5.641499996185303, -5.656599998474121, -5.698400020599365, -5.699900150299072, -5.7743000984191895, -5.834499835968018, -5.851200103759766, -5.930099964141846, -5.931000232696533, -5.986800193786621, -6.021100044250488, -6.087299823760986, -6.149600028991699, -6.177999973297119, -6.1869001388549805, -4.0594000816345215, -4.860000133514404, -5.905200004577637, -4.386300086975098, -5.144199848175049, -4.381100177764893, -4.0731000900268555, -3.987299919128418, -4.7835001945495605, -5.088500022888184, -3.793100118637085, -4.815000057220459, -4.982800006866455, -4.612400054931641, -4.880099773406982, -5.010200023651123, -4.455699920654297, -5.013199806213379, -4.862800121307373, -4.892899990081787, -4.668000221252441, -4.869900226593018, -4.9019999504089355, -3.9433000087738037, -3.9690001010894775, -4.36899995803833, -4.792900085449219, -5.294400215148926, -5.3643999099731445, -5.4293999671936035, -5.568299770355225, -5.673999786376953, -5.686699867248535, -5.7631001472473145, -5.782299995422363, -5.828499794006348, -5.91480016708374, -5.936699867248535, -5.9558000564575195, -5.979700088500977, -6.000999927520752, -6.029200077056885, -6.057700157165527, -6.128499984741211, -6.154300212860107, -6.167200088500977, -6.2154998779296875, -6.221499919891357, -6.220699787139893, -6.241300106048584, -6.264900207519531, -6.31689977645874, -6.339700222015381, -3.692500114440918, -5.585400104522705, -5.496699810028076, -5.976200103759766, -4.085700035095215, -4.984099864959717, -5.553599834442139, -5.327300071716309, -5.6168999671936035, -5.63129997253418, -5.724800109863281, -5.065800189971924, -5.173500061035156, -5.582200050354004, -5.666299819946289, -5.196800231933594, -4.90339994430542, -5.029699802398682, -4.98199987411499, -5.525100231170654, -5.128499984741211, -5.396500110626221, -5.561600208282471, -5.442999839782715, -5.607500076293945, -5.609499931335449, -5.589700222015381], \"loglift\": [30.0, 29.0, 28.0, 27.0, 26.0, 25.0, 24.0, 23.0, 22.0, 21.0, 20.0, 19.0, 18.0, 17.0, 16.0, 15.0, 14.0, 13.0, 12.0, 11.0, 10.0, 9.0, 8.0, 7.0, 6.0, 5.0, 4.0, 3.0, 2.0, 1.0, 1.5056, 1.5056, 1.5055, 1.5055, 1.5055, 1.5054, 1.5054, 1.5054, 1.5054, 1.5053, 1.5053, 1.5053, 1.5053, 1.5052, 1.5052, 1.5052, 1.5052, 1.5051, 1.5051, 1.505, 1.505, 1.505, 1.5049, 1.5049, 1.5049, 1.5048, 1.5048, 1.5048, 1.5048, 1.5047, 1.501, 1.4869, 1.4689, 1.4693, 1.4693, 1.4616, 1.4768, 1.4419, 1.4551, 1.4396, 1.4459, 1.4191, 1.409, 1.3795, 1.3677, 1.3686, 1.4371, 1.2695, 1.2898, 1.353, 1.1871, 1.3779, 1.1801, 1.1042, 1.1769, 1.0189, 0.8677, 1.0446, 0.7649, 0.9209, 1.0174, 0.5914, 0.1268, 4.3077, 4.3076, 4.3073, 4.3071, 4.3071, 4.3068, 4.3066, 4.3062, 4.3062, 4.3062, 4.3062, 4.3058, 4.3058, 4.3054, 4.3045, 4.3039, 4.3037, 4.3037, 4.3036, 4.3034, 4.3031, 4.3031, 4.303, 4.3029, 4.3027, 4.3026, 4.3024, 4.3021, 4.3019, 4.3019, 3.4283, 3.088, 1.867, 2.5816, 2.5815, 2.5815, 2.5815, 2.5815, 2.5814, 2.5813, 2.5813, 2.5812, 2.5812, 2.5811, 2.5811, 2.5811, 2.581, 2.581, 2.581, 2.581, 2.5809, 2.5808, 2.5808, 2.5807, 2.5806, 2.5806, 2.5806, 2.5805, 2.5805, 2.5805, 2.5804, 2.5804, 2.5803, 2.4846, 2.4165, 2.4774, 2.4751, 2.4678, 1.994, 2.1087, 2.0331, 2.0264, 1.825, 2.0092, 1.3094, 0.9097, 1.2952, 1.9388, 0.3603, 0.6951, 1.4308, 1.0733, 0.2852, 3.2796, 3.2794, 3.279, 3.2789, 3.2789, 3.2789, 3.2787, 3.2781, 3.2781, 3.278, 3.278, 3.2779, 3.2779, 3.2778, 3.2778, 3.2777, 3.2777, 3.2776, 3.2771, 3.277, 3.277, 3.2769, 3.2769, 3.2767, 3.2767, 3.2766, 3.2766, 3.2765, 3.2764, 3.2763, 3.1717, 2.9241, 2.8681, 2.9521, 3.2067, 3.1107, 2.7622, 2.5637, 2.1187, 2.8387, 2.4201, 2.5056, 1.9616, -0.0407, 2.0232, 2.0232, 2.023, 2.023, 2.023, 2.023, 2.0229, 2.0229, 2.0229, 2.0229, 2.0229, 2.0229, 2.0229, 2.0228, 2.0227, 2.0227, 2.0226, 2.0226, 2.0226, 2.0226, 2.0225, 2.0225, 2.0225, 2.0225, 2.0225, 2.0224, 2.0224, 2.0224, 2.0222, 2.0221, 2.007, 2.0143, 1.9229, 1.7565, 1.893, 1.7964, 1.9187, 1.8342, 1.9368, 1.9731, 1.6809, 1.4726, 1.2363, 1.8256, 1.5988, 1.7611, 1.7005, 1.348, 0.8548, 0.7427, 0.9966, 0.5454, 0.3564, 0.4905, 0.8487, 1.3881, 1.1974, 2.3847, 2.3846, 2.3845, 2.3844, 2.3844, 2.3844, 2.3844, 2.3844, 2.3843, 2.3843, 2.3843, 2.3842, 2.3842, 2.3842, 2.3842, 2.3841, 2.3841, 2.3841, 2.3841, 2.3841, 2.3841, 2.384, 2.3839, 2.3839, 2.3839, 2.3838, 2.3838, 2.3837, 2.3837, 2.3836, 2.3574, 2.358, 2.2326, 2.1927, 2.2604, 2.2299, 2.059, 1.8582, 1.8153, 1.7516, 1.8678, 2.0034, 1.807, 1.9976, 1.7046, 2.0049, 1.6732, 1.7923, 1.4978, 1.689, 0.7363, 1.6177, 1.5181, 1.7488, 1.7488, 1.7487, 1.7487, 1.7487, 1.7487, 1.7487, 1.7487, 1.7486, 1.7486, 1.7486, 1.7485, 1.7485, 1.7485, 1.7485, 1.7484, 1.7484, 1.7484, 1.7484, 1.7483, 1.7483, 1.7483, 1.7483, 1.7483, 1.7482, 1.7482, 1.7482, 1.7481, 1.7481, 1.7481, 1.6894, 1.7138, 1.7422, 1.657, 1.6934, 1.5844, 1.5393, 1.5079, 1.6059, 1.6385, 1.3843, 1.534, 1.5646, 1.4514, 1.5219, 1.5539, 1.3667, 1.5449, 1.3525, 1.3437, 0.5311, 0.7481, 0.5507, 1.3738, 1.3738, 1.3738, 1.3737, 1.3737, 1.3736, 1.3736, 1.3736, 1.3736, 1.3735, 1.3735, 1.3735, 1.3735, 1.3735, 1.3735, 1.3735, 1.3734, 1.3734, 1.3734, 1.3734, 1.3734, 1.3734, 1.3734, 1.3733, 1.3733, 1.3733, 1.3733, 1.3733, 1.3733, 1.3733, 1.2677, 1.3464, 1.3191, 1.3507, 1.1645, 1.2449, 1.2977, 1.2432, 1.2599, 1.2494, 1.249, 0.9877, 1.0081, 1.1339, 1.1743, 0.8718, 0.5492, 0.6223, 0.4806, 0.8428, -0.0779, 0.2581, 0.6673, -0.1598, 0.767, 0.7435, 0.1478]}, \"token.table\": {\"Topic\": [7, 1, 1, 8, 4, 5, 7, 6, 4, 6, 8, 1, 7, 8, 4, 6, 1, 4, 2, 2, 2, 7, 1, 5, 6, 8, 1, 8, 3, 1, 3, 6, 2, 3, 2, 1, 5, 8, 3, 8, 2, 4, 7, 8, 1, 8, 3, 3, 3, 2, 1, 5, 6, 8, 1, 3, 6, 3, 6, 5, 1, 3, 5, 8, 7, 1, 8, 8, 5, 5, 8, 4, 4, 8, 1, 8, 1, 5, 5, 1, 5, 7, 8, 1, 6, 8, 1, 1, 1, 5, 8, 1, 6, 8, 4, 8, 1, 4, 7, 4, 6, 8, 6, 7, 8, 1, 1, 6, 8, 3, 8, 6, 5, 1, 3, 6, 1, 3, 6, 7, 6, 6, 6, 8, 1, 3, 5, 8, 4, 4, 1, 8, 1, 1, 5, 2, 1, 5, 4, 4, 4, 5, 4, 4, 8, 3, 1, 3, 1, 5, 8, 3, 4, 6, 8, 5, 6, 6, 8, 1, 5, 1, 5, 6, 8, 3, 1, 6, 1, 7, 6, 1, 8, 2, 2, 2, 1, 3, 5, 7, 8, 1, 8, 6, 1, 6, 8, 3, 1, 5, 8, 1, 4, 1, 4, 3, 5, 8, 3, 3, 5, 8, 3, 4, 3, 6, 8, 8, 8, 7, 3, 5, 7, 3, 7, 8, 8, 3, 5, 6, 7, 1, 5, 8, 7, 7, 2, 7, 1, 3, 5, 7, 2, 6, 7, 6, 3, 5, 7, 7, 4, 3, 2, 4, 3, 5, 5, 7, 2, 6, 6, 1, 3, 5, 6, 8, 4, 5, 6, 8, 6, 5, 8, 1, 5, 2, 1, 4, 5, 5, 5, 5, 4, 6, 4, 8, 1, 8, 3, 7, 1, 7, 7, 7, 8, 3, 7, 7, 1, 7, 3, 5, 1, 3, 3, 8, 1, 7, 2, 7, 3, 3, 4, 1, 2, 3, 3, 5, 6, 8, 5, 8, 4, 8, 1, 7, 4, 7, 1, 2, 3, 2, 6, 2, 6, 7, 8, 6, 3, 4, 8, 7, 1, 7, 8, 2, 3, 5, 6, 5, 1, 3, 4, 5, 6, 8, 6, 5, 3, 3, 1, 8, 1, 6, 7, 3, 5, 6, 8, 2, 8, 6, 4, 1, 3, 5, 8, 8, 1, 5, 7, 1, 6, 2, 1, 4, 6, 4, 5, 5, 6, 8, 6, 8, 4, 7, 8, 1, 3, 8, 1, 7, 8, 4, 8, 3, 8, 1, 3, 4, 2, 6, 5, 8, 1, 1, 6, 8, 1, 7, 1, 8, 5, 6, 5, 3, 5, 8, 2, 1, 8, 8, 1, 5, 8, 1, 6, 8, 5, 1, 7, 8, 3, 6, 8, 7, 7, 1, 3, 5, 6, 8, 8, 1, 1, 4, 1, 8, 3, 2, 1, 4, 5, 8, 2, 1, 6, 2, 1, 8, 4, 1, 6, 7, 8, 6, 8, 7, 8, 5, 6, 8, 7, 8, 1, 8, 4, 2, 3, 4, 3, 1, 8, 5, 1, 3, 3, 5, 1, 5, 6, 8, 6, 5, 7, 8, 4, 3, 4, 5, 6, 5, 7, 1, 3, 5, 6, 6, 6, 7, 1, 3, 7, 8, 4, 8, 5, 2, 7, 1, 6, 8, 5, 1, 1, 5, 8, 7, 8, 7, 4, 5, 7, 8, 1, 3, 5, 5, 7, 1, 6, 8, 2, 1, 4, 7, 7, 3, 4, 1, 3, 6, 7, 1, 6, 7, 3, 4, 5, 6, 8, 3, 1, 4, 5, 6, 6, 4, 5, 8, 3, 1, 2, 8, 1, 3, 5, 1, 3, 5, 6, 8, 8, 8, 1, 4, 1, 3, 5, 7, 6, 1, 7, 3, 7, 8, 6, 1, 3, 7, 3, 3, 7, 1, 3, 7, 1, 7, 3, 5, 7, 8], \"Freq\": [0.9988894443324647, 0.9995893446588384, 0.9642069142518357, 0.03566114729970929, 0.9974258890605812, 0.9998022416640229, 0.9995334482026333, 0.9996289511079136, 0.2675888239191839, 0.5559747066921904, 0.17608176496236452, 0.3329934582139012, 0.6668975639890072, 0.9994447016024346, 0.9993584800196122, 0.9996887460217821, 0.9813402482233782, 0.01861083635679343, 0.9943822028343683, 0.998108569405731, 0.9958083165116532, 0.9993630765497188, 0.11850524463818757, 0.1642022310598196, 0.18500459055026405, 0.5323357895833404, 0.053087924116136144, 0.9466443611525297, 0.998530112204844, 0.218071598898236, 0.09781398906034548, 0.684027964593238, 0.9920517756848578, 0.9995830591502245, 0.9925450593826234, 0.031943022425547175, 0.7969833850660664, 0.17105936308260308, 0.12229408118166649, 0.8774653311821478, 0.9924184488228452, 0.9949665219298756, 0.8155220437170103, 0.18441348062491944, 0.21328005718047743, 0.786684716657646, 0.9993558537767125, 0.999255583878289, 0.9984155234221718, 0.9991768340494934, 0.7270779836050077, 0.04793757679208359, 0.1923439613700939, 0.03257677432155526, 0.5784249705354908, 0.316148942228957, 0.10519395297483682, 0.9993915581890904, 0.9997386475471363, 0.9986696420769036, 0.17685120500748722, 0.07447677506653334, 0.5298063564097539, 0.2189467735233539, 0.9998540214434087, 0.9170493305612327, 0.08283691479207536, 0.9991386711120657, 0.9996088278385686, 0.765835320524129, 0.23414043968085319, 0.9979108685499275, 0.7205286166144561, 0.2788781744098439, 0.9992290792913404, 0.999772364611664, 0.9077539780953234, 0.09211633175276886, 0.9988388557207635, 0.0641145108167492, 0.3139520339450599, 0.0770071026657694, 0.545147566156544, 0.2517446556970996, 0.5658677283854338, 0.18231631747223484, 0.9990243017447091, 0.9997742880311525, 0.1466060757483512, 0.8206309131672412, 0.03267999211727952, 0.999572893335167, 0.12080397766966444, 0.8790673487283812, 0.844771879801549, 0.15388633863557627, 0.5385545837007925, 0.46137589532792295, 0.9997638216336189, 0.31329660146912847, 0.4987510486913558, 0.18807318781201482, 0.4644053824070101, 0.0020488472753250444, 0.5333832406762866, 0.9989585139569948, 0.07949310775794352, 0.24075416578518666, 0.679672390337393, 0.022578105590827843, 0.977180409971029, 0.9998003425221594, 0.9995335638374596, 0.871081247532726, 0.018381024780669976, 0.11043558790987897, 0.0008176299604452985, 0.10056848513477172, 0.5308871333171323, 0.36760643021620626, 0.9999074157897596, 0.9996179977364206, 0.026768300248585227, 0.972784365851995, 0.9992215960644435, 0.9991157929233377, 0.9170877073939931, 0.08215450597092838, 0.9977391301175074, 0.9956502614808405, 0.9507042596096882, 0.049223700377142195, 0.9998328210107483, 0.9998280129033376, 0.9988491106458541, 0.9919769759002088, 0.9997051108097503, 0.999533182525414, 0.999976250582243, 0.9997981580063043, 0.8975532963282505, 0.10195791141125096, 0.9966019784638065, 0.9959384928498927, 0.9998522015539878, 0.9991946692554639, 0.719694442507342, 0.2800550113235092, 0.09549042483670873, 0.9043716506663055, 0.9999363213834886, 0.999032058694381, 0.9993774045304694, 0.9728291723962182, 0.02646814483418869, 0.9991801116440541, 0.9994204029735902, 0.9994132661537753, 0.9992992090922959, 0.9991751130696478, 0.9995112074196529, 0.2898793007312636, 0.7100489150377584, 0.9989413510212812, 0.9994878524907628, 0.9992590978838358, 0.9997860339878181, 0.9995064922590997, 0.9984480208352754, 0.9993349014203822, 0.9987913097472452, 0.9419052745216948, 0.05797158380737703, 0.9988244014192751, 0.9984943291210067, 0.9935122229564405, 0.1863172947452867, 0.08260958204017496, 0.03447018531172768, 0.6727629271185471, 0.023772541594294955, 0.11676539542055403, 0.882966047053942, 0.9990514003645592, 0.7895483908903548, 0.17432854073993015, 0.035977198843978875, 0.9985101259081106, 0.8800896103647589, 0.10936854425138268, 0.010516206178017564, 0.3372404974169456, 0.6625286326026473, 0.40368337840801266, 0.5958426249564762, 0.5554643279230923, 0.43786887727574814, 0.006544809641055059, 0.9993717321983322, 0.9988052938003084, 0.7693229957784187, 0.2301727015767074, 0.35558013992546555, 0.6430704658226504, 0.9997281596525451, 0.8588462063141287, 0.1410874284822246, 0.9997157908100459, 0.9996695596729014, 0.9998112620526962, 0.9980952863116214, 0.9997475941513368, 0.9998742396089279, 0.15150225324904323, 0.8483663226245125, 0.9994938273647539, 0.9992427852332739, 0.46898994689405693, 0.01340667727607751, 0.011456615126829873, 0.5057973699611061, 0.614503936281878, 0.35811917338279003, 0.027277465641775116, 0.999776117350321, 0.9994655456017433, 0.996038129916723, 0.9995935240635335, 0.06933189950949363, 0.009320863101644632, 0.17850091254930406, 0.7427323378392716, 0.9927495451889502, 0.4203993045277145, 0.5795733923488949, 0.9996131919040837, 0.6231062243439544, 0.12808090140088368, 0.2484327828896451, 0.9996239401401805, 0.9986154006647591, 0.9992352473881033, 0.9978480622073093, 0.9979008795823158, 0.5638865245614822, 0.43588541959050775, 0.9993392726314976, 0.9994028555794747, 0.991998166552421, 0.9997341787468929, 0.9997729341756926, 0.4008091875296387, 0.015520118772307209, 0.21592471253712653, 0.04011484250984323, 0.3277034914546178, 0.9990117673835051, 0.06775034720399717, 0.11300980045912642, 0.8191128043106215, 0.9990530764923597, 0.6541221972382973, 0.3456311957597492, 0.7220725424091116, 0.2778709468997287, 0.9951254124794594, 0.9987038360827517, 0.9996230479840351, 0.9993242270429046, 0.9994919138611765, 0.9995758947129019, 0.9994459808826485, 0.9966821979999845, 0.9992131526241494, 0.9977218240927095, 0.9996881851702533, 0.5282883318285532, 0.47161048037536973, 0.9990975664083209, 0.9999139900247627, 0.9996824248359563, 0.9998010739776105, 0.9993552785839078, 0.10766591129496497, 0.8921301045537338, 0.03423691016611649, 0.9656509879772359, 0.9997014118369213, 0.9715562375416316, 0.028271192143733335, 0.9005474323385384, 0.09895128036784342, 0.9567527761425534, 0.043162777935359505, 0.5738669929816054, 0.42592299207725665, 0.08756744805639274, 0.9123277123932462, 0.9993248820672392, 0.9993693772256419, 0.9990966876425044, 0.8983775933566199, 0.10094130262433933, 0.47670773760742985, 0.41485404749374194, 0.1084311662041405, 0.9994686082039567, 0.9997140873595702, 0.9736916124186665, 0.025974469833807252, 0.18881490540078222, 0.811123024370087, 0.9285330616331506, 0.06952783794837601, 0.9359255341340044, 0.06401148730864693, 0.00622163094181031, 0.9935944614071065, 0.8813989982566229, 0.08709294369929037, 0.031523733914934696, 0.9988244014192751, 0.9996011177893003, 0.996965251459326, 0.7219507236858601, 0.10656374224512594, 0.17139622878586688, 0.9990953925961623, 0.2883558950755384, 0.48889431301443553, 0.2223835615052258, 0.9996423182884411, 0.6692719630943833, 0.29588865736804315, 0.03479461310743801, 0.2952082229846192, 0.12306973536825094, 0.20290592145843098, 0.3787577200557378, 0.9994464632174315, 0.2688644074256763, 0.017315897432114924, 0.005264968813818727, 0.45518580378137236, 0.03761527719206046, 0.21574672205959405, 0.9996492743170469, 0.9995704257452276, 0.9988468593188412, 0.9993233523228375, 0.8717499737808568, 0.12804584767721994, 0.6305415786040188, 0.1862613661552181, 0.1830521765247009, 0.07739275985642909, 0.2920180423448767, 0.5610576157839271, 0.06941412481968381, 0.995477752171163, 0.9995872217662178, 0.9993441620664154, 0.9979559287698011, 0.02794057189162176, 0.0712687051148613, 0.9005772737241564, 0.9994001370424161, 0.9997967874964608, 0.0803493479407892, 0.7241876294923079, 0.19548196338841353, 0.446873082205796, 0.5530554623358896, 0.9977637184716757, 0.9996329081497242, 0.9975364944388647, 0.998493805909963, 0.998922780502417, 0.9994196480341523, 0.9988943042878999, 0.41190885253402537, 0.5879220050664219, 0.8829579986078181, 0.11645401733312799, 0.9987562530791163, 0.9998292193721822, 0.999700388979189, 0.9335114978744007, 0.06627498682732991, 0.9998541108668348, 0.0454215184341467, 0.34912980694721235, 0.6052353176662993, 0.9979621703561302, 0.9998442018443064, 0.9071773525498176, 0.09255129872019313, 0.2930700835423503, 0.00602390707089917, 0.7007344922938987, 0.999514482692251, 0.9993581457392645, 0.999638905774447, 0.9999328861990227, 0.9995898492264925, 0.9992167596281447, 0.5906212882197535, 0.4092846656605188, 0.999559585375726, 0.9995193410428871, 0.8583563949801921, 0.14150016865477283, 0.5089651717946542, 0.49087624874172037, 0.9995663100566838, 0.03712142734379731, 0.8778125760121481, 0.0849425602161009, 0.9983054707112702, 0.3062751446540609, 0.6937160757666323, 0.9993984573835667, 0.5571972043955116, 0.1998804022640638, 0.24285628439002538, 0.9989088507469538, 0.6830443751966369, 0.31680146276822774, 0.9990155099829043, 0.9381650796756165, 0.027270225249839325, 0.03454998876992355, 0.9978454420512916, 0.5065215035045278, 0.49326729823887266, 0.9995291575233611, 0.9991519378384075, 0.8057579821758375, 0.07045919135126968, 0.07521994752365277, 0.0437989567859244, 0.004760756172383087, 0.9998103692427729, 0.9987529718822885, 0.9996900670867183, 0.9993991658819544, 0.9998324617083264, 0.9993909980692502, 0.9993749066592348, 0.9993442738195905, 0.3853968679892501, 0.010319017263876646, 0.3107682609915708, 0.29344705344149213, 0.9948406345585186, 0.9998645510712336, 0.9993518483663366, 0.9995569043120164, 0.9997625281589237, 0.999505854701679, 0.9985139458108505, 0.056857166362205516, 0.12003179565354498, 0.8229548375685154, 0.9991834287347605, 0.11706108362737488, 0.8825580884860622, 0.895442119740096, 0.10434019717978976, 0.120159738681231, 0.5962540739401477, 0.2834024699002105, 0.10070801297350221, 0.899257337039254, 0.9951809603010158, 0.004597021273928101, 0.9957055700650105, 0.9969519350896457, 0.9991138341958229, 0.9970613516802648, 0.9982351436485648, 0.9994598304817971, 0.9997734507539179, 0.9998241259574221, 0.9641983691577539, 0.03572766050057414, 0.9994390970370203, 0.9989288972100758, 0.2484790064708832, 0.5764973024095502, 0.07011160801860507, 0.10489650164143696, 0.999291157421807, 0.8277456779968838, 0.04276502304431304, 0.1296176987116292, 0.9989649190764925, 0.9988167749174476, 0.9980894775684399, 0.990974594301805, 0.008435937958503097, 0.9994057749231869, 0.999765003763409, 0.12092753110018498, 0.5256252447422383, 0.1941585459496994, 0.15898838750223523, 0.9992770246803173, 0.9994558990373203, 0.9996613604823632, 0.02381724740274895, 0.17907704814096953, 0.7970719412754554, 0.9998786571339061, 0.4230534261757237, 0.5761788245389907, 0.9997591781347988, 0.9991835887817356, 0.9996878990081046, 0.99946758571825, 0.07325091960249956, 0.9267223621741515, 0.998966311086663, 0.9995291093266415, 0.4743598362251073, 0.30891302320208847, 0.21651551903171518, 0.8317080785533956, 0.16816408361189172, 0.9998903476584771, 0.9971303562516831, 0.9507956484859804, 0.01300480370269578, 0.03540196563511629, 0.5144081132575233, 0.27625273356989216, 0.20944161050543453, 0.9995013443641528, 0.9998506408150035, 0.1480401127252084, 0.6791091543440462, 0.1727608225276904, 0.9953632871062796, 0.9637941881897654, 0.03612194312517635, 0.9997505527883844, 0.999950909229194, 0.8474269399357389, 0.1522720282697031, 0.25183419946806507, 0.03499890128448553, 0.018578364140486307, 0.6945571432351212, 0.24926123103954234, 0.0682083046707802, 0.6823839656989966, 0.8915749070390746, 0.10703180156531508, 0.9994724968336998, 0.8563416744942989, 0.14304063509989176, 0.9987835133369113, 0.01781670403767733, 0.011217924764463504, 0.14550308297436487, 0.8253423175972193, 0.9995352462289995, 0.016034150438503182, 0.9837775479324615, 0.9996118442582984, 0.9993877897449314, 0.9994634007511062, 0.995351419649854, 0.9995317463424954, 0.7499882228410266, 0.22115771888207508, 0.02864737291218589, 0.6135557857692738, 0.04611871649130462, 0.02788889935314881, 0.001632520937745296, 0.3105871084060426, 0.9999188886502434, 0.999868970739918, 0.9993410020961427, 0.9977250272419518, 0.08985206986716052, 0.5774593276818349, 0.14098128117232298, 0.19135859231123306, 0.999711949183971, 0.05759275709678251, 0.9423591581920141, 0.11476100282775493, 0.8668080675834432, 0.0183900528414276, 0.9995312917681453, 0.0011382886213144575, 0.18781762251688547, 0.810949336356457, 0.9994380058278972, 0.05370641639518162, 0.9462295424676845, 0.02479408348306458, 0.16846390969315111, 0.806656825647649, 0.2141128032401285, 0.7858756992954125, 0.031738539516067685, 0.22812941503688824, 0.3017240197662854, 0.4383799148005331], \"Term\": [\"actually\", \"advise\", \"agreement\", \"agreement\", \"amto\", \"analyst\", \"answer\", \"appear\", \"approval\", \"approval\", \"approval\", \"ask\", \"ask\", \"asset\", \"assignment\", \"associate\", \"attach\", \"attach\", \"audit\", \"awarded_variance\", \"baby\", \"bad\", \"base\", \"base\", \"base\", \"base\", \"bill\", \"bill\", \"black\", \"book\", \"book\", \"book\", \"bpa\", \"br\", \"brother\", \"business\", \"business\", \"business\", \"buy\", \"buy\", \"byothers_strictly\", \"caiso\", \"call\", \"call\", \"capacity\", \"capacity\", \"card\", \"care\", \"catch\", \"cent\", \"change\", \"change\", \"change\", \"change\", \"check\", \"check\", \"check\", \"child\", \"click\", \"client\", \"close\", \"close\", \"close\", \"close\", \"come\", \"comment\", \"comment\", \"committee\", \"commodity\", \"company\", \"company\", \"confidential_privilege\", \"confirm\", \"confirm\", \"confirmation\", \"consumer\", \"contact\", \"contact\", \"content\", \"continue\", \"continue\", \"continue\", \"continue\", \"contract\", \"contract\", \"contract\", \"coordinate\", \"copy\", \"corporate\", \"corporate\", \"corporate\", \"correct\", \"cost\", \"cost\", \"counterpartie\", \"counterpartie\", \"counterparty\", \"counterparty\", \"course\", \"credit\", \"credit\", \"credit\", \"current\", \"current\", \"current\", \"curve\", \"customer\", \"customer\", \"customer\", \"cut\", \"cut\", \"daily\", \"database\", \"date\", \"date\", \"date\", \"day\", \"day\", \"day\", \"day\", \"deal\", \"delivery\", \"demand\", \"demand\", \"desk\", \"dinner\", \"director\", \"director\", \"disclosure_strictly\", \"discover\", \"discuss\", \"discuss\", \"doc\", \"document\", \"dollar\", \"donation\", \"draft\", \"earning\", \"ect\", \"ectcc\", \"ee\", \"ee\", \"ees\", \"eescc\", \"electricity\", \"elink_script\", \"email\", \"email\", \"employee\", \"employee\", \"energy\", \"enjoy\", \"enroncc\", \"enter\", \"enter\", \"equity\", \"error\", \"estimate\", \"example\", \"execute\", \"expand\", \"expect\", \"expect\", \"expense\", \"facility\", \"family\", \"fax\", \"fee\", \"feedback\", \"feel\", \"figure\", \"file\", \"file\", \"file_portland\", \"final_schedule\", \"final_trans_type\", \"find\", \"find\", \"find\", \"find\", \"find\", \"firm\", \"firm\", \"folk\", \"follow\", \"follow\", \"follow\", \"forget\", \"form\", \"form\", \"form\", \"forward\", \"forward\", \"forwarded\", \"forwarded\", \"free\", \"free\", \"free\", \"friend\", \"fun\", \"fund\", \"fund\", \"fw\", \"fw\", \"game\", \"gas\", \"gas\", \"generation\", \"generator\", \"get\", \"gift\", \"global\", \"go\", \"good\", \"good\", \"government\", \"governor\", \"great\", \"great\", \"great\", \"great\", \"group\", \"group\", \"group\", \"guy\", \"hand\", \"hate\", \"hear\", \"help\", \"help\", \"help\", \"help\", \"hereto_notintende\", \"high\", \"high\", \"hit\", \"home\", \"home\", \"home\", \"hope\", \"hopefully\", \"hotel\", \"hotmail\", \"hou_ect\", \"http\", \"http\", \"http_www\", \"idea\", \"iep\", \"image\", \"image_image\", \"include\", \"include\", \"include\", \"include\", \"include\", \"incorporate\", \"increase\", \"increase\", \"increase\", \"index\", \"industry\", \"industry\", \"information\", \"information\", \"information_contained\", \"input\", \"intend\", \"international\", \"internet\", \"investment\", \"investor\", \"invitation\", \"invoice\", \"isda\", \"iso\", \"issue\", \"issue\", \"kid\", \"know\", \"language\", \"late\", \"later\", \"lead\", \"lead\", \"leave\", \"leave\", \"let\", \"letter\", \"letter\", \"life\", \"life\", \"list\", \"list\", \"little\", \"little\", \"look\", \"look\", \"lose\", \"lot\", \"love\", \"lunch\", \"lunch\", \"mail\", \"mail\", \"mail\", \"man\", \"management\", \"margin\", \"margin\", \"market\", \"market\", \"master\", \"master\", \"meeting\", \"meeting\", \"mention\", \"mention\", \"message\", \"message\", \"message\", \"messages_parse\", \"meter\", \"mom\", \"month\", \"month\", \"month\", \"monthly\", \"morning\", \"morning\", \"morning\", \"nee\", \"need\", \"need\", \"need\", \"net\", \"net\", \"net\", \"net\", \"network\", \"new\", \"new\", \"new\", \"new\", \"new\", \"new\", \"news\", \"newsletter\", \"nice\", \"night\", \"note\", \"note\", \"number\", \"number\", \"number\", \"offer\", \"offer\", \"offer\", \"offer\", \"offer_acceptance\", \"official\", \"oil\", \"ok\", \"online\", \"online\", \"online\", \"operate\", \"operation\", \"opportunity\", \"opportunity\", \"opportunity\", \"option\", \"option\", \"org\", \"original\", \"originally\", \"package\", \"panel\", \"partner\", \"partnership\", \"pay\", \"pay\", \"payment\", \"payment\", \"pdx_ect\", \"people\", \"percent\", \"phone\", \"phone\", \"pipeline\", \"plan\", \"plan\", \"plan\", \"planning\", \"plant\", \"play\", \"play\", \"pm\", \"pm\", \"pm\", \"pmto\", \"portfolio\", \"potential\", \"power\", \"presentation\", \"previous\", \"price\", \"price\", \"prior\", \"probably\", \"process\", \"process\", \"product\", \"product\", \"profit\", \"program\", \"program\", \"program\", \"prohibited_intende\", \"project\", \"project\", \"proposal\", \"provide\", \"provide\", \"provide\", \"provider\", \"purchase\", \"purchase\", \"quarter\", \"question\", \"question\", \"question\", \"rank\", \"rate\", \"rate\", \"ready\", \"real\", \"receive\", \"receive\", \"receive\", \"receive\", \"receive\", \"reduce\", \"refer\", \"reference\", \"reflect\", \"regard\", \"regulatory\", \"remember\", \"reply\", \"report\", \"report\", \"report\", \"report\", \"reporter\", \"request\", \"respect\", \"response\", \"review\", \"revise\", \"revision\", \"right\", \"right\", \"right\", \"rise\", \"rule\", \"rule\", \"run\", \"run\", \"sale\", \"sale\", \"sale\", \"say\", \"say\", \"schedule\", \"schedule\", \"scheduler\", \"scheduling_iso\", \"school\", \"scott_neal\", \"season\", \"section\", \"seek\", \"sell\", \"send\", \"send\", \"sense\", \"server\", \"service\", \"service\", \"service\", \"service\", \"shall\", \"share\", \"share\", \"share\", \"sheet\", \"sit\", \"sitara\", \"size\", \"size\", \"software\", \"speak\", \"special\", \"special\", \"special\", \"special\", \"spend\", \"spread\", \"stand\", \"start\", \"start\", \"start\", \"state\", \"status\", \"status\", \"stock\", \"student\", \"submit\", \"suggestion\", \"supply\", \"supply\", \"survey\", \"swap\", \"system\", \"system\", \"system\", \"take\", \"take\", \"talk\", \"tana_jone\", \"target\", \"target\", \"target\", \"team\", \"team\", \"team\", \"technology\", \"tell\", \"term\", \"term\", \"term\", \"testimony\", \"thank\", \"thank\", \"thing\", \"think\", \"ticket\", \"ticket\", \"time\", \"time\", \"time\", \"time\", \"today\", \"today\", \"today\", \"tonight\", \"tonight\", \"tool\", \"total\", \"total\", \"tr_td\", \"trade\", \"trade\", \"trade\", \"trade\", \"trader\", \"trading\", \"trading\", \"transmission\", \"travel\", \"trip\", \"txt\", \"unit\", \"update\", \"update\", \"update\", \"use\", \"use\", \"use\", \"use\", \"use\", \"utility\", \"value\", \"version\", \"vince\", \"visit\", \"visit\", \"visit\", \"visit\", \"volume\", \"want\", \"want\", \"way\", \"way\", \"way\", \"weather\", \"week\", \"week\", \"week\", \"weekend\", \"well\", \"well\", \"will\", \"will\", \"will\", \"work\", \"work\", \"year\", \"year\", \"year\", \"year\"]}, \"R\": 30, \"lambda.step\": 0.01, \"plot.opts\": {\"xlab\": \"PC1\", \"ylab\": \"PC2\"}, \"topic.order\": [1, 2, 3, 4, 5, 6, 7, 8]};\n",
       "\n",
       "function LDAvis_load_lib(url, callback){\n",
       "  var s = document.createElement('script');\n",
       "  s.src = url;\n",
       "  s.async = true;\n",
       "  s.onreadystatechange = s.onload = callback;\n",
       "  s.onerror = function(){console.warn(\"failed to load library \" + url);};\n",
       "  document.getElementsByTagName(\"head\")[0].appendChild(s);\n",
       "}\n",
       "\n",
       "if(typeof(LDAvis) !== \"undefined\"){\n",
       "   // already loaded: just create the visualization\n",
       "   !function(LDAvis){\n",
       "       new LDAvis(\"#\" + \"ldavis_el3551400258907411526610642456\", ldavis_el3551400258907411526610642456_data);\n",
       "   }(LDAvis);\n",
       "}else if(typeof define === \"function\" && define.amd){\n",
       "   // require.js is available: use it to load d3/LDAvis\n",
       "   require.config({paths: {d3: \"https://cdnjs.cloudflare.com/ajax/libs/d3/3.5.5/d3.min\"}});\n",
       "   require([\"d3\"], function(d3){\n",
       "      window.d3 = d3;\n",
       "      LDAvis_load_lib(\"https://cdn.rawgit.com/bmabey/pyLDAvis/files/ldavis.v1.0.0.js\", function(){\n",
       "        new LDAvis(\"#\" + \"ldavis_el3551400258907411526610642456\", ldavis_el3551400258907411526610642456_data);\n",
       "      });\n",
       "    });\n",
       "}else{\n",
       "    // require.js not available: dynamically load d3 & LDAvis\n",
       "    LDAvis_load_lib(\"https://cdnjs.cloudflare.com/ajax/libs/d3/3.5.5/d3.min.js\", function(){\n",
       "         LDAvis_load_lib(\"https://cdn.rawgit.com/bmabey/pyLDAvis/files/ldavis.v1.0.0.js\", function(){\n",
       "                 new LDAvis(\"#\" + \"ldavis_el3551400258907411526610642456\", ldavis_el3551400258907411526610642456_data);\n",
       "            })\n",
       "         });\n",
       "}\n",
       "</script>"
      ],
      "text/plain": [
       "<IPython.core.display.HTML object>"
      ]
     },
     "execution_count": 46,
     "metadata": {},
     "output_type": "execute_result"
    }
   ],
   "source": [
    "pyLDAvis.enable_notebook(sort=True)\n",
    "vis = pyLDAvis.gensim.prepare(optimum_model, corpus, dictionary, sort_topics=False)\n",
    "pyLDAvis.display(vis)"
   ]
  },
  {
   "cell_type": "code",
   "execution_count": 36,
   "metadata": {},
   "outputs": [
    {
     "name": "stdout",
     "output_type": "stream",
     "text": [
      "Pretty printing has been turned ON\n"
     ]
    },
    {
     "name": "stderr",
     "output_type": "stream",
     "text": [
      "/home/donal/.local/lib/python3.8/site-packages/ipykernel/ipkernel.py:287: DeprecationWarning: `should_run_async` will not call `transform_cell` automatically in the future. Please pass the result to `transformed_cell` argument and any exception that happen during thetransform in `preprocessing_exc_tuple` in IPython 7.17 and above.\n",
      "  and should_run_async(code)\n"
     ]
    }
   ],
   "source": [
    "%pprint"
   ]
  },
  {
   "cell_type": "code",
   "execution_count": 40,
   "metadata": {},
   "outputs": [
    {
     "name": "stderr",
     "output_type": "stream",
     "text": [
      "/home/donal/.local/lib/python3.8/site-packages/ipykernel/ipkernel.py:287: DeprecationWarning: `should_run_async` will not call `transform_cell` automatically in the future. Please pass the result to `transformed_cell` argument and any exception that happen during thetransform in `preprocessing_exc_tuple` in IPython 7.17 and above.\n",
      "  and should_run_async(code)\n"
     ]
    },
    {
     "data": {
      "text/plain": [
       "str"
      ]
     },
     "execution_count": 40,
     "metadata": {},
     "output_type": "execute_result"
    }
   ],
   "source": [
    "optimum_model.print_topics()[1][1]"
   ]
  },
  {
   "cell_type": "markdown",
   "metadata": {},
   "source": [
    "The topics shown in the plot are listed below.\n",
    "\n",
    "The number before each entry is the weighting of the token within each topic."
   ]
  },
  {
   "cell_type": "code",
   "execution_count": 45,
   "metadata": {},
   "outputs": [
    {
     "name": "stdout",
     "output_type": "stream",
     "text": [
      "Topic 1: 0.024*\"thank\" + 0.017*\"send\" + 0.017*\"need\" + 0.013*\"change\" + 0.012*\"information\" + 0.011*\"question\" + 0.011*\"follow\" + 0.010*\"message\" + 0.010*\"list\" + 0.010*\"agreement\"\n",
      "Topic 2: 0.122*\"mail\" + 0.051*\"pmto\" + 0.038*\"response\" + 0.027*\"lose\" + 0.025*\"net\" + 0.020*\"student\" + 0.020*\"reply\" + 0.017*\"message\" + 0.016*\"cent\" + 0.014*\"hotmail\"\n",
      "Topic 3: 0.010*\"free\" + 0.009*\"week\" + 0.009*\"br\" + 0.008*\"play\" + 0.008*\"game\" + 0.008*\"night\" + 0.008*\"weekend\" + 0.008*\"great\" + 0.007*\"friend\" + 0.007*\"ticket\"\n",
      "Topic 4: 0.284*\"ect\" + 0.039*\"pm\" + 0.035*\"ectcc\" + 0.028*\"forward\" + 0.022*\"ee\" + 0.015*\"confirm\" + 0.011*\"enroncc\" + 0.010*\"credit\" + 0.010*\"intend\" + 0.010*\"reflect\"\n",
      "Topic 5: 0.037*\"company\" + 0.018*\"business\" + 0.017*\"new\" + 0.015*\"trading\" + 0.012*\"service\" + 0.011*\"sell\" + 0.011*\"employee\" + 0.010*\"stock\" + 0.009*\"program\" + 0.008*\"share\"\n",
      "Topic 6: 0.044*\"deal\" + 0.029*\"gas\" + 0.027*\"price\" + 0.021*\"day\" + 0.020*\"contract\" + 0.016*\"trade\" + 0.016*\"month\" + 0.015*\"image\" + 0.011*\"offer\" + 0.011*\"rate\"\n",
      "Topic 7: 0.023*\"time\" + 0.019*\"go\" + 0.019*\"think\" + 0.019*\"work\" + 0.017*\"want\" + 0.017*\"week\" + 0.015*\"know\" + 0.014*\"come\" + 0.013*\"good\" + 0.012*\"look\"\n",
      "Topic 8: 0.025*\"say\" + 0.019*\"power\" + 0.019*\"energy\" + 0.017*\"market\" + 0.013*\"state\" + 0.008*\"utility\" + 0.007*\"year\" + 0.007*\"price\" + 0.007*\"cost\" + 0.007*\"issue\"\n"
     ]
    },
    {
     "name": "stderr",
     "output_type": "stream",
     "text": [
      "/home/donal/.local/lib/python3.8/site-packages/ipykernel/ipkernel.py:287: DeprecationWarning: `should_run_async` will not call `transform_cell` automatically in the future. Please pass the result to `transformed_cell` argument and any exception that happen during thetransform in `preprocessing_exc_tuple` in IPython 7.17 and above.\n",
      "  and should_run_async(code)\n"
     ]
    }
   ],
   "source": [
    "for i, entry in enumerate(optimum_model.print_topics(), 1):\n",
    "    topic = entry[1]\n",
    "    print(\"Topic %d: %s\" % (i, topic))"
   ]
  },
  {
   "cell_type": "markdown",
   "metadata": {},
   "source": [
    "# Results\n",
    "Based on the results, eight topics best describes the data. \n",
    "\n",
    "Topics appear to be:\n",
    "1. Looking for further information on something\n",
    "2. \n",
    "3. Social events\n",
    "4. \n",
    "5. stocks\n",
    "6. gas \n",
    "7. \n",
    "8. energy \n",
    "\n",
    "the above is my best guess for some of the topics and would need to be looked into further to confirm."
   ]
  },
  {
   "cell_type": "markdown",
   "metadata": {},
   "source": []
  }
 ],
 "metadata": {
  "kernelspec": {
   "display_name": "Python 3",
   "language": "python",
   "name": "python3"
  },
  "language_info": {
   "codemirror_mode": {
    "name": "ipython",
    "version": 3
   },
   "file_extension": ".py",
   "mimetype": "text/x-python",
   "name": "python",
   "nbconvert_exporter": "python",
   "pygments_lexer": "ipython3",
   "version": "3.8.5"
  },
  "toc": {
   "base_numbering": 1,
   "nav_menu": {},
   "number_sections": true,
   "sideBar": false,
   "skip_h1_title": false,
   "title_cell": "Table of Contents",
   "title_sidebar": "Contents",
   "toc_cell": true,
   "toc_position": {
    "height": "100px",
    "left": "60px",
    "top": "88px",
    "width": "304px"
   },
   "toc_section_display": false,
   "toc_window_display": true
  },
  "varInspector": {
   "cols": {
    "lenName": 16,
    "lenType": 16,
    "lenVar": 40
   },
   "kernels_config": {
    "python": {
     "delete_cmd_postfix": "",
     "delete_cmd_prefix": "del ",
     "library": "var_list.py",
     "varRefreshCmd": "print(var_dic_list())"
    },
    "r": {
     "delete_cmd_postfix": ") ",
     "delete_cmd_prefix": "rm(",
     "library": "var_list.r",
     "varRefreshCmd": "cat(var_dic_list()) "
    }
   },
   "types_to_exclude": [
    "module",
    "function",
    "builtin_function_or_method",
    "instance",
    "_Feature"
   ],
   "window_display": false
  }
 },
 "nbformat": 4,
 "nbformat_minor": 4
}
