{
 "cells": [
  {
   "cell_type": "markdown",
   "metadata": {
    "toc": true
   },
   "source": [
    "<h1>Table of Contents<span class=\"tocSkip\"></span></h1>\n",
    "<div class=\"toc\"><ul class=\"toc-item\"><li><span><a href=\"#Load-Data\" data-toc-modified-id=\"Load-Data-1\"><span class=\"toc-item-num\">1&nbsp;&nbsp;</span>Load Data</a></span></li><li><span><a href=\"#Seperating-Email-Elements\" data-toc-modified-id=\"Seperating-Email-Elements-2\"><span class=\"toc-item-num\">2&nbsp;&nbsp;</span>Seperating Email Elements</a></span><ul class=\"toc-item\"><li><span><a href=\"#Test-Email-parser\" data-toc-modified-id=\"Test-Email-parser-2.1\"><span class=\"toc-item-num\">2.1&nbsp;&nbsp;</span>Test Email parser</a></span></li><li><span><a href=\"#Elements-to-save\" data-toc-modified-id=\"Elements-to-save-2.2\"><span class=\"toc-item-num\">2.2&nbsp;&nbsp;</span>Elements to save</a></span></li><li><span><a href=\"#Combine-the-Data\" data-toc-modified-id=\"Combine-the-Data-2.3\"><span class=\"toc-item-num\">2.3&nbsp;&nbsp;</span>Combine the Data</a></span><ul class=\"toc-item\"><li><span><a href=\"#Save-Combined-Data\" data-toc-modified-id=\"Save-Combined-Data-2.3.1\"><span class=\"toc-item-num\">2.3.1&nbsp;&nbsp;</span>Save Combined Data</a></span></li></ul></li></ul></li><li><span><a href=\"#To-Do-List\" data-toc-modified-id=\"To-Do-List-3\"><span class=\"toc-item-num\">3&nbsp;&nbsp;</span>To Do List</a></span></li><li><span><a href=\"#Sandbox\" data-toc-modified-id=\"Sandbox-4\"><span class=\"toc-item-num\">4&nbsp;&nbsp;</span>Sandbox</a></span></li></ul></div>"
   ]
  },
  {
   "cell_type": "code",
   "execution_count": 1,
   "metadata": {},
   "outputs": [],
   "source": [
    "# Imports\n",
    "## wrangling\n",
    "import pandas as pd\n",
    "import numpy as np\n",
    "\n",
    "# OS agnostic path handling\n",
    "from os.path import relpath\n",
    "\n",
    "# email parsing\n",
    "from email.parser import Parser\n",
    "import re\n",
    "\n",
    "# NLP\n",
    "\n",
    "\n",
    "# plotting \n",
    "import matplotlib.pyplot as plt\n",
    "import seaborn as sb\n",
    "\n",
    "sb.set(style=\"whitegrid\") # help plots show cleaner in darkmode"
   ]
  },
  {
   "cell_type": "markdown",
   "metadata": {},
   "source": [
    "# Load Data"
   ]
  },
  {
   "cell_type": "code",
   "execution_count": 2,
   "metadata": {},
   "outputs": [],
   "source": [
    "emails = pd.read_csv(relpath(\"../data/emails.csv\"))"
   ]
  },
  {
   "cell_type": "code",
   "execution_count": 3,
   "metadata": {},
   "outputs": [
    {
     "data": {
      "text/html": [
       "<div>\n",
       "<style scoped>\n",
       "    .dataframe tbody tr th:only-of-type {\n",
       "        vertical-align: middle;\n",
       "    }\n",
       "\n",
       "    .dataframe tbody tr th {\n",
       "        vertical-align: top;\n",
       "    }\n",
       "\n",
       "    .dataframe thead th {\n",
       "        text-align: right;\n",
       "    }\n",
       "</style>\n",
       "<table border=\"1\" class=\"dataframe\">\n",
       "  <thead>\n",
       "    <tr style=\"text-align: right;\">\n",
       "      <th></th>\n",
       "      <th>Path</th>\n",
       "      <th>Content</th>\n",
       "    </tr>\n",
       "  </thead>\n",
       "  <tbody>\n",
       "    <tr>\n",
       "      <th>count</th>\n",
       "      <td>517311</td>\n",
       "      <td>517311</td>\n",
       "    </tr>\n",
       "    <tr>\n",
       "      <th>unique</th>\n",
       "      <td>517311</td>\n",
       "      <td>517311</td>\n",
       "    </tr>\n",
       "    <tr>\n",
       "      <th>top</th>\n",
       "      <td>../data/maildir/kean-s/discussion_threads/2403.</td>\n",
       "      <td>Message-ID: &lt;27010661.1075843650552.JavaMail.e...</td>\n",
       "    </tr>\n",
       "    <tr>\n",
       "      <th>freq</th>\n",
       "      <td>1</td>\n",
       "      <td>1</td>\n",
       "    </tr>\n",
       "  </tbody>\n",
       "</table>\n",
       "</div>"
      ],
      "text/plain": [
       "                                                   Path  \\\n",
       "count                                            517311   \n",
       "unique                                           517311   \n",
       "top     ../data/maildir/kean-s/discussion_threads/2403.   \n",
       "freq                                                  1   \n",
       "\n",
       "                                                  Content  \n",
       "count                                              517311  \n",
       "unique                                             517311  \n",
       "top     Message-ID: <27010661.1075843650552.JavaMail.e...  \n",
       "freq                                                    1  "
      ]
     },
     "execution_count": 3,
     "metadata": {},
     "output_type": "execute_result"
    }
   ],
   "source": [
    "emails.describe()"
   ]
  },
  {
   "cell_type": "code",
   "execution_count": 4,
   "metadata": {
    "scrolled": true
   },
   "outputs": [
    {
     "data": {
      "text/html": [
       "<div>\n",
       "<style scoped>\n",
       "    .dataframe tbody tr th:only-of-type {\n",
       "        vertical-align: middle;\n",
       "    }\n",
       "\n",
       "    .dataframe tbody tr th {\n",
       "        vertical-align: top;\n",
       "    }\n",
       "\n",
       "    .dataframe thead th {\n",
       "        text-align: right;\n",
       "    }\n",
       "</style>\n",
       "<table border=\"1\" class=\"dataframe\">\n",
       "  <thead>\n",
       "    <tr style=\"text-align: right;\">\n",
       "      <th></th>\n",
       "      <th>Path</th>\n",
       "      <th>Content</th>\n",
       "    </tr>\n",
       "  </thead>\n",
       "  <tbody>\n",
       "    <tr>\n",
       "      <th>0</th>\n",
       "      <td>../data/maildir/steffes-j/congress/3.</td>\n",
       "      <td>Message-ID: &lt;32259334.1075852468311.JavaMail.e...</td>\n",
       "    </tr>\n",
       "    <tr>\n",
       "      <th>1</th>\n",
       "      <td>../data/maildir/steffes-j/congress/5.</td>\n",
       "      <td>Message-ID: &lt;16152007.1075852468365.JavaMail.e...</td>\n",
       "    </tr>\n",
       "    <tr>\n",
       "      <th>2</th>\n",
       "      <td>../data/maildir/steffes-j/congress/2.</td>\n",
       "      <td>Message-ID: &lt;26474922.1075852468285.JavaMail.e...</td>\n",
       "    </tr>\n",
       "    <tr>\n",
       "      <th>3</th>\n",
       "      <td>../data/maildir/steffes-j/congress/4.</td>\n",
       "      <td>Message-ID: &lt;10118998.1075852468340.JavaMail.e...</td>\n",
       "    </tr>\n",
       "    <tr>\n",
       "      <th>4</th>\n",
       "      <td>../data/maildir/steffes-j/congress/15.</td>\n",
       "      <td>Message-ID: &lt;24576280.1075861591387.JavaMail.e...</td>\n",
       "    </tr>\n",
       "  </tbody>\n",
       "</table>\n",
       "</div>"
      ],
      "text/plain": [
       "                                     Path  \\\n",
       "0   ../data/maildir/steffes-j/congress/3.   \n",
       "1   ../data/maildir/steffes-j/congress/5.   \n",
       "2   ../data/maildir/steffes-j/congress/2.   \n",
       "3   ../data/maildir/steffes-j/congress/4.   \n",
       "4  ../data/maildir/steffes-j/congress/15.   \n",
       "\n",
       "                                             Content  \n",
       "0  Message-ID: <32259334.1075852468311.JavaMail.e...  \n",
       "1  Message-ID: <16152007.1075852468365.JavaMail.e...  \n",
       "2  Message-ID: <26474922.1075852468285.JavaMail.e...  \n",
       "3  Message-ID: <10118998.1075852468340.JavaMail.e...  \n",
       "4  Message-ID: <24576280.1075861591387.JavaMail.e...  "
      ]
     },
     "execution_count": 4,
     "metadata": {},
     "output_type": "execute_result"
    }
   ],
   "source": [
    "emails.head(5)"
   ]
  },
  {
   "cell_type": "markdown",
   "metadata": {},
   "source": [
    "# Seperating Email Elements\n",
    "For analysis I will need to seperate the different email fields and body from eachother in the `Content` column. To do this I will use a ready built email parser though the same could be done with regex."
   ]
  },
  {
   "cell_type": "markdown",
   "metadata": {},
   "source": [
    "## Test Email parser"
   ]
  },
  {
   "cell_type": "code",
   "execution_count": 5,
   "metadata": {},
   "outputs": [
    {
     "data": {
      "text/plain": [
       "['Message-ID',\n",
       " 'Date',\n",
       " 'From',\n",
       " 'To',\n",
       " 'Subject',\n",
       " 'Mime-Version',\n",
       " 'Content-Type',\n",
       " 'Content-Transfer-Encoding',\n",
       " 'X-From',\n",
       " 'X-To',\n",
       " 'X-cc',\n",
       " 'X-bcc',\n",
       " 'X-Folder',\n",
       " 'X-Origin',\n",
       " 'X-FileName']"
      ]
     },
     "execution_count": 5,
     "metadata": {},
     "output_type": "execute_result"
    }
   ],
   "source": [
    "# my parser function\n",
    "parse_email = Parser().parsestr\n",
    "\n",
    "test_email = emails[\"Content\"][0]\n",
    "test_parsed = parse_email(test_email)\n",
    "test_parsed.keys()"
   ]
  },
  {
   "cell_type": "markdown",
   "metadata": {},
   "source": [
    "I have access to most of the main field in the email, with the notable exception of the body.\n",
    "The body can be accessed with:"
   ]
  },
  {
   "cell_type": "code",
   "execution_count": 6,
   "metadata": {
    "scrolled": true
   },
   "outputs": [
    {
     "data": {
      "text/plain": [
       "'\\nI have read through the 19 pages of Administration comments on the Bingaman draft electricity bill released last month.  Here are the main items in a quick bullet format so you have the flavor of them.\\n\\nDelete provision on federal jurisdiction over bundled/unbundled (they don\\'t offer a reason).  We of course agree for tactical reasons.\\n\\nAdd a provision to authorize FERC to order wheeling in States that open retail markets.\\n\\nAdd a provision to allow FERC to issue wheeling orders on its own motion based on an informal hearing rather than an adjudicatory hearing as under current law.\\n\\nMake it clear that the Federal Power Act does not affect the authority of a State to require retail competition (the comments say some utilities have tried to argue that the FPA prohibits states).\\n\\nThe provision giving FERC power to order RTO participation should be deleted.  The comments raise drafting question.\\n\\nThe changes to the FERC merger review sections of the FPA should be limited.\\n\\n\"FERC lite\" should be extended only to state municipal utilities and cooperatives, not the Federal utilities.  The FERC should authority over the Federal transmission systems equivalent to FERC authority over public utilities (with special BPA rules).\\n\\nNo need to legislate on market-based rates (we oppose the Bingaman language anyway, so this is helpful).\\n\\nInterconnection language should be limited to transmission facilities, not local distribution.\\n\\nNo objection to streamlined reliability provision (this is good for us).\\n\\nRemedial measures for market power should be deleted.\\n\\nAdministration to provide legislative language on federal transmission siting provisions, which they want to retain.\\n\\nNot convinced there is a need for market transparency rules because FERC and DOE already have enough authority.\\n\\nAdministration supports even tougher criminal penalties.\\n\\nRecordkeeping under PUHCA repeal should be clarified.\\n\\nFederal purchase requirement for renewable energy should be deleted.\\n\\nNo objection to real-time pricing standard.\\n\\nNet metering should be limited to small residential renewable facilities.\\n\\nDo not support federal renewable portfolio standard (but could clarify state authority to adopt same).\\n'"
      ]
     },
     "execution_count": 6,
     "metadata": {},
     "output_type": "execute_result"
    }
   ],
   "source": [
    "test_parsed.get_payload()"
   ]
  },
  {
   "cell_type": "markdown",
   "metadata": {},
   "source": [
    "There are still `\\n` newline characters present here which will likely need to be handled before\n",
    "further analysis."
   ]
  },
  {
   "cell_type": "markdown",
   "metadata": {},
   "source": [
    "## Elements to save\n",
    "Likely list of candidates worth exracting for later anaysis are:\n",
    "- From\n",
    "- To\n",
    "- Subject\n",
    "- Body\n",
    "\n",
    "Which I will do below."
   ]
  },
  {
   "cell_type": "code",
   "execution_count": 7,
   "metadata": {},
   "outputs": [
    {
     "data": {
      "text/plain": [
       "(517311, 2)"
      ]
     },
     "execution_count": 7,
     "metadata": {},
     "output_type": "execute_result"
    }
   ],
   "source": [
    "emails.shape"
   ]
  },
  {
   "cell_type": "code",
   "execution_count": 8,
   "metadata": {},
   "outputs": [],
   "source": [
    "nrow = emails.shape[0]\n",
    "\n",
    "# specify empty lists with explicit length \n",
    "from_list = [None] * nrow\n",
    "to_list = [None] * nrow\n",
    "subject_list = [None] * nrow\n",
    "body_list = [None] * nrow\n",
    "\n",
    "# loop and store email elements in above lists\n",
    "for i, content in enumerate(emails[\"Content\"]):\n",
    "    email = parse_email(content)\n",
    "    from_list[i] = email[\"From\"]\n",
    "    to_list [i] = email[\"To\"]\n",
    "    subject_list [i] = email[\"Subject\"]\n",
    "    body = email.get_payload()\n",
    "    # cleanup body\n",
    "    body = re.sub(\"\\n\", \"\", body) #  remove newline chars\n",
    "    body_list [i] = body\n",
    "\n",
    "email_contents = pd.DataFrame({\"From\" : from_list, \"To\" : to_list, \n",
    "                               \"Subject\" : subject_list, \"Body\" : body_list})"
   ]
  },
  {
   "cell_type": "code",
   "execution_count": 9,
   "metadata": {},
   "outputs": [
    {
     "data": {
      "text/html": [
       "<div>\n",
       "<style scoped>\n",
       "    .dataframe tbody tr th:only-of-type {\n",
       "        vertical-align: middle;\n",
       "    }\n",
       "\n",
       "    .dataframe tbody tr th {\n",
       "        vertical-align: top;\n",
       "    }\n",
       "\n",
       "    .dataframe thead th {\n",
       "        text-align: right;\n",
       "    }\n",
       "</style>\n",
       "<table border=\"1\" class=\"dataframe\">\n",
       "  <thead>\n",
       "    <tr style=\"text-align: right;\">\n",
       "      <th></th>\n",
       "      <th>From</th>\n",
       "      <th>To</th>\n",
       "      <th>Subject</th>\n",
       "      <th>Body</th>\n",
       "    </tr>\n",
       "  </thead>\n",
       "  <tbody>\n",
       "    <tr>\n",
       "      <th>count</th>\n",
       "      <td>517311</td>\n",
       "      <td>495466</td>\n",
       "      <td>517311</td>\n",
       "      <td>517311</td>\n",
       "    </tr>\n",
       "    <tr>\n",
       "      <th>unique</th>\n",
       "      <td>20313</td>\n",
       "      <td>58527</td>\n",
       "      <td>159239</td>\n",
       "      <td>247119</td>\n",
       "    </tr>\n",
       "    <tr>\n",
       "      <th>top</th>\n",
       "      <td>kay.mann@enron.com</td>\n",
       "      <td>pete.davis@enron.com</td>\n",
       "      <td></td>\n",
       "      <td>As you know, Enron Net Works (ENW) and Enron G...</td>\n",
       "    </tr>\n",
       "    <tr>\n",
       "      <th>freq</th>\n",
       "      <td>16735</td>\n",
       "      <td>9155</td>\n",
       "      <td>19187</td>\n",
       "      <td>112</td>\n",
       "    </tr>\n",
       "  </tbody>\n",
       "</table>\n",
       "</div>"
      ],
      "text/plain": [
       "                      From                    To Subject  \\\n",
       "count               517311                495466  517311   \n",
       "unique               20313                 58527  159239   \n",
       "top     kay.mann@enron.com  pete.davis@enron.com           \n",
       "freq                 16735                  9155   19187   \n",
       "\n",
       "                                                     Body  \n",
       "count                                              517311  \n",
       "unique                                             247119  \n",
       "top     As you know, Enron Net Works (ENW) and Enron G...  \n",
       "freq                                                  112  "
      ]
     },
     "execution_count": 9,
     "metadata": {},
     "output_type": "execute_result"
    }
   ],
   "source": [
    "email_contents.describe()"
   ]
  },
  {
   "cell_type": "markdown",
   "metadata": {},
   "source": [
    "## Combine the Data\n",
    "To combine the newly parsed data with the file path labels from the initial data set"
   ]
  },
  {
   "cell_type": "code",
   "execution_count": 10,
   "metadata": {},
   "outputs": [],
   "source": [
    "new_dataframe = pd.concat([emails[\"Path\"], email_contents], axis=1)\n"
   ]
  },
  {
   "cell_type": "code",
   "execution_count": 11,
   "metadata": {},
   "outputs": [
    {
     "data": {
      "text/html": [
       "<div>\n",
       "<style scoped>\n",
       "    .dataframe tbody tr th:only-of-type {\n",
       "        vertical-align: middle;\n",
       "    }\n",
       "\n",
       "    .dataframe tbody tr th {\n",
       "        vertical-align: top;\n",
       "    }\n",
       "\n",
       "    .dataframe thead th {\n",
       "        text-align: right;\n",
       "    }\n",
       "</style>\n",
       "<table border=\"1\" class=\"dataframe\">\n",
       "  <thead>\n",
       "    <tr style=\"text-align: right;\">\n",
       "      <th></th>\n",
       "      <th>Path</th>\n",
       "      <th>From</th>\n",
       "      <th>To</th>\n",
       "      <th>Subject</th>\n",
       "      <th>Body</th>\n",
       "    </tr>\n",
       "  </thead>\n",
       "  <tbody>\n",
       "    <tr>\n",
       "      <th>count</th>\n",
       "      <td>517311</td>\n",
       "      <td>517311</td>\n",
       "      <td>495466</td>\n",
       "      <td>517311</td>\n",
       "      <td>517311</td>\n",
       "    </tr>\n",
       "    <tr>\n",
       "      <th>unique</th>\n",
       "      <td>517311</td>\n",
       "      <td>20313</td>\n",
       "      <td>58527</td>\n",
       "      <td>159239</td>\n",
       "      <td>247119</td>\n",
       "    </tr>\n",
       "    <tr>\n",
       "      <th>top</th>\n",
       "      <td>../data/maildir/kean-s/discussion_threads/2403.</td>\n",
       "      <td>kay.mann@enron.com</td>\n",
       "      <td>pete.davis@enron.com</td>\n",
       "      <td></td>\n",
       "      <td>As you know, Enron Net Works (ENW) and Enron G...</td>\n",
       "    </tr>\n",
       "    <tr>\n",
       "      <th>freq</th>\n",
       "      <td>1</td>\n",
       "      <td>16735</td>\n",
       "      <td>9155</td>\n",
       "      <td>19187</td>\n",
       "      <td>112</td>\n",
       "    </tr>\n",
       "  </tbody>\n",
       "</table>\n",
       "</div>"
      ],
      "text/plain": [
       "                                                   Path                From  \\\n",
       "count                                            517311              517311   \n",
       "unique                                           517311               20313   \n",
       "top     ../data/maildir/kean-s/discussion_threads/2403.  kay.mann@enron.com   \n",
       "freq                                                  1               16735   \n",
       "\n",
       "                          To Subject  \\\n",
       "count                 495466  517311   \n",
       "unique                 58527  159239   \n",
       "top     pete.davis@enron.com           \n",
       "freq                    9155   19187   \n",
       "\n",
       "                                                     Body  \n",
       "count                                              517311  \n",
       "unique                                             247119  \n",
       "top     As you know, Enron Net Works (ENW) and Enron G...  \n",
       "freq                                                  112  "
      ]
     },
     "execution_count": 11,
     "metadata": {},
     "output_type": "execute_result"
    }
   ],
   "source": [
    "new_dataframe.describe()"
   ]
  },
  {
   "cell_type": "code",
   "execution_count": 12,
   "metadata": {},
   "outputs": [
    {
     "data": {
      "text/html": [
       "<div>\n",
       "<style scoped>\n",
       "    .dataframe tbody tr th:only-of-type {\n",
       "        vertical-align: middle;\n",
       "    }\n",
       "\n",
       "    .dataframe tbody tr th {\n",
       "        vertical-align: top;\n",
       "    }\n",
       "\n",
       "    .dataframe thead th {\n",
       "        text-align: right;\n",
       "    }\n",
       "</style>\n",
       "<table border=\"1\" class=\"dataframe\">\n",
       "  <thead>\n",
       "    <tr style=\"text-align: right;\">\n",
       "      <th></th>\n",
       "      <th>Path</th>\n",
       "      <th>From</th>\n",
       "      <th>To</th>\n",
       "      <th>Subject</th>\n",
       "      <th>Body</th>\n",
       "    </tr>\n",
       "  </thead>\n",
       "  <tbody>\n",
       "    <tr>\n",
       "      <th>0</th>\n",
       "      <td>../data/maildir/steffes-j/congress/3.</td>\n",
       "      <td>john.shelk@enron.com</td>\n",
       "      <td>richard.shapiro@enron.com, linda.robertson@enr...</td>\n",
       "      <td>Summary of Administration Comments on Bingaman...</td>\n",
       "      <td>I have read through the 19 pages of Administra...</td>\n",
       "    </tr>\n",
       "    <tr>\n",
       "      <th>1</th>\n",
       "      <td>../data/maildir/steffes-j/congress/5.</td>\n",
       "      <td>john.shelk@enron.com</td>\n",
       "      <td>richard.shapiro@enron.com, d..steffes@enron.co...</td>\n",
       "      <td>EPSA/EEI on Reliability</td>\n",
       "      <td>This follows up on Rick's inquiry late last we...</td>\n",
       "    </tr>\n",
       "    <tr>\n",
       "      <th>2</th>\n",
       "      <td>../data/maildir/steffes-j/congress/2.</td>\n",
       "      <td>john.shelk@enron.com</td>\n",
       "      <td>charles.yeung@enron.com</td>\n",
       "      <td>Reliability and Security Arguments (RTOs)</td>\n",
       "      <td>This responds to Charles's voice mail and the ...</td>\n",
       "    </tr>\n",
       "    <tr>\n",
       "      <th>3</th>\n",
       "      <td>../data/maildir/steffes-j/congress/4.</td>\n",
       "      <td>john.shelk@enron.com</td>\n",
       "      <td>joe.connor@enron.com, richard.ingersoll@enron....</td>\n",
       "      <td>RE: NERC Statements on Impact of Security Thre...</td>\n",
       "      <td>I agree with Joe.  The IOUs will point to NERC...</td>\n",
       "    </tr>\n",
       "    <tr>\n",
       "      <th>4</th>\n",
       "      <td>../data/maildir/steffes-j/congress/15.</td>\n",
       "      <td>john.shelk@enron.com</td>\n",
       "      <td>d..steffes@enron.com, linda.robertson@enron.co...</td>\n",
       "      <td>Barton Staff Meeting</td>\n",
       "      <td>Yesterday I spent about 45 minutes with the th...</td>\n",
       "    </tr>\n",
       "    <tr>\n",
       "      <th>5</th>\n",
       "      <td>../data/maildir/steffes-j/congress/1.</td>\n",
       "      <td>john.shelk@enron.com</td>\n",
       "      <td>richard.shapiro@enron.com, linda.robertson@enr...</td>\n",
       "      <td>FW: Bingaman reliability draft language</td>\n",
       "      <td>Per Jim's request, below is the text of the si...</td>\n",
       "    </tr>\n",
       "    <tr>\n",
       "      <th>6</th>\n",
       "      <td>../data/maildir/steffes-j/tasks/1.</td>\n",
       "      <td>d..steffes@enron.com</td>\n",
       "      <td>None</td>\n",
       "      <td>Brian Redmond Letter</td>\n",
       "      <td>--------- Inline attachment follows ---------F...</td>\n",
       "    </tr>\n",
       "    <tr>\n",
       "      <th>7</th>\n",
       "      <td>../data/maildir/steffes-j/marketing_affiliate_...</td>\n",
       "      <td>w..cantrell@enron.com</td>\n",
       "      <td>lisa.yoho@enron.com, alan.comnes@enron.com, le...</td>\n",
       "      <td>RE: FERC NOPR on Standards of Conduct for Tran...</td>\n",
       "      <td>In case you haven't already printed out the pr...</td>\n",
       "    </tr>\n",
       "    <tr>\n",
       "      <th>8</th>\n",
       "      <td>../data/maildir/steffes-j/marketing_affiliate_...</td>\n",
       "      <td>jgallagher@epsa.org</td>\n",
       "      <td>carin.nersesian@enron.com, l..nicolay@enron.co...</td>\n",
       "      <td>FERC NOPR on Standards of Conduct for Transmis...</td>\n",
       "      <td>Attached is the FERC Notice of Proposed of Rul...</td>\n",
       "    </tr>\n",
       "    <tr>\n",
       "      <th>9</th>\n",
       "      <td>../data/maildir/steffes-j/ees_mgmt/13.</td>\n",
       "      <td>kathy.dodgen@enron.com</td>\n",
       "      <td>None</td>\n",
       "      <td>Monthly Legal Report</td>\n",
       "      <td>The attached legal report summarizes current s...</td>\n",
       "    </tr>\n",
       "    <tr>\n",
       "      <th>10</th>\n",
       "      <td>../data/maildir/steffes-j/ees_mgmt/14.</td>\n",
       "      <td>40enron@enron.com</td>\n",
       "      <td>egm &lt;.sharp@enron.com&gt;, lily.reynosa@enron.com</td>\n",
       "      <td>CA Lessons Presentation</td>\n",
       "      <td>Jim Steffes asked me to forward the following ...</td>\n",
       "    </tr>\n",
       "    <tr>\n",
       "      <th>11</th>\n",
       "      <td>../data/maildir/steffes-j/ees_mgmt/11.</td>\n",
       "      <td>yolanda.lopez@enron.com</td>\n",
       "      <td>d..steffes@enron.com</td>\n",
       "      <td>Organization Update - EES USA</td>\n",
       "      <td>---------------------- Forwarded by Yolanda Lo...</td>\n",
       "    </tr>\n",
       "    <tr>\n",
       "      <th>12</th>\n",
       "      <td>../data/maildir/steffes-j/ees_mgmt/20.</td>\n",
       "      <td>robert.hemstock@enron.com</td>\n",
       "      <td>richard.shapiro@enron.com, d..steffes@enron.com</td>\n",
       "      <td>Ontario Market Opening Strategy</td>\n",
       "      <td>Guys,Attached is my strategy plan for Ontario ...</td>\n",
       "    </tr>\n",
       "    <tr>\n",
       "      <th>13</th>\n",
       "      <td>../data/maildir/steffes-j/ees_mgmt/3.</td>\n",
       "      <td>kathy.dodgen@enron.com</td>\n",
       "      <td>None</td>\n",
       "      <td>Monthly Legal Report</td>\n",
       "      <td>The attached legal report summarizes current s...</td>\n",
       "    </tr>\n",
       "    <tr>\n",
       "      <th>14</th>\n",
       "      <td>../data/maildir/steffes-j/ees_mgmt/6.</td>\n",
       "      <td>katherine.benedict@enron.com</td>\n",
       "      <td>None</td>\n",
       "      <td>Lost/Closed Deals Summary - All Markets</td>\n",
       "      <td>Attached below, please find the \"All Markets L...</td>\n",
       "    </tr>\n",
       "    <tr>\n",
       "      <th>15</th>\n",
       "      <td>../data/maildir/steffes-j/ees_mgmt/8.</td>\n",
       "      <td>karen.cutler@enron.com</td>\n",
       "      <td>executive.committee@enron.com, operating.commi...</td>\n",
       "      <td>Weekly Power &amp; Gas Reports</td>\n",
       "      <td>The Power Deal Ticket report and the Weekly Ga...</td>\n",
       "    </tr>\n",
       "    <tr>\n",
       "      <th>16</th>\n",
       "      <td>../data/maildir/steffes-j/ees_mgmt/12.</td>\n",
       "      <td>chris.abel@enron.com</td>\n",
       "      <td>andrew.conner@enron.com, andrea.dahlke@enron.c...</td>\n",
       "      <td>Rollout of New and Improved Executive Reports ...</td>\n",
       "      <td>\\t\\t\\t\\t\\t\\t     GLOBAL RISK MANAGEMENT OPERAT...</td>\n",
       "    </tr>\n",
       "    <tr>\n",
       "      <th>17</th>\n",
       "      <td>../data/maildir/steffes-j/ees_mgmt/10.</td>\n",
       "      <td>dan.leff@enron.com</td>\n",
       "      <td>john.lavorato@enron.com, tim.belden@enron.com,...</td>\n",
       "      <td>EES-USA</td>\n",
       "      <td>Attached is a diagram, which functionally lays...</td>\n",
       "    </tr>\n",
       "    <tr>\n",
       "      <th>18</th>\n",
       "      <td>../data/maildir/steffes-j/ees_mgmt/5.</td>\n",
       "      <td>ldcolburn@mediaone.net</td>\n",
       "      <td>jsteffe@enron.com</td>\n",
       "      <td>Xenergy's REM 2001</td>\n",
       "      <td>Dear Jim,=20=20Sometime within the past week y...</td>\n",
       "    </tr>\n",
       "    <tr>\n",
       "      <th>19</th>\n",
       "      <td>../data/maildir/steffes-j/ees_mgmt/7.</td>\n",
       "      <td>kathy.dodgen@enron.com</td>\n",
       "      <td>distribution@enron.com</td>\n",
       "      <td>Monthly Legal Report</td>\n",
       "      <td>The attached legal report summarizes current s...</td>\n",
       "    </tr>\n",
       "  </tbody>\n",
       "</table>\n",
       "</div>"
      ],
      "text/plain": [
       "                                                 Path  \\\n",
       "0               ../data/maildir/steffes-j/congress/3.   \n",
       "1               ../data/maildir/steffes-j/congress/5.   \n",
       "2               ../data/maildir/steffes-j/congress/2.   \n",
       "3               ../data/maildir/steffes-j/congress/4.   \n",
       "4              ../data/maildir/steffes-j/congress/15.   \n",
       "5               ../data/maildir/steffes-j/congress/1.   \n",
       "6                  ../data/maildir/steffes-j/tasks/1.   \n",
       "7   ../data/maildir/steffes-j/marketing_affiliate_...   \n",
       "8   ../data/maildir/steffes-j/marketing_affiliate_...   \n",
       "9              ../data/maildir/steffes-j/ees_mgmt/13.   \n",
       "10             ../data/maildir/steffes-j/ees_mgmt/14.   \n",
       "11             ../data/maildir/steffes-j/ees_mgmt/11.   \n",
       "12             ../data/maildir/steffes-j/ees_mgmt/20.   \n",
       "13              ../data/maildir/steffes-j/ees_mgmt/3.   \n",
       "14              ../data/maildir/steffes-j/ees_mgmt/6.   \n",
       "15              ../data/maildir/steffes-j/ees_mgmt/8.   \n",
       "16             ../data/maildir/steffes-j/ees_mgmt/12.   \n",
       "17             ../data/maildir/steffes-j/ees_mgmt/10.   \n",
       "18              ../data/maildir/steffes-j/ees_mgmt/5.   \n",
       "19              ../data/maildir/steffes-j/ees_mgmt/7.   \n",
       "\n",
       "                            From  \\\n",
       "0           john.shelk@enron.com   \n",
       "1           john.shelk@enron.com   \n",
       "2           john.shelk@enron.com   \n",
       "3           john.shelk@enron.com   \n",
       "4           john.shelk@enron.com   \n",
       "5           john.shelk@enron.com   \n",
       "6           d..steffes@enron.com   \n",
       "7          w..cantrell@enron.com   \n",
       "8            jgallagher@epsa.org   \n",
       "9         kathy.dodgen@enron.com   \n",
       "10             40enron@enron.com   \n",
       "11       yolanda.lopez@enron.com   \n",
       "12     robert.hemstock@enron.com   \n",
       "13        kathy.dodgen@enron.com   \n",
       "14  katherine.benedict@enron.com   \n",
       "15        karen.cutler@enron.com   \n",
       "16          chris.abel@enron.com   \n",
       "17            dan.leff@enron.com   \n",
       "18        ldcolburn@mediaone.net   \n",
       "19        kathy.dodgen@enron.com   \n",
       "\n",
       "                                                   To  \\\n",
       "0   richard.shapiro@enron.com, linda.robertson@enr...   \n",
       "1   richard.shapiro@enron.com, d..steffes@enron.co...   \n",
       "2                             charles.yeung@enron.com   \n",
       "3   joe.connor@enron.com, richard.ingersoll@enron....   \n",
       "4   d..steffes@enron.com, linda.robertson@enron.co...   \n",
       "5   richard.shapiro@enron.com, linda.robertson@enr...   \n",
       "6                                                None   \n",
       "7   lisa.yoho@enron.com, alan.comnes@enron.com, le...   \n",
       "8   carin.nersesian@enron.com, l..nicolay@enron.co...   \n",
       "9                                                None   \n",
       "10     egm <.sharp@enron.com>, lily.reynosa@enron.com   \n",
       "11                               d..steffes@enron.com   \n",
       "12    richard.shapiro@enron.com, d..steffes@enron.com   \n",
       "13                                               None   \n",
       "14                                               None   \n",
       "15  executive.committee@enron.com, operating.commi...   \n",
       "16  andrew.conner@enron.com, andrea.dahlke@enron.c...   \n",
       "17  john.lavorato@enron.com, tim.belden@enron.com,...   \n",
       "18                                  jsteffe@enron.com   \n",
       "19                             distribution@enron.com   \n",
       "\n",
       "                                              Subject  \\\n",
       "0   Summary of Administration Comments on Bingaman...   \n",
       "1                             EPSA/EEI on Reliability   \n",
       "2           Reliability and Security Arguments (RTOs)   \n",
       "3   RE: NERC Statements on Impact of Security Thre...   \n",
       "4                                Barton Staff Meeting   \n",
       "5             FW: Bingaman reliability draft language   \n",
       "6                                Brian Redmond Letter   \n",
       "7   RE: FERC NOPR on Standards of Conduct for Tran...   \n",
       "8   FERC NOPR on Standards of Conduct for Transmis...   \n",
       "9                                Monthly Legal Report   \n",
       "10                            CA Lessons Presentation   \n",
       "11                      Organization Update - EES USA   \n",
       "12                    Ontario Market Opening Strategy   \n",
       "13                               Monthly Legal Report   \n",
       "14            Lost/Closed Deals Summary - All Markets   \n",
       "15                         Weekly Power & Gas Reports   \n",
       "16  Rollout of New and Improved Executive Reports ...   \n",
       "17                                            EES-USA   \n",
       "18                                 Xenergy's REM 2001   \n",
       "19                               Monthly Legal Report   \n",
       "\n",
       "                                                 Body  \n",
       "0   I have read through the 19 pages of Administra...  \n",
       "1   This follows up on Rick's inquiry late last we...  \n",
       "2   This responds to Charles's voice mail and the ...  \n",
       "3   I agree with Joe.  The IOUs will point to NERC...  \n",
       "4   Yesterday I spent about 45 minutes with the th...  \n",
       "5   Per Jim's request, below is the text of the si...  \n",
       "6   --------- Inline attachment follows ---------F...  \n",
       "7   In case you haven't already printed out the pr...  \n",
       "8   Attached is the FERC Notice of Proposed of Rul...  \n",
       "9   The attached legal report summarizes current s...  \n",
       "10  Jim Steffes asked me to forward the following ...  \n",
       "11  ---------------------- Forwarded by Yolanda Lo...  \n",
       "12  Guys,Attached is my strategy plan for Ontario ...  \n",
       "13  The attached legal report summarizes current s...  \n",
       "14  Attached below, please find the \"All Markets L...  \n",
       "15  The Power Deal Ticket report and the Weekly Ga...  \n",
       "16  \\t\\t\\t\\t\\t\\t     GLOBAL RISK MANAGEMENT OPERAT...  \n",
       "17  Attached is a diagram, which functionally lays...  \n",
       "18  Dear Jim,=20=20Sometime within the past week y...  \n",
       "19  The attached legal report summarizes current s...  "
      ]
     },
     "execution_count": 12,
     "metadata": {},
     "output_type": "execute_result"
    }
   ],
   "source": [
    "new_dataframe.head(20)"
   ]
  },
  {
   "cell_type": "markdown",
   "metadata": {},
   "source": [
    "Is clear that there are some `None` values in the `To` field.  This appears to be because of the emails being sent company wide or similar via \"Distribution@ENRON\" in the `X-To` Field."
   ]
  },
  {
   "cell_type": "markdown",
   "metadata": {},
   "source": [
    "### Save Combined Data"
   ]
  },
  {
   "cell_type": "code",
   "execution_count": 13,
   "metadata": {},
   "outputs": [],
   "source": [
    "new_dataframe.to_csv(relpath(\"../data/email_fields.csv\"))"
   ]
  },
  {
   "cell_type": "markdown",
   "metadata": {},
   "source": [
    "# To Do List\n",
    "- Assess emails with encoding error that are currently excluded"
   ]
  },
  {
   "cell_type": "markdown",
   "metadata": {},
   "source": [
    "# Sandbox\n",
    "A testing ground for code"
   ]
  },
  {
   "cell_type": "code",
   "execution_count": 14,
   "metadata": {},
   "outputs": [
    {
     "ename": "SyntaxError",
     "evalue": "'break' outside loop (<ipython-input-14-6aaf1f276005>, line 1)",
     "output_type": "error",
     "traceback": [
      "\u001b[0;36m  File \u001b[0;32m\"<ipython-input-14-6aaf1f276005>\"\u001b[0;36m, line \u001b[0;32m1\u001b[0m\n\u001b[0;31m    break\u001b[0m\n\u001b[0m    ^\u001b[0m\n\u001b[0;31mSyntaxError\u001b[0m\u001b[0;31m:\u001b[0m 'break' outside loop\n"
     ]
    }
   ],
   "source": [
    "break"
   ]
  },
  {
   "cell_type": "code",
   "execution_count": null,
   "metadata": {},
   "outputs": [],
   "source": [
    "test = parse_email(emails[\"Content\"][0])\n",
    "test.keys()"
   ]
  },
  {
   "cell_type": "code",
   "execution_count": null,
   "metadata": {},
   "outputs": [],
   "source": [
    "test[\"From\"]"
   ]
  },
  {
   "cell_type": "code",
   "execution_count": null,
   "metadata": {},
   "outputs": [],
   "source": [
    "import re\n",
    "re.sub(\"\\n\", \"\", test.get_payload())"
   ]
  },
  {
   "cell_type": "code",
   "execution_count": null,
   "metadata": {},
   "outputs": [],
   "source": [
    "emails[\"Path\"][0]"
   ]
  },
  {
   "cell_type": "code",
   "execution_count": null,
   "metadata": {},
   "outputs": [],
   "source": []
  }
 ],
 "metadata": {
  "kernelspec": {
   "display_name": "Python 3",
   "language": "python",
   "name": "python3"
  },
  "language_info": {
   "codemirror_mode": {
    "name": "ipython",
    "version": 3
   },
   "file_extension": ".py",
   "mimetype": "text/x-python",
   "name": "python",
   "nbconvert_exporter": "python",
   "pygments_lexer": "ipython3",
   "version": "3.8.5"
  },
  "toc": {
   "base_numbering": 1,
   "nav_menu": {},
   "number_sections": true,
   "sideBar": true,
   "skip_h1_title": false,
   "title_cell": "Table of Contents",
   "title_sidebar": "Contents",
   "toc_cell": true,
   "toc_position": {},
   "toc_section_display": true,
   "toc_window_display": true
  },
  "varInspector": {
   "cols": {
    "lenName": 16,
    "lenType": 16,
    "lenVar": 40
   },
   "kernels_config": {
    "python": {
     "delete_cmd_postfix": "",
     "delete_cmd_prefix": "del ",
     "library": "var_list.py",
     "varRefreshCmd": "print(var_dic_list())"
    },
    "r": {
     "delete_cmd_postfix": ") ",
     "delete_cmd_prefix": "rm(",
     "library": "var_list.r",
     "varRefreshCmd": "cat(var_dic_list()) "
    }
   },
   "types_to_exclude": [
    "module",
    "function",
    "builtin_function_or_method",
    "instance",
    "_Feature"
   ],
   "window_display": false
  }
 },
 "nbformat": 4,
 "nbformat_minor": 4
}
