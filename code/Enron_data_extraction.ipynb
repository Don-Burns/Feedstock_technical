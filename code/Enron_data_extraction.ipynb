{
 "cells": [
  {
   "cell_type": "markdown",
   "metadata": {
    "toc": true
   },
   "source": [
    "<h1>Table of Contents<span class=\"tocSkip\"></span></h1>\n",
    "<div class=\"toc\"><ul class=\"toc-item\"><li><span><a href=\"#Summary\" data-toc-modified-id=\"Summary-1\"><span class=\"toc-item-num\">1&nbsp;&nbsp;</span>Summary</a></span></li></ul></div>"
   ]
  },
  {
   "cell_type": "markdown",
   "metadata": {},
   "source": [
    "# Summary\n",
    "Goal is to get the [enron dataset](https://www.cs.cmu.edu/~./enron/) into a processible form, i.e. `.csv` before cleaning and analysis."
   ]
  },
  {
   "cell_type": "code",
   "execution_count": 1,
   "metadata": {},
   "outputs": [],
   "source": [
    "## imports\n",
    "# wrangling\n",
    "import pandas as pd\n",
    "import numpy as np\n",
    "\n",
    "# os agnostic directory handling\n",
    "from os import walk\n",
    "from os.path import relpath, join\n",
    "\n",
    "#plotting\n",
    "import matplotlib.pyplot as plt\n",
    "import seaborn as sb\n",
    "\n",
    "sb.set(style=\"whitegrid\") # to allow graphs to show correctly with dark themes"
   ]
  },
  {
   "cell_type": "code",
   "execution_count": 2,
   "metadata": {},
   "outputs": [
    {
     "name": "stdout",
     "output_type": "stream",
     "text": [
      "Files which caused decoding errors: 91 files \n",
      " ['../data/maildir/beck-s/deleted_items/13.', '../data/maildir/beck-s/deleted_items/38.', '../data/maildir/beck-s/deleted_items/299.', '../data/maildir/beck-s/deleted_items/264.', '../data/maildir/beck-s/deleted_items/91.', '../data/maildir/beck-s/deleted_items/353.', '../data/maildir/beck-s/deleted_items/.38..swp', '../data/maildir/beck-s/deleted_items/48.', '../data/maildir/beck-s/deleted_items/85.', '../data/maildir/beck-s/deleted_items/36.', '../data/maildir/beck-s/inbox/504.', '../data/maildir/beck-s/inbox/704.', '../data/maildir/beck-s/inbox/100.', '../data/maildir/beck-s/inbox/763.', '../data/maildir/beck-s/inbox/708.', '../data/maildir/shapiro-r/deleted_items/221.', '../data/maildir/gay-r/all_documents/82.', '../data/maildir/gay-r/all_documents/59.', '../data/maildir/gay-r/sent/82.', '../data/maildir/gay-r/sent/59.', '../data/maildir/shackleton-s/all_documents/1560.', '../data/maildir/shackleton-s/all_documents/2374.', '../data/maildir/shackleton-s/all_documents/2856.', '../data/maildir/shackleton-s/notes_inbox/1491.', '../data/maildir/shackleton-s/notes_inbox/1701.', '../data/maildir/shackleton-s/stack__shari/3.', '../data/maildir/staab-t/personal/17.', '../data/maildir/dasovich-j/all_documents/29349.', '../data/maildir/dasovich-j/notes_inbox/11527.', '../data/maildir/lay-k/inbox/333.', '../data/maildir/lay-k/inbox/15.', '../data/maildir/lay-k/inbox/533.', '../data/maildir/whalley-g/inbox/60.', '../data/maildir/whalley-g/inbox/390.', '../data/maildir/shankman-j/personal/12.', '../data/maildir/shankman-j/deleted_items/510.', '../data/maildir/shankman-j/saved_mail/1.', '../data/maildir/kitchen-l/_americas/regulatory/113.', '../data/maildir/quigley-d/myfriends/44.', '../data/maildir/quigley-d/myfriends/142.', '../data/maildir/buy-r/deleted_items/84.', '../data/maildir/taylor-m/all_documents/3474.', '../data/maildir/taylor-m/all_documents/2813.', '../data/maildir/taylor-m/all_documents/3452.', '../data/maildir/taylor-m/all_documents/7852.', '../data/maildir/taylor-m/notes_inbox/2425.', '../data/maildir/taylor-m/notes_inbox/1591.', '../data/maildir/taylor-m/notes_inbox/1149.', '../data/maildir/taylor-m/notes_inbox/1606.', '../data/maildir/taylor-m/inbox/social/73.', '../data/maildir/taylor-m/archive/8_00/32.', '../data/maildir/hyatt-k/personal/cars/6.', '../data/maildir/campbell-l/all_documents/1014.', '../data/maildir/campbell-l/discussion_threads/889.', '../data/maildir/campbell-l/notes_inbox/284.', '../data/maildir/horton-s/all_documents/64.', '../data/maildir/horton-s/all_documents/209.', '../data/maildir/horton-s/discussion_threads/198.', '../data/maildir/horton-s/discussion_threads/60.', '../data/maildir/causholli-m/deleted_items/405.', '../data/maildir/causholli-m/deleted_items/55.', '../data/maildir/haedicke-m/all_documents/2313.', '../data/maildir/haedicke-m/notes_inbox/344.', '../data/maildir/haedicke-m/inbox/594.', '../data/maildir/skilling-j/all_documents/385.', '../data/maildir/skilling-j/deleted_items/346.', '../data/maildir/skilling-j/discussion_threads/306.', '../data/maildir/skilling-j/notes_inbox/100.', '../data/maildir/griffith-j/all_documents/565.', '../data/maildir/griffith-j/deleted_items/1175.', '../data/maildir/griffith-j/discussion_threads/535.', '../data/maildir/griffith-j/inbox/66.', '../data/maildir/griffith-j/design/27.', '../data/maildir/kean-s/california___working_group/163.', '../data/maildir/ybarbo-p/deleted_items/91.', '../data/maildir/ybarbo-p/deleted_items/90.', '../data/maildir/ybarbo-p/deleted_items/83.', '../data/maildir/ybarbo-p/inbox/232.', '../data/maildir/ybarbo-p/inbox/163.', '../data/maildir/ybarbo-p/inbox/271.', '../data/maildir/ybarbo-p/inbox/276.', '../data/maildir/ring-a/inbox/9.', '../data/maildir/sanders-r/all_documents/7342.', '../data/maildir/sanders-r/all_documents/7328.', '../data/maildir/sanders-r/all_documents/7334.', '../data/maildir/sanders-r/deleted_items/bastos/4.', '../data/maildir/sanders-r/notes_inbox/312.', '../data/maildir/sanders-r/notes_inbox/313.', '../data/maildir/sanders-r/notes_inbox/315.', '../data/maildir/sanders-r/bastos/4.', '../data/maildir/kaminski-v/sent_items/2524.']\n"
     ]
    }
   ],
   "source": [
    "# get file directories and contents \n",
    "root_dir = relpath(\"../data/maildir/\")\n",
    "paths = []\n",
    "contents = []\n",
    "error_files = []\n",
    "for root, dirs, files in walk(root_dir):\n",
    "    for name in files:\n",
    "        path = join(root, name)\n",
    "        # some files are throwing decoding errors so will skip them for the time being\n",
    "        try:\n",
    "            with open(relpath(path), \"r\", encoding=\"utf-8\") as content:\n",
    "                contents.append(content.read())   \n",
    "            paths.append(path)\n",
    "        except:\n",
    "            error_files.append(path)\n",
    "print(f\"Files which caused decoding errors: {len(error_files)} files \\n {error_files}\")"
   ]
  },
  {
   "cell_type": "code",
   "execution_count": 3,
   "metadata": {},
   "outputs": [
    {
     "data": {
      "text/plain": [
       "True"
      ]
     },
     "execution_count": 3,
     "metadata": {},
     "output_type": "execute_result"
    }
   ],
   "source": [
    "# check both contents and files should line up\n",
    "len(contents) == len(paths)"
   ]
  },
  {
   "cell_type": "code",
   "execution_count": 5,
   "metadata": {},
   "outputs": [],
   "source": [
    "# save output as `.csv`\n",
    "output = pd.DataFrame({\"Path\" : paths, \"Content\" : contents})\n",
    "output.to_csv(relpath(\"../data/emails.csv\"), index=False)\n",
    "# save memory\n",
    "del(contents) \n",
    "del(paths)"
   ]
  },
  {
   "cell_type": "code",
   "execution_count": null,
   "metadata": {},
   "outputs": [],
   "source": [
    "break"
   ]
  },
  {
   "cell_type": "code",
   "execution_count": null,
   "metadata": {},
   "outputs": [],
   "source": [
    "from email.parser import Parser"
   ]
  },
  {
   "cell_type": "code",
   "execution_count": null,
   "metadata": {},
   "outputs": [],
   "source": []
  }
 ],
 "metadata": {
  "kernelspec": {
   "display_name": "Python 3",
   "language": "python",
   "name": "python3"
  },
  "language_info": {
   "codemirror_mode": {
    "name": "ipython",
    "version": 3
   },
   "file_extension": ".py",
   "mimetype": "text/x-python",
   "name": "python",
   "nbconvert_exporter": "python",
   "pygments_lexer": "ipython3",
   "version": "3.8.5"
  },
  "toc": {
   "base_numbering": 1,
   "nav_menu": {},
   "number_sections": true,
   "sideBar": true,
   "skip_h1_title": false,
   "title_cell": "Table of Contents",
   "title_sidebar": "Contents",
   "toc_cell": true,
   "toc_position": {},
   "toc_section_display": true,
   "toc_window_display": true
  },
  "varInspector": {
   "cols": {
    "lenName": 16,
    "lenType": 16,
    "lenVar": 40
   },
   "kernels_config": {
    "python": {
     "delete_cmd_postfix": "",
     "delete_cmd_prefix": "del ",
     "library": "var_list.py",
     "varRefreshCmd": "print(var_dic_list())"
    },
    "r": {
     "delete_cmd_postfix": ") ",
     "delete_cmd_prefix": "rm(",
     "library": "var_list.r",
     "varRefreshCmd": "cat(var_dic_list()) "
    }
   },
   "types_to_exclude": [
    "module",
    "function",
    "builtin_function_or_method",
    "instance",
    "_Feature"
   ],
   "window_display": false
  }
 },
 "nbformat": 4,
 "nbformat_minor": 4
}
